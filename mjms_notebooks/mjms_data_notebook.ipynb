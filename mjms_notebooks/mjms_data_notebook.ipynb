{
 "cells": [
  {
   "cell_type": "markdown",
   "id": "8baa6183-1f4e-4069-8291-db609ae23f18",
   "metadata": {},
   "source": [
    "# Mother Jones Mass Shooting Data Cleaning\n",
    "### Authors: Joe Acosta\n",
    "Imports the initial data collected by the mother jones foundation and cleans the data. The data is currently being imported directly from the website and are being cleaned such that future research can expand on their findings.\n",
    "\n",
    "Mother Jones Initial Data: https://www.motherjones.com/politics/2012/12/mass-shootings-mother-jones-full-data/"
   ]
  },
  {
   "cell_type": "code",
   "execution_count": 1,
   "id": "8b6fa6ae-e98c-4853-9e81-ea6ce28dace9",
   "metadata": {},
   "outputs": [],
   "source": [
    "import pandas as pd\n",
    "import numpy as np\n",
    "# import re"
   ]
  },
  {
   "cell_type": "markdown",
   "id": "fbdeeb8d-9b07-4fed-b55f-61b19fe5f34a",
   "metadata": {},
   "source": [
    "## Initial Data Import\n",
    "Creates a Pandas DataFrame given the link to the initial data.\n",
    "Verifies the data types and corrects any discrepencies."
   ]
  },
  {
   "cell_type": "code",
   "execution_count": 2,
   "id": "74aab1a4-49a0-493e-9022-6877aa78a3e3",
   "metadata": {},
   "outputs": [],
   "source": [
    "mj_url = 'https://docs.google.com/spreadsheets/d/e/2PACX-1vQBEbQoWMn_P81DuwmlQC0_jr2sJDzkkC0mvF6WLcM53ZYXi8RMfUlunvP1B5W0jRrJvH-wc-WGjDB1/pub?gid=0&single=true&output=csv'\n",
    "mjms_df = pd.read_csv(mj_url)"
   ]
  },
  {
   "cell_type": "code",
   "execution_count": 3,
   "id": "d2727240-74a9-4357-8c42-ee322ed26ef2",
   "metadata": {},
   "outputs": [
    {
     "name": "stdout",
     "output_type": "stream",
     "text": [
      "<class 'pandas.core.frame.DataFrame'>\n",
      "RangeIndex: 151 entries, 0 to 150\n",
      "Data columns (total 24 columns):\n",
      " #   Column                            Non-Null Count  Dtype \n",
      "---  ------                            --------------  ----- \n",
      " 0   case                              151 non-null    object\n",
      " 1   location                          151 non-null    object\n",
      " 2   date                              151 non-null    object\n",
      " 3   summary                           151 non-null    object\n",
      " 4   fatalities                        151 non-null    int64 \n",
      " 5   injured                           151 non-null    int64 \n",
      " 6   total_victims                     151 non-null    int64 \n",
      " 7   location.1                        151 non-null    object\n",
      " 8   age_of_shooter                    151 non-null    object\n",
      " 9   prior_signs_mental_health_issues  151 non-null    object\n",
      " 10  mental_health_details             151 non-null    object\n",
      " 11  weapons_obtained_legally          151 non-null    object\n",
      " 12  where_obtained                    151 non-null    object\n",
      " 13  weapon_type                       151 non-null    object\n",
      " 14  weapon_details                    150 non-null    object\n",
      " 15  race                              151 non-null    object\n",
      " 16  gender                            151 non-null    object\n",
      " 17  sources                           151 non-null    object\n",
      " 18  mental_health_sources             151 non-null    object\n",
      " 19  sources_additional_age            151 non-null    object\n",
      " 20  latitude                          151 non-null    object\n",
      " 21  longitude                         151 non-null    object\n",
      " 22  type                              151 non-null    object\n",
      " 23  year                              151 non-null    int64 \n",
      "dtypes: int64(4), object(20)\n",
      "memory usage: 28.4+ KB\n"
     ]
    }
   ],
   "source": [
    "mjms_df.info()"
   ]
  },
  {
   "cell_type": "markdown",
   "id": "18f153b8-6e41-47c2-a1fa-4a8d8a4d50f6",
   "metadata": {},
   "source": [
    "## Data Cleaning"
   ]
  },
  {
   "cell_type": "markdown",
   "id": "235aa6fe-050d-4d74-9d6e-4af963de004d",
   "metadata": {},
   "source": [
    "### Date Data Cleaning\n",
    "There are various formats for the year and there exists a seperate column year. Updates the date format such that it's in mm-dd-yyyy format then drops the year column. Also converts the date to datetime64[ns] type allowing for various date related opperations including sorting by year, month, day, decade, etc."
   ]
  },
  {
   "cell_type": "code",
   "execution_count": 4,
   "id": "e818d844-66d5-4bf9-9469-b114f032f366",
   "metadata": {},
   "outputs": [],
   "source": [
    "def update_year(date, year) :\n",
    "    '''\n",
    "    Updates the date ensuring it's in mm/dd/yyyy format\n",
    "\n",
    "    Parameters:\n",
    "     - date (String): date in mm/dd/yy or mm/dd/yyyy\n",
    "     - year (String): year in yyyy format\n",
    "\n",
    "    Return:\n",
    "     - _date (String): date in the format mm/dd/yyyy\n",
    "    \n",
    "    // Include into the doc created\n",
    "    '''\n",
    "    _month_day = '/'.join(date.split('/')[:2])\n",
    "    _date = _month_day + '/' + year\n",
    "    return _date"
   ]
  },
  {
   "cell_type": "code",
   "execution_count": 5,
   "id": "ffc34762-30a8-41d2-a296-3aecef25a3b5",
   "metadata": {},
   "outputs": [],
   "source": [
    "# Converts date to mm-dd-yyyy using year column\n",
    "mjms_df.date = mjms_df.apply(lambda row: update_year(row.date, str(row.year)), axis=1)\n",
    "\n",
    "# Converts date series to pd date type\n",
    "mjms_df.date = pd.to_datetime(mjms_df.date)\n",
    "\n",
    "# Drops the year column\n",
    "mjms_df = mjms_df.drop('year', axis=1)"
   ]
  },
  {
   "cell_type": "code",
   "execution_count": 6,
   "id": "65b86d47-3fe4-49ff-a719-fd18120fec70",
   "metadata": {},
   "outputs": [
    {
     "data": {
      "text/plain": [
       "75    2015\n",
       "13    2023\n",
       "50    2018\n",
       "Name: date, dtype: int32"
      ]
     },
     "execution_count": 6,
     "metadata": {},
     "output_type": "execute_result"
    }
   ],
   "source": [
    "# Verifies year can get extracted from the date col\n",
    "mjms_df.date.sample(3).dt.year"
   ]
  },
  {
   "cell_type": "markdown",
   "id": "08cf519a-7fc3-4b6a-8393-554d0794d436",
   "metadata": {},
   "source": [
    "### Fatalities Data Cleaning\n",
    "Calculates the total_victims field given the fatalities and injuries fields. The original data ins't a calculated field. This solution prevents human error in the total_victims field so long as the fatalities and injuries fields are accurate."
   ]
  },
  {
   "cell_type": "code",
   "execution_count": 7,
   "id": "34ae3013-e670-407b-b3b7-5d3bc2c15351",
   "metadata": {},
   "outputs": [],
   "source": [
    "mjms_df.total_victims = mjms_df.fatalities + mjms_df.injured"
   ]
  },
  {
   "cell_type": "markdown",
   "id": "850a2a03-4027-4795-859a-b9306a69b143",
   "metadata": {},
   "source": [
    "### Age of Shooter Data Cleaning\n",
    "Cleans the age of shooter. For those cases where there were multiple shooters, the average is taken"
   ]
  },
  {
   "cell_type": "markdown",
   "id": "ab045d3f-5fbe-47ae-8c2f-114bf7ca39c3",
   "metadata": {},
   "source": [
    "#### Verifying missing data\n",
    "Checking for the missing ages that prevent the data from being stored as an int"
   ]
  },
  {
   "cell_type": "code",
   "execution_count": 8,
   "id": "f3b0877e-7120-43b0-8135-8f1243e406e3",
   "metadata": {
    "scrolled": true
   },
   "outputs": [
    {
     "name": "stdout",
     "output_type": "stream",
     "text": [
      "14, 44, 67, 40, 21, 59, 18, 33, 25, 28, 43, 72, 31, 22, 15, 20, 70, 23, 45, -, 57, 19, 51, 36, 24, 32, 46, 26, 54, 29, 38, 17, 47, 37, 64, 39, 27, 34, 42, 41, 52, 16, 48, 66, 11, 35, 55, 50, "
     ]
    }
   ],
   "source": [
    "for i in mjms_df.age_of_shooter.unique() :\n",
    "    print(i, end=', ')"
   ]
  },
  {
   "cell_type": "markdown",
   "id": "5484a2af-fee6-415f-90ca-8e216b1b9686",
   "metadata": {},
   "source": [
    "#### Converts Data to Numeric\n",
    "Replaces all missing values with -1 then converts the Series to numeric (int)"
   ]
  },
  {
   "cell_type": "code",
   "execution_count": 9,
   "id": "549e350f-8010-4076-bced-e5ecfb00e06e",
   "metadata": {},
   "outputs": [],
   "source": [
    "# Replaces missing ages with -1 then converts the column to integer\n",
    "mjms_df.age_of_shooter = mjms_df.age_of_shooter.replace('-', -1)\n",
    "mjms_df.age_of_shooter = pd.to_numeric(mjms_df.age_of_shooter)"
   ]
  },
  {
   "cell_type": "code",
   "execution_count": 10,
   "id": "90e977ce-5fac-4fae-85ba-c2ceb43cd771",
   "metadata": {},
   "outputs": [],
   "source": [
    "pd.set_option('display.max_colwidth', None)"
   ]
  },
  {
   "cell_type": "markdown",
   "id": "c780e161-ed1f-4f0c-b49b-b42d288259fd",
   "metadata": {},
   "source": [
    "#### Identify Data Cases\n",
    "For the data that's missing or wrong, returns the case name to use for updating the ages"
   ]
  },
  {
   "cell_type": "code",
   "execution_count": 11,
   "id": "218707ea-5c27-4d2c-a602-dc32a68f47e0",
   "metadata": {},
   "outputs": [
    {
     "data": {
      "text/html": [
       "<div>\n",
       "<style scoped>\n",
       "    .dataframe tbody tr th:only-of-type {\n",
       "        vertical-align: middle;\n",
       "    }\n",
       "\n",
       "    .dataframe tbody tr th {\n",
       "        vertical-align: top;\n",
       "    }\n",
       "\n",
       "    .dataframe thead th {\n",
       "        text-align: right;\n",
       "    }\n",
       "</style>\n",
       "<table border=\"1\" class=\"dataframe\">\n",
       "  <thead>\n",
       "    <tr style=\"text-align: right;\">\n",
       "      <th></th>\n",
       "      <th>case</th>\n",
       "      <th>summary</th>\n",
       "      <th>age_of_shooter</th>\n",
       "    </tr>\n",
       "  </thead>\n",
       "  <tbody>\n",
       "    <tr>\n",
       "      <th>25</th>\n",
       "      <td>Sacramento County church shooting</td>\n",
       "      <td>\"A man believed to be meeting his three children for a supervised visit at a church just outside Sacramento on Monday afternoon fatally shot the children and an adult accompanying them before killing himself, police officials said. Sheriff Scott Jones of Sacramento County told reporters at the scene that the gunman had a restraining order against him, and that he had to have supervised visits with his children, who were younger than 15.\" (NYTimes)</td>\n",
       "      <td>-1</td>\n",
       "    </tr>\n",
       "    <tr>\n",
       "      <th>34</th>\n",
       "      <td>Jersey City kosher market shooting</td>\n",
       "      <td>David N. Anderson, 47, and Francine Graham, 50, were heavily armed and traveling in a white van when they first killed a police officer in a cemetery, and then opened fire at a kosher market, “fueled both by anti-Semitism and anti-law enforcement beliefs,” according to New Jersey authorities. The pair, linked to the antisemitic ideology of the Black Hebrew Israelites extremist group, were killed after a lenghty gun battle with police at the market.</td>\n",
       "      <td>-1</td>\n",
       "    </tr>\n",
       "  </tbody>\n",
       "</table>\n",
       "</div>"
      ],
      "text/plain": [
       "                                  case  \\\n",
       "25   Sacramento County church shooting   \n",
       "34  Jersey City kosher market shooting   \n",
       "\n",
       "                                                                                                                                                                                                                                                                                                                                                                                                                                                                 summary  \\\n",
       "25   \"A man believed to be meeting his three children for a supervised visit at a church just outside Sacramento on Monday afternoon fatally shot the children and an adult accompanying them before killing himself, police officials said. Sheriff Scott Jones of Sacramento County told reporters at the scene that the gunman had a restraining order against him, and that he had to have supervised visits with his children, who were younger than 15.\" (NYTimes)   \n",
       "34  David N. Anderson, 47, and Francine Graham, 50, were heavily armed and traveling in a white van when they first killed a police officer in a cemetery, and then opened fire at a kosher market, “fueled both by anti-Semitism and anti-law enforcement beliefs,” according to New Jersey authorities. The pair, linked to the antisemitic ideology of the Black Hebrew Israelites extremist group, were killed after a lenghty gun battle with police at the market.   \n",
       "\n",
       "    age_of_shooter  \n",
       "25              -1  \n",
       "34              -1  "
      ]
     },
     "execution_count": 11,
     "metadata": {},
     "output_type": "execute_result"
    }
   ],
   "source": [
    "# Issolate the cases without ages\n",
    "mjms_df.loc[mjms_df.age_of_shooter == -1, ('case', 'summary', 'age_of_shooter')]"
   ]
  },
  {
   "cell_type": "code",
   "execution_count": 12,
   "id": "9a612ad4-193f-4487-bf8c-71e9d16b4bf6",
   "metadata": {},
   "outputs": [
    {
     "data": {
      "text/html": [
       "<div>\n",
       "<style scoped>\n",
       "    .dataframe tbody tr th:only-of-type {\n",
       "        vertical-align: middle;\n",
       "    }\n",
       "\n",
       "    .dataframe tbody tr th {\n",
       "        vertical-align: top;\n",
       "    }\n",
       "\n",
       "    .dataframe thead th {\n",
       "        text-align: right;\n",
       "    }\n",
       "</style>\n",
       "<table border=\"1\" class=\"dataframe\">\n",
       "  <thead>\n",
       "    <tr style=\"text-align: right;\">\n",
       "      <th></th>\n",
       "      <th>case</th>\n",
       "      <th>summary</th>\n",
       "      <th>age_of_shooter</th>\n",
       "    </tr>\n",
       "  </thead>\n",
       "  <tbody>\n",
       "    <tr>\n",
       "      <th>126</th>\n",
       "      <td>Westside Middle School killings</td>\n",
       "      <td>Mitchell Scott Johnson, 13, and Andrew Douglas Golden, 11, two juveniles, ambushed students and teachers as they left the school; they were apprehended by police at the scene.</td>\n",
       "      <td>11</td>\n",
       "    </tr>\n",
       "  </tbody>\n",
       "</table>\n",
       "</div>"
      ],
      "text/plain": [
       "                                case  \\\n",
       "126  Westside Middle School killings   \n",
       "\n",
       "                                                                                                                                                                             summary  \\\n",
       "126  Mitchell Scott Johnson, 13, and Andrew Douglas Golden, 11, two juveniles, ambushed students and teachers as they left the school; they were apprehended by police at the scene.   \n",
       "\n",
       "     age_of_shooter  \n",
       "126              11  "
      ]
     },
     "execution_count": 12,
     "metadata": {},
     "output_type": "execute_result"
    }
   ],
   "source": [
    "mjms_df.loc[mjms_df.age_of_shooter == 11, ('case', 'summary', 'age_of_shooter')]"
   ]
  },
  {
   "cell_type": "markdown",
   "id": "c91ba14c-6dba-42c1-89c7-e60b49004c7c",
   "metadata": {},
   "source": [
    "#### Supporting documentation\n",
    "For the 'Sacramento County church shooting' case, source @ https://www.cnn.com/2022/02/28/us/sacramento-church-shooting identified the shooter as 39-year-old David Mora Rojas"
   ]
  },
  {
   "cell_type": "code",
   "execution_count": 13,
   "id": "7e54b38b-d85c-4a51-9c0a-eb573aad8500",
   "metadata": {},
   "outputs": [],
   "source": [
    "# Sets age of shooter for 'Sacramento Country Church Shooting'\n",
    "mjms_df.loc[mjms_df.case == 'Sacramento County church shooting', 'age_of_shooter'] = 39"
   ]
  },
  {
   "cell_type": "markdown",
   "id": "2725986f-c02f-455a-ae81-6ab5c9161ff6",
   "metadata": {},
   "source": [
    "#### Fixing Data Input Error\n",
    "For the 'Westside Middle School killings' case, the shooters ages were 13 and 11. There were two assalents though only one was recorded.\n",
    "For the 'Jersey City kosher market shooting' case, the shooters ages were 47 and 50. Ref case summary."
   ]
  },
  {
   "cell_type": "code",
   "execution_count": 14,
   "id": "2283a471-25e9-4ce7-b260-5cc344266a81",
   "metadata": {},
   "outputs": [],
   "source": [
    "# Updates age_of_shooter to allow lists\n",
    "mjms_df['age_of_shooter'] = mjms_df['age_of_shooter'].astype('object')\n",
    "\n",
    "# Gets index regardless of future updates\n",
    "# Updates the instances where there were multiple shooters\n",
    "mjms_df.at[mjms_df[mjms_df['case'] == 'Jersey City kosher market shooting'].index[0], 'age_of_shooter'] = [47, 50]\n",
    "mjms_df.at[mjms_df[mjms_df['case'] == 'Westside Middle School killings'].index[0], 'age_of_shooter'] = [11, 13]"
   ]
  },
  {
   "cell_type": "markdown",
   "id": "a59ea815-4444-4e99-b26b-61feba16147a",
   "metadata": {},
   "source": [
    "#### Verify Age Corrections"
   ]
  },
  {
   "cell_type": "code",
   "execution_count": 15,
   "id": "c0690cae-c375-4d45-a89c-502e7b15c53f",
   "metadata": {},
   "outputs": [
    {
     "data": {
      "text/html": [
       "<div>\n",
       "<style scoped>\n",
       "    .dataframe tbody tr th:only-of-type {\n",
       "        vertical-align: middle;\n",
       "    }\n",
       "\n",
       "    .dataframe tbody tr th {\n",
       "        vertical-align: top;\n",
       "    }\n",
       "\n",
       "    .dataframe thead th {\n",
       "        text-align: right;\n",
       "    }\n",
       "</style>\n",
       "<table border=\"1\" class=\"dataframe\">\n",
       "  <thead>\n",
       "    <tr style=\"text-align: right;\">\n",
       "      <th></th>\n",
       "      <th>case</th>\n",
       "      <th>summary</th>\n",
       "      <th>age_of_shooter</th>\n",
       "    </tr>\n",
       "  </thead>\n",
       "  <tbody>\n",
       "    <tr>\n",
       "      <th>25</th>\n",
       "      <td>Sacramento County church shooting</td>\n",
       "      <td>\"A man believed to be meeting his three children for a supervised visit at a church just outside Sacramento on Monday afternoon fatally shot the children and an adult accompanying them before killing himself, police officials said. Sheriff Scott Jones of Sacramento County told reporters at the scene that the gunman had a restraining order against him, and that he had to have supervised visits with his children, who were younger than 15.\" (NYTimes)</td>\n",
       "      <td>39</td>\n",
       "    </tr>\n",
       "    <tr>\n",
       "      <th>34</th>\n",
       "      <td>Jersey City kosher market shooting</td>\n",
       "      <td>David N. Anderson, 47, and Francine Graham, 50, were heavily armed and traveling in a white van when they first killed a police officer in a cemetery, and then opened fire at a kosher market, “fueled both by anti-Semitism and anti-law enforcement beliefs,” according to New Jersey authorities. The pair, linked to the antisemitic ideology of the Black Hebrew Israelites extremist group, were killed after a lenghty gun battle with police at the market.</td>\n",
       "      <td>[47, 50]</td>\n",
       "    </tr>\n",
       "    <tr>\n",
       "      <th>126</th>\n",
       "      <td>Westside Middle School killings</td>\n",
       "      <td>Mitchell Scott Johnson, 13, and Andrew Douglas Golden, 11, two juveniles, ambushed students and teachers as they left the school; they were apprehended by police at the scene.</td>\n",
       "      <td>[11, 13]</td>\n",
       "    </tr>\n",
       "  </tbody>\n",
       "</table>\n",
       "</div>"
      ],
      "text/plain": [
       "                                   case  \\\n",
       "25    Sacramento County church shooting   \n",
       "34   Jersey City kosher market shooting   \n",
       "126     Westside Middle School killings   \n",
       "\n",
       "                                                                                                                                                                                                                                                                                                                                                                                                                                                                  summary  \\\n",
       "25    \"A man believed to be meeting his three children for a supervised visit at a church just outside Sacramento on Monday afternoon fatally shot the children and an adult accompanying them before killing himself, police officials said. Sheriff Scott Jones of Sacramento County told reporters at the scene that the gunman had a restraining order against him, and that he had to have supervised visits with his children, who were younger than 15.\" (NYTimes)   \n",
       "34   David N. Anderson, 47, and Francine Graham, 50, were heavily armed and traveling in a white van when they first killed a police officer in a cemetery, and then opened fire at a kosher market, “fueled both by anti-Semitism and anti-law enforcement beliefs,” according to New Jersey authorities. The pair, linked to the antisemitic ideology of the Black Hebrew Israelites extremist group, were killed after a lenghty gun battle with police at the market.   \n",
       "126                                                                                                                                                                                                                                                                                       Mitchell Scott Johnson, 13, and Andrew Douglas Golden, 11, two juveniles, ambushed students and teachers as they left the school; they were apprehended by police at the scene.   \n",
       "\n",
       "    age_of_shooter  \n",
       "25              39  \n",
       "34        [47, 50]  \n",
       "126       [11, 13]  "
      ]
     },
     "execution_count": 15,
     "metadata": {},
     "output_type": "execute_result"
    }
   ],
   "source": [
    "mjms_df.loc[mjms_df.case.isin(['Sacramento County church shooting', 'Jersey City kosher market shooting', 'Westside Middle School killings']), ('case', 'summary', 'age_of_shooter')]"
   ]
  },
  {
   "cell_type": "code",
   "execution_count": 16,
   "id": "fd4be938-dd9d-48a0-ae72-2d3a066eae7b",
   "metadata": {},
   "outputs": [],
   "source": [
    "pd.reset_option('display.max_colwidth')"
   ]
  },
  {
   "cell_type": "markdown",
   "id": "02f70cf3-e79f-4f2a-8556-5416d13a61c0",
   "metadata": {},
   "source": [
    "### Gender Data Shooter\n",
    "Normalizes the genderes of the shooters\n",
    "\n",
    "- M: Male gender \n",
    "- F: Female gender\n",
    "- T->F: Transgender transitioning from male to female\n",
    "- T->M: Transgender transitioning from female to male\n",
    "- M/M: Slash used when multiple shooters where each letter represents a shooter\n",
    "- O: Gender non-conforming including agender, non-binary, bigender, etc."
   ]
  },
  {
   "cell_type": "code",
   "execution_count": 17,
   "id": "62386aa2-d8e5-43be-bf63-dda6c72c109e",
   "metadata": {},
   "outputs": [
    {
     "data": {
      "text/plain": [
       "array(['M',\n",
       "       'F (\"identifies as transgender\" and \"Audrey Hale is a biological woman who, on a social media profile, used male pronouns,” according to Nashville Metro PD officials)',\n",
       "       'Male & Female', 'F', 'Male', 'Female'], dtype=object)"
      ]
     },
     "execution_count": 17,
     "metadata": {},
     "output_type": "execute_result"
    }
   ],
   "source": [
    "mjms_df.gender.unique()"
   ]
  },
  {
   "cell_type": "code",
   "execution_count": 18,
   "id": "12b30a8a-309a-493a-a484-e7c2bbd327b2",
   "metadata": {},
   "outputs": [],
   "source": [
    "mjms_df.gender = mjms_df.gender.replace('Female', 'F')\n",
    "mjms_df.gender = mjms_df.gender.replace('Male', 'M')\n",
    "mjms_df.gender = mjms_df.gender.replace('Male & Female', 'M/F')"
   ]
  },
  {
   "cell_type": "markdown",
   "id": "0d4360f5-8440-492a-8c46-c658d8ca1a84",
   "metadata": {},
   "source": [
    "#### Cleaning Audrey's case\n",
    "Identifies Index and updates the case to reflect she is a Transgender Female to Male"
   ]
  },
  {
   "cell_type": "code",
   "execution_count": 19,
   "id": "c25031e3-704f-407f-81f4-db15c0ab0d4d",
   "metadata": {},
   "outputs": [
    {
     "data": {
      "text/html": [
       "<div>\n",
       "<style scoped>\n",
       "    .dataframe tbody tr th:only-of-type {\n",
       "        vertical-align: middle;\n",
       "    }\n",
       "\n",
       "    .dataframe tbody tr th {\n",
       "        vertical-align: top;\n",
       "    }\n",
       "\n",
       "    .dataframe thead th {\n",
       "        text-align: right;\n",
       "    }\n",
       "</style>\n",
       "<table border=\"1\" class=\"dataframe\">\n",
       "  <thead>\n",
       "    <tr style=\"text-align: right;\">\n",
       "      <th></th>\n",
       "      <th>case</th>\n",
       "      <th>location</th>\n",
       "      <th>date</th>\n",
       "      <th>summary</th>\n",
       "      <th>fatalities</th>\n",
       "      <th>injured</th>\n",
       "      <th>total_victims</th>\n",
       "      <th>location.1</th>\n",
       "      <th>age_of_shooter</th>\n",
       "      <th>prior_signs_mental_health_issues</th>\n",
       "      <th>...</th>\n",
       "      <th>weapon_type</th>\n",
       "      <th>weapon_details</th>\n",
       "      <th>race</th>\n",
       "      <th>gender</th>\n",
       "      <th>sources</th>\n",
       "      <th>mental_health_sources</th>\n",
       "      <th>sources_additional_age</th>\n",
       "      <th>latitude</th>\n",
       "      <th>longitude</th>\n",
       "      <th>type</th>\n",
       "    </tr>\n",
       "  </thead>\n",
       "  <tbody>\n",
       "    <tr>\n",
       "      <th>10</th>\n",
       "      <td>Nashville Christian school shooting</td>\n",
       "      <td>Nashville, Tennessee</td>\n",
       "      <td>2023-03-27</td>\n",
       "      <td>Audrey Hale, 28, who was a former student at t...</td>\n",
       "      <td>6</td>\n",
       "      <td>6</td>\n",
       "      <td>12</td>\n",
       "      <td>School</td>\n",
       "      <td>28</td>\n",
       "      <td>-</td>\n",
       "      <td>...</td>\n",
       "      <td>semiautomatic rifle, semiautomatic handgun</td>\n",
       "      <td>-</td>\n",
       "      <td>White</td>\n",
       "      <td>F (\"identifies as transgender\" and \"Audrey Hal...</td>\n",
       "      <td>https://www.tennessean.com/story/news/crime/20...</td>\n",
       "      <td>-</td>\n",
       "      <td>-</td>\n",
       "      <td>-</td>\n",
       "      <td>-</td>\n",
       "      <td>Mass</td>\n",
       "    </tr>\n",
       "  </tbody>\n",
       "</table>\n",
       "<p>1 rows × 23 columns</p>\n",
       "</div>"
      ],
      "text/plain": [
       "                                   case              location       date  \\\n",
       "10  Nashville Christian school shooting  Nashville, Tennessee 2023-03-27   \n",
       "\n",
       "                                              summary  fatalities  injured  \\\n",
       "10  Audrey Hale, 28, who was a former student at t...           6        6   \n",
       "\n",
       "    total_victims location.1 age_of_shooter prior_signs_mental_health_issues  \\\n",
       "10             12     School             28                                -   \n",
       "\n",
       "    ...                                 weapon_type weapon_details   race  \\\n",
       "10  ...  semiautomatic rifle, semiautomatic handgun              -  White   \n",
       "\n",
       "                                               gender  \\\n",
       "10  F (\"identifies as transgender\" and \"Audrey Hal...   \n",
       "\n",
       "                                              sources mental_health_sources  \\\n",
       "10  https://www.tennessean.com/story/news/crime/20...                     -   \n",
       "\n",
       "   sources_additional_age latitude longitude  type  \n",
       "10                      -        -         -  Mass  \n",
       "\n",
       "[1 rows x 23 columns]"
      ]
     },
     "execution_count": 19,
     "metadata": {},
     "output_type": "execute_result"
    }
   ],
   "source": [
    "mjms_df[mjms_df.gender.str.contains('F (\"identifies as transgender', regex=False)]"
   ]
  },
  {
   "cell_type": "code",
   "execution_count": 20,
   "id": "d5db74ed-fbe7-4392-a824-eafe0276983d",
   "metadata": {},
   "outputs": [],
   "source": [
    "mjms_df.loc[mjms_df.case == 'Nashville Christian school shooting', 'gender'] = 'T->M'"
   ]
  },
  {
   "cell_type": "markdown",
   "id": "78a92ec0-3a48-4909-9bfc-ed792098b25b",
   "metadata": {},
   "source": [
    "#### Cleaning 'Westside Middle School killings' case\n",
    "The gender of both shooters were not reflected. Updates to account for two shooters"
   ]
  },
  {
   "cell_type": "code",
   "execution_count": 21,
   "id": "c778b26f-bbc1-4444-beff-0145ebb8ed07",
   "metadata": {},
   "outputs": [],
   "source": [
    "mjms_df.loc[mjms_df.case == 'Westside Middle School killings', 'gender'] = 'M/M'"
   ]
  },
  {
   "cell_type": "markdown",
   "id": "1b6a23d8-ada6-4da6-8aa4-b3032f92baeb",
   "metadata": {},
   "source": [
    "#### Verifying Gender Data Correction"
   ]
  },
  {
   "cell_type": "code",
   "execution_count": 22,
   "id": "c3217da5-86db-49bc-819b-22520e1d500b",
   "metadata": {},
   "outputs": [
    {
     "data": {
      "text/plain": [
       "array(['M', 'T->M', 'M/F', 'F', 'M/M'], dtype=object)"
      ]
     },
     "execution_count": 22,
     "metadata": {},
     "output_type": "execute_result"
    }
   ],
   "source": [
    "mjms_df.gender.unique()"
   ]
  },
  {
   "cell_type": "markdown",
   "id": "29277c57-b414-496f-80c8-a58b2bca27a0",
   "metadata": {},
   "source": [
    "### Race Data Cleaning\n",
    "Data normalization conducted. Some entries were capitalized while others weren’t. For the missing data, unknown was entered. Race is specific to the person and without public informaiton on the individua, no attempt was made to identify them by their race"
   ]
  },
  {
   "cell_type": "code",
   "execution_count": 23,
   "id": "d4a40012-ed38-497f-8c3b-28666a733ffa",
   "metadata": {},
   "outputs": [
    {
     "data": {
      "text/plain": [
       "array(['White', 'Black', 'Latino', 'Asian', '-', 'Other', 'White ',\n",
       "       'Native American', 'white', 'black', 'unclear'], dtype=object)"
      ]
     },
     "execution_count": 23,
     "metadata": {},
     "output_type": "execute_result"
    }
   ],
   "source": [
    "mjms_df.race.unique()"
   ]
  },
  {
   "cell_type": "code",
   "execution_count": 24,
   "id": "ea03f238-ca6d-4c42-8282-460c1d37ff57",
   "metadata": {
    "scrolled": true
   },
   "outputs": [],
   "source": [
    "# Converts to lowercase\n",
    "mjms_df.race = mjms_df.race.str.lower()\n",
    "# Removes whitespace\n",
    "mjms_df.race = mjms_df.race.str.strip()\n",
    "# Updates '-' inputs to unknown\n",
    "mjms_df.loc[mjms_df.race == '-', 'race'] = 'unknown'\n",
    "# Updates 'unclear' inputs to unknown\n",
    "mjms_df.loc[mjms_df.race == 'unclear', 'race'] = 'unknown'\n"
   ]
  },
  {
   "cell_type": "code",
   "execution_count": 25,
   "id": "86f28070-918d-42db-a17f-132f3d2c96e7",
   "metadata": {
    "scrolled": true
   },
   "outputs": [
    {
     "data": {
      "text/plain": [
       "array(['white', 'black', 'latino', 'asian', 'unknown', 'other',\n",
       "       'native american'], dtype=object)"
      ]
     },
     "execution_count": 25,
     "metadata": {},
     "output_type": "execute_result"
    }
   ],
   "source": [
    "mjms_df.race.unique()"
   ]
  },
  {
   "cell_type": "markdown",
   "id": "f074008a-5fa7-43d8-8151-4b5e3a9825da",
   "metadata": {},
   "source": [
    "### Weapon Obtained Legally Data Cleaning\n",
    "Identifies if the weapon used in the crime was legally obtained or not\n",
    "\n",
    "- Yes/No\n",
    "- TBD\n",
    "- Unknown\n",
    "- Some"
   ]
  },
  {
   "cell_type": "code",
   "execution_count": 26,
   "id": "f0566ee6-26b5-4742-a2b6-917fac1075c8",
   "metadata": {},
   "outputs": [
    {
     "data": {
      "text/plain": [
       "array(['-', 'yes', 'Yes', 'No', 'TBD',\n",
       "       'Kelley passed federal criminal background checks; the US Air Force failed to provide information on his criminal history to the FBI',\n",
       "       'Unknown', '\\nYes',\n",
       "       'Yes (\"some of the weapons were purchased legally and some of them may not have been\")',\n",
       "       'Yes '], dtype=object)"
      ]
     },
     "execution_count": 26,
     "metadata": {},
     "output_type": "execute_result"
    }
   ],
   "source": [
    "mjms_df.weapons_obtained_legally.unique()"
   ]
  },
  {
   "cell_type": "code",
   "execution_count": 27,
   "id": "46d1284b-b265-4f04-8c3b-1a53449e4922",
   "metadata": {},
   "outputs": [],
   "source": [
    "# Converts to lowercase\n",
    "mjms_df.weapons_obtained_legally = mjms_df.weapons_obtained_legally.str.lower()\n",
    "# Removes whitespace\n",
    "mjms_df.weapons_obtained_legally = mjms_df.weapons_obtained_legally.str.strip()"
   ]
  },
  {
   "cell_type": "markdown",
   "id": "49b14479-f82b-457b-99ad-28959f600ed7",
   "metadata": {},
   "source": [
    "#### Attempt to Identify Unknown\n",
    "An attempt to determine if any of the shooters weapon acquisition status has been verified since the incident"
   ]
  },
  {
   "cell_type": "code",
   "execution_count": 28,
   "id": "98eb98a9-9edd-468e-ab7a-871c16df4b8e",
   "metadata": {
    "scrolled": true
   },
   "outputs": [
    {
     "data": {
      "text/html": [
       "<div>\n",
       "<style scoped>\n",
       "    .dataframe tbody tr th:only-of-type {\n",
       "        vertical-align: middle;\n",
       "    }\n",
       "\n",
       "    .dataframe tbody tr th {\n",
       "        vertical-align: top;\n",
       "    }\n",
       "\n",
       "    .dataframe thead th {\n",
       "        text-align: right;\n",
       "    }\n",
       "</style>\n",
       "<table border=\"1\" class=\"dataframe\">\n",
       "  <thead>\n",
       "    <tr style=\"text-align: right;\">\n",
       "      <th></th>\n",
       "      <th>case</th>\n",
       "      <th>summary</th>\n",
       "      <th>weapons_obtained_legally</th>\n",
       "    </tr>\n",
       "  </thead>\n",
       "  <tbody>\n",
       "    <tr>\n",
       "      <th>65</th>\n",
       "      <td>Fresno downtown shooting</td>\n",
       "      <td>Kori Ali Muhammad, 39, opened fire along a str...</td>\n",
       "      <td>unknown</td>\n",
       "    </tr>\n",
       "    <tr>\n",
       "      <th>68</th>\n",
       "      <td>Baton Rouge police shooting</td>\n",
       "      <td>Gavin Long, 29, a former Marine who served in ...</td>\n",
       "      <td>unknown</td>\n",
       "    </tr>\n",
       "    <tr>\n",
       "      <th>74</th>\n",
       "      <td>Planned Parenthood clinic</td>\n",
       "      <td>Robert Lewis Dear, 57, shot and killed a polic...</td>\n",
       "      <td>unknown</td>\n",
       "    </tr>\n",
       "    <tr>\n",
       "      <th>83</th>\n",
       "      <td>Alturas tribal shooting</td>\n",
       "      <td>Cherie Lash Rhoades, 44, opened fire at the Ce...</td>\n",
       "      <td>unknown</td>\n",
       "    </tr>\n",
       "    <tr>\n",
       "      <th>110</th>\n",
       "      <td>Trolley Square shooting</td>\n",
       "      <td>Sulejman Talović, 18, rampaged through the sh...</td>\n",
       "      <td>unknown</td>\n",
       "    </tr>\n",
       "    <tr>\n",
       "      <th>133</th>\n",
       "      <td>Chuck E. Cheese's killings</td>\n",
       "      <td>Nathan Dunlap, 19, a recently fired Chuck E. C...</td>\n",
       "      <td>unknown</td>\n",
       "    </tr>\n",
       "  </tbody>\n",
       "</table>\n",
       "</div>"
      ],
      "text/plain": [
       "                            case  \\\n",
       "65      Fresno downtown shooting   \n",
       "68   Baton Rouge police shooting   \n",
       "74     Planned Parenthood clinic   \n",
       "83       Alturas tribal shooting   \n",
       "110      Trolley Square shooting   \n",
       "133   Chuck E. Cheese's killings   \n",
       "\n",
       "                                               summary  \\\n",
       "65   Kori Ali Muhammad, 39, opened fire along a str...   \n",
       "68   Gavin Long, 29, a former Marine who served in ...   \n",
       "74   Robert Lewis Dear, 57, shot and killed a polic...   \n",
       "83   Cherie Lash Rhoades, 44, opened fire at the Ce...   \n",
       "110  Sulejman Talović, 18, rampaged through the sh...   \n",
       "133  Nathan Dunlap, 19, a recently fired Chuck E. C...   \n",
       "\n",
       "    weapons_obtained_legally  \n",
       "65                   unknown  \n",
       "68                   unknown  \n",
       "74                   unknown  \n",
       "83                   unknown  \n",
       "110                  unknown  \n",
       "133                  unknown  "
      ]
     },
     "execution_count": 28,
     "metadata": {},
     "output_type": "execute_result"
    }
   ],
   "source": [
    "mjms_df.loc[mjms_df.weapons_obtained_legally == 'unknown', ('case', 'summary', 'weapons_obtained_legally')]"
   ]
  },
  {
   "cell_type": "code",
   "execution_count": 29,
   "id": "f3b121c8-caea-4e66-9fdd-2b8e4002c8d3",
   "metadata": {
    "scrolled": true
   },
   "outputs": [
    {
     "data": {
      "text/html": [
       "<div>\n",
       "<style scoped>\n",
       "    .dataframe tbody tr th:only-of-type {\n",
       "        vertical-align: middle;\n",
       "    }\n",
       "\n",
       "    .dataframe tbody tr th {\n",
       "        vertical-align: top;\n",
       "    }\n",
       "\n",
       "    .dataframe thead th {\n",
       "        text-align: right;\n",
       "    }\n",
       "</style>\n",
       "<table border=\"1\" class=\"dataframe\">\n",
       "  <thead>\n",
       "    <tr style=\"text-align: right;\">\n",
       "      <th></th>\n",
       "      <th>case</th>\n",
       "      <th>summary</th>\n",
       "      <th>weapons_obtained_legally</th>\n",
       "    </tr>\n",
       "  </thead>\n",
       "  <tbody>\n",
       "    <tr>\n",
       "      <th>0</th>\n",
       "      <td>Apalachee High School shooting</td>\n",
       "      <td>Colt Gray, 14, was apprehended by responding p...</td>\n",
       "      <td>-</td>\n",
       "    </tr>\n",
       "    <tr>\n",
       "      <th>1</th>\n",
       "      <td>Arkansas grocery store shooting</td>\n",
       "      <td>Travis Posey, 44, opened fire in the parking l...</td>\n",
       "      <td>-</td>\n",
       "    </tr>\n",
       "    <tr>\n",
       "      <th>2</th>\n",
       "      <td>UNLV shooting</td>\n",
       "      <td>Anthony Polito, 67, a former university profes...</td>\n",
       "      <td>-</td>\n",
       "    </tr>\n",
       "    <tr>\n",
       "      <th>3</th>\n",
       "      <td>Maine bowling alley and bar shootings</td>\n",
       "      <td>Robert Card, 40, an Army reservist and firearm...</td>\n",
       "      <td>-</td>\n",
       "    </tr>\n",
       "    <tr>\n",
       "      <th>5</th>\n",
       "      <td>Orange County biker bar shooting</td>\n",
       "      <td>John Snowling, 59, a retired sergeant from the...</td>\n",
       "      <td>-</td>\n",
       "    </tr>\n",
       "    <tr>\n",
       "      <th>12</th>\n",
       "      <td>Half Moon Bay spree shooting</td>\n",
       "      <td>Chunli Zhao, 67, suspected of carrying out the...</td>\n",
       "      <td>-</td>\n",
       "    </tr>\n",
       "    <tr>\n",
       "      <th>13</th>\n",
       "      <td>LA dance studio mass shooting</td>\n",
       "      <td>Huu Can Tran, 72, fled the scene in a white va...</td>\n",
       "      <td>-</td>\n",
       "    </tr>\n",
       "    <tr>\n",
       "      <th>14</th>\n",
       "      <td>Virginia Walmart shooting</td>\n",
       "      <td>Andre Bing, 31, who worked as a supervisor at ...</td>\n",
       "      <td>-</td>\n",
       "    </tr>\n",
       "    <tr>\n",
       "      <th>15</th>\n",
       "      <td>LGBTQ club shooting</td>\n",
       "      <td>Anderson L. Aldrich, 22, wore body armor and o...</td>\n",
       "      <td>-</td>\n",
       "    </tr>\n",
       "    <tr>\n",
       "      <th>17</th>\n",
       "      <td>Raleigh spree shooting</td>\n",
       "      <td>Austin Thompson, 15, went on a rampage in the ...</td>\n",
       "      <td>-</td>\n",
       "    </tr>\n",
       "    <tr>\n",
       "      <th>21</th>\n",
       "      <td>Concrete company shooting</td>\n",
       "      <td>Joe Louis Esquivel, 23, shot four coworkers an...</td>\n",
       "      <td>-</td>\n",
       "    </tr>\n",
       "    <tr>\n",
       "      <th>25</th>\n",
       "      <td>Sacramento County church shooting</td>\n",
       "      <td>\"A man believed to be meeting his three childr...</td>\n",
       "      <td>-</td>\n",
       "    </tr>\n",
       "    <tr>\n",
       "      <th>26</th>\n",
       "      <td>Oxford High School shooting</td>\n",
       "      <td>Ethan Crumbley, a 15-year-old student at Oxfor...</td>\n",
       "      <td>-</td>\n",
       "    </tr>\n",
       "    <tr>\n",
       "      <th>27</th>\n",
       "      <td>San Jose VTA shooting</td>\n",
       "      <td>Samuel Cassidy, 57, a Valley Transportation Au...</td>\n",
       "      <td>-</td>\n",
       "    </tr>\n",
       "    <tr>\n",
       "      <th>29</th>\n",
       "      <td>Orange office complex shooting</td>\n",
       "      <td>Aminadab Gaxiola Gonzalez, 44, allegedly opene...</td>\n",
       "      <td>-</td>\n",
       "    </tr>\n",
       "    <tr>\n",
       "      <th>31</th>\n",
       "      <td>Atlanta massage parlor shootings</td>\n",
       "      <td>Robert Aaron Long, 21, killed eight people at ...</td>\n",
       "      <td>-</td>\n",
       "    </tr>\n",
       "    <tr>\n",
       "      <th>33</th>\n",
       "      <td>Molson Coors shooting</td>\n",
       "      <td>Anthony Ferrill, 51, an employee armed with tw...</td>\n",
       "      <td>-</td>\n",
       "    </tr>\n",
       "    <tr>\n",
       "      <th>34</th>\n",
       "      <td>Jersey City kosher market shooting</td>\n",
       "      <td>David N. Anderson, 47, and Francine Graham, 50...</td>\n",
       "      <td>-</td>\n",
       "    </tr>\n",
       "    <tr>\n",
       "      <th>35</th>\n",
       "      <td>Pensacola Naval base shooting</td>\n",
       "      <td>Ahmed Mohammed al-Shamrani, 21, a Saudi Arabia...</td>\n",
       "      <td>-</td>\n",
       "    </tr>\n",
       "    <tr>\n",
       "      <th>36</th>\n",
       "      <td>Odessa-Midland shooting spree</td>\n",
       "      <td>Seth A. Ator, 36, fired at police officers who...</td>\n",
       "      <td>-</td>\n",
       "    </tr>\n",
       "    <tr>\n",
       "      <th>44</th>\n",
       "      <td>Mercy Hospital shooting</td>\n",
       "      <td>Juan Lopez, 32, confronted his former fiancé, ...</td>\n",
       "      <td>-</td>\n",
       "    </tr>\n",
       "  </tbody>\n",
       "</table>\n",
       "</div>"
      ],
      "text/plain": [
       "                                     case  \\\n",
       "0          Apalachee High School shooting   \n",
       "1         Arkansas grocery store shooting   \n",
       "2                           UNLV shooting   \n",
       "3   Maine bowling alley and bar shootings   \n",
       "5        Orange County biker bar shooting   \n",
       "12           Half Moon Bay spree shooting   \n",
       "13          LA dance studio mass shooting   \n",
       "14              Virginia Walmart shooting   \n",
       "15                    LGBTQ club shooting   \n",
       "17                 Raleigh spree shooting   \n",
       "21              Concrete company shooting   \n",
       "25      Sacramento County church shooting   \n",
       "26            Oxford High School shooting   \n",
       "27                  San Jose VTA shooting   \n",
       "29         Orange office complex shooting   \n",
       "31       Atlanta massage parlor shootings   \n",
       "33                  Molson Coors shooting   \n",
       "34     Jersey City kosher market shooting   \n",
       "35          Pensacola Naval base shooting   \n",
       "36          Odessa-Midland shooting spree   \n",
       "44                Mercy Hospital shooting   \n",
       "\n",
       "                                              summary weapons_obtained_legally  \n",
       "0   Colt Gray, 14, was apprehended by responding p...                        -  \n",
       "1   Travis Posey, 44, opened fire in the parking l...                        -  \n",
       "2   Anthony Polito, 67, a former university profes...                        -  \n",
       "3   Robert Card, 40, an Army reservist and firearm...                        -  \n",
       "5   John Snowling, 59, a retired sergeant from the...                        -  \n",
       "12  Chunli Zhao, 67, suspected of carrying out the...                        -  \n",
       "13  Huu Can Tran, 72, fled the scene in a white va...                        -  \n",
       "14  Andre Bing, 31, who worked as a supervisor at ...                        -  \n",
       "15  Anderson L. Aldrich, 22, wore body armor and o...                        -  \n",
       "17  Austin Thompson, 15, went on a rampage in the ...                        -  \n",
       "21  Joe Louis Esquivel, 23, shot four coworkers an...                        -  \n",
       "25  \"A man believed to be meeting his three childr...                        -  \n",
       "26  Ethan Crumbley, a 15-year-old student at Oxfor...                        -  \n",
       "27  Samuel Cassidy, 57, a Valley Transportation Au...                        -  \n",
       "29  Aminadab Gaxiola Gonzalez, 44, allegedly opene...                        -  \n",
       "31  Robert Aaron Long, 21, killed eight people at ...                        -  \n",
       "33  Anthony Ferrill, 51, an employee armed with tw...                        -  \n",
       "34  David N. Anderson, 47, and Francine Graham, 50...                        -  \n",
       "35  Ahmed Mohammed al-Shamrani, 21, a Saudi Arabia...                        -  \n",
       "36  Seth A. Ator, 36, fired at police officers who...                        -  \n",
       "44  Juan Lopez, 32, confronted his former fiancé, ...                        -  "
      ]
     },
     "execution_count": 29,
     "metadata": {},
     "output_type": "execute_result"
    }
   ],
   "source": [
    "mjms_df.loc[mjms_df.weapons_obtained_legally == '-', ('case', 'summary', 'weapons_obtained_legally')]"
   ]
  },
  {
   "cell_type": "markdown",
   "id": "ea31ba52-154f-4236-8e39-6c18c8fd4046",
   "metadata": {},
   "source": [
    "#### Supporting documentation\n",
    "##### 'unknown' cases\n",
    "For the 'Fresno downtown shooting' case, source @ https://www.fresnobee.com/news/local/crime/article145336334.html determined the weapon was illegally obtained. In 2006, Kori Ali Muhammad was sentenced by Judge Oliver W. Wanger for felony possession of a firearm and cocaine for which he was incarcerated for 110 Mo. The court also revoked his right to posses a firearm upon release\n",
    "\n",
    "For the 'Baton Rouge police shooting' case, source @ https://www.kansascity.com/news/local/article159145529.html?utm_source=chatgpt.com determined Gavin obtained his weapon legally\n",
    "\n",
    "For the 'Planned Parenthood clinic' case, source @ https://www.coloradojudicial.gov/sites/default/files/2023-08/Search%20Warrant%2015-2022_Redacted.pdf reflects that the detectives in the matter didn’t inquire about the legality of the weapons used during the assault.\n",
    "\n",
    "For the 'Trolley Square shooting' case, source @ https://www.deseret.com/2007/3/30/20010193/salt-lake-police-investigating-3-who-owned-gun-before-talovic/ determined that the pistol was illegally obtained and the shotgun was legally obtained\n",
    "\n",
    "##### '-' cases\n",
    "For the 'Apalachee High School shooting' case, source @ https://www.cnn.com/2024/09/06/us/colin-gray-georgia-shooting-suspect-father-charges determined that colin gray had legally purchased a gun that he had then illegally given to his son. The weapon will be marked as a legal purchase\n",
    "\n",
    "For the 'UNLV shooting' case, source @ https://www.ktnv.com/news/unlv-gunman-had-list-of-targets-brought-handgun-11-mags-to-campus?utm_source=chatgpt.com determined the weapon was legally purchase"
   ]
  },
  {
   "cell_type": "code",
   "execution_count": 30,
   "id": "a431d4cf-4a8f-4b73-8fd9-ff63e45d5548",
   "metadata": {},
   "outputs": [],
   "source": [
    "# Fresno downtown shooting\n",
    "mjms_df.loc[mjms_df.case == 'Fresno downtown shooting', 'weapons_obtained_legally'] = 'no'\n",
    "# Baton Rouge police shooting\n",
    "mjms_df.loc[mjms_df.case == 'Baton Rouge police shooting', 'weapons_obtained_legally'] = 'yes'\n",
    "# Trolley Square shooting\n",
    "mjms_df.loc[mjms_df.case == 'Trolley Square shooting', 'weapons_obtained_legally'] = 'some'"
   ]
  },
  {
   "cell_type": "code",
   "execution_count": 31,
   "id": "cc1de0e5-4121-44b9-ac78-892ddff35e11",
   "metadata": {},
   "outputs": [],
   "source": [
    "# Apalachee High School shooting\n",
    "# mjms_df.at[0, 'weapons_obtained_legally'] = 'yes'\n",
    "# Arkansas grocery store shooting\n",
    "# mjms_df.at[1, 'weapons_obtained_legally'] = 'unknown'\n",
    "#UNLV shooting\n",
    "# mjms_df.at[2, 'weapons_obtained_legally'] = 'yes'"
   ]
  },
  {
   "cell_type": "markdown",
   "id": "b4faab96-aecc-4835-a38b-f3eff8b11484",
   "metadata": {},
   "source": [
    "#### Cleaning 'Chattanooga military recruitment center' case\n",
    "Some of the weapons were legal but not all"
   ]
  },
  {
   "cell_type": "code",
   "execution_count": 33,
   "id": "e81e5514-7ba0-4f7e-8e0b-6d540a6b9b74",
   "metadata": {},
   "outputs": [
    {
     "data": {
      "text/html": [
       "<div>\n",
       "<style scoped>\n",
       "    .dataframe tbody tr th:only-of-type {\n",
       "        vertical-align: middle;\n",
       "    }\n",
       "\n",
       "    .dataframe tbody tr th {\n",
       "        vertical-align: top;\n",
       "    }\n",
       "\n",
       "    .dataframe thead th {\n",
       "        text-align: right;\n",
       "    }\n",
       "</style>\n",
       "<table border=\"1\" class=\"dataframe\">\n",
       "  <thead>\n",
       "    <tr style=\"text-align: right;\">\n",
       "      <th></th>\n",
       "      <th>case</th>\n",
       "      <th>location</th>\n",
       "      <th>date</th>\n",
       "      <th>summary</th>\n",
       "      <th>fatalities</th>\n",
       "      <th>injured</th>\n",
       "      <th>total_victims</th>\n",
       "      <th>location.1</th>\n",
       "      <th>age_of_shooter</th>\n",
       "      <th>prior_signs_mental_health_issues</th>\n",
       "      <th>...</th>\n",
       "      <th>weapon_type</th>\n",
       "      <th>weapon_details</th>\n",
       "      <th>race</th>\n",
       "      <th>gender</th>\n",
       "      <th>sources</th>\n",
       "      <th>mental_health_sources</th>\n",
       "      <th>sources_additional_age</th>\n",
       "      <th>latitude</th>\n",
       "      <th>longitude</th>\n",
       "      <th>type</th>\n",
       "    </tr>\n",
       "  </thead>\n",
       "  <tbody>\n",
       "    <tr>\n",
       "      <th>77</th>\n",
       "      <td>Chattanooga military recruitment center</td>\n",
       "      <td>Chattanooga, Tennessee</td>\n",
       "      <td>2015-07-16</td>\n",
       "      <td>Kuwaiti-born Mohammod Youssuf Abdulazeez, 24, ...</td>\n",
       "      <td>5</td>\n",
       "      <td>2</td>\n",
       "      <td>7</td>\n",
       "      <td>Military</td>\n",
       "      <td>24</td>\n",
       "      <td>Unclear</td>\n",
       "      <td>...</td>\n",
       "      <td>2 assault rifles; semiautomatic handgun\\n</td>\n",
       "      <td>AK-47, AR-15, and 30-round magazines; 9mm handgun</td>\n",
       "      <td>other</td>\n",
       "      <td>M</td>\n",
       "      <td>http://www.reuters.com/article/2015/07/16/us-u...</td>\n",
       "      <td>-</td>\n",
       "      <td>http://www.reuters.com/article/2015/07/16/us-u...</td>\n",
       "      <td>35.047157</td>\n",
       "      <td>-85.311819</td>\n",
       "      <td>Mass</td>\n",
       "    </tr>\n",
       "  </tbody>\n",
       "</table>\n",
       "<p>1 rows × 23 columns</p>\n",
       "</div>"
      ],
      "text/plain": [
       "                                       case                location  \\\n",
       "77  Chattanooga military recruitment center  Chattanooga, Tennessee   \n",
       "\n",
       "         date                                            summary  fatalities  \\\n",
       "77 2015-07-16  Kuwaiti-born Mohammod Youssuf Abdulazeez, 24, ...           5   \n",
       "\n",
       "    injured  total_victims location.1 age_of_shooter  \\\n",
       "77        2              7   Military             24   \n",
       "\n",
       "   prior_signs_mental_health_issues  ...  \\\n",
       "77                          Unclear  ...   \n",
       "\n",
       "                                  weapon_type  \\\n",
       "77  2 assault rifles; semiautomatic handgun\\n   \n",
       "\n",
       "                                       weapon_details   race gender  \\\n",
       "77  AK-47, AR-15, and 30-round magazines; 9mm handgun  other      M   \n",
       "\n",
       "                                              sources mental_health_sources  \\\n",
       "77  http://www.reuters.com/article/2015/07/16/us-u...                     -   \n",
       "\n",
       "                               sources_additional_age   latitude   longitude  \\\n",
       "77  http://www.reuters.com/article/2015/07/16/us-u...  35.047157  -85.311819   \n",
       "\n",
       "    type  \n",
       "77  Mass  \n",
       "\n",
       "[1 rows x 23 columns]"
      ]
     },
     "execution_count": 33,
     "metadata": {},
     "output_type": "execute_result"
    }
   ],
   "source": [
    "mjms_df.loc[mjms_df.weapons_obtained_legally.str.contains('yes (\"some of the weapon', regex=False)]"
   ]
  },
  {
   "cell_type": "code",
   "execution_count": 36,
   "id": "b3422b9d-cc3f-41c3-9be9-571edb0b61d6",
   "metadata": {},
   "outputs": [],
   "source": [
    "mjms_df.loc[mjms_df.case == 'Chattanooga military recruitment center', 'weapons_obtained_legally'] = 'some'"
   ]
  },
  {
   "cell_type": "code",
   "execution_count": null,
   "id": "9d08267b-80bb-4ae1-8d57-e6dc80084591",
   "metadata": {},
   "outputs": [],
   "source": []
  },
  {
   "cell_type": "code",
   "execution_count": 37,
   "id": "f9e2d1aa-8984-4529-a82b-114d98d0d01d",
   "metadata": {},
   "outputs": [
    {
     "data": {
      "text/plain": [
       "array(['-', 'yes', 'no', 'tbd',\n",
       "       'kelley passed federal criminal background checks; the us air force failed to provide information on his criminal history to the fbi',\n",
       "       'unknown', 'some'], dtype=object)"
      ]
     },
     "execution_count": 37,
     "metadata": {},
     "output_type": "execute_result"
    }
   ],
   "source": [
    "mjms_df.weapons_obtained_legally.unique()"
   ]
  },
  {
   "cell_type": "code",
   "execution_count": 47,
   "id": "9bb50b44-e937-479d-a9f9-b07935005994",
   "metadata": {},
   "outputs": [],
   "source": []
  },
  {
   "cell_type": "code",
   "execution_count": null,
   "id": "357bd326-9e1a-4b8e-85e6-3d3661ea8cb9",
   "metadata": {},
   "outputs": [],
   "source": []
  }
 ],
 "metadata": {
  "kernelspec": {
   "display_name": "Python 3 (ipykernel)",
   "language": "python",
   "name": "python3"
  },
  "language_info": {
   "codemirror_mode": {
    "name": "ipython",
    "version": 3
   },
   "file_extension": ".py",
   "mimetype": "text/x-python",
   "name": "python",
   "nbconvert_exporter": "python",
   "pygments_lexer": "ipython3",
   "version": "3.11.9"
  }
 },
 "nbformat": 4,
 "nbformat_minor": 5
}
