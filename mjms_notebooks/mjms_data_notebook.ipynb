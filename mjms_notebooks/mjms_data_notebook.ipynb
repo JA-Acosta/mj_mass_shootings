{
 "cells": [
  {
   "cell_type": "markdown",
   "id": "8baa6183-1f4e-4069-8291-db609ae23f18",
   "metadata": {},
   "source": [
    "# Mother Jones Mass Shooting Data Cleaning\n",
    "### Authors: Joe Acosta\n",
    "Imports the initial data collected by the mother jones foundation and cleans the data. The data is currently being imported directly from the website and are being cleaned such that future research can expand on their findings.\n",
    "\n",
    "Mother Jones Initial Data: https://www.motherjones.com/politics/2012/12/mass-shootings-mother-jones-full-data/"
   ]
  },
  {
   "cell_type": "code",
   "execution_count": 1,
   "id": "8b6fa6ae-e98c-4853-9e81-ea6ce28dace9",
   "metadata": {},
   "outputs": [],
   "source": [
    "import pandas as pd\n",
    "import numpy as np\n",
    "# import re"
   ]
  },
  {
   "cell_type": "markdown",
   "id": "fbdeeb8d-9b07-4fed-b55f-61b19fe5f34a",
   "metadata": {},
   "source": [
    "## Initial Data Import\n",
    "Creates a Pandas DataFrame given the link to the initial data.\n",
    "Verifies the data types and corrects any discrepencies."
   ]
  },
  {
   "cell_type": "code",
   "execution_count": 2,
   "id": "74aab1a4-49a0-493e-9022-6877aa78a3e3",
   "metadata": {},
   "outputs": [],
   "source": [
    "mj_url = 'https://docs.google.com/spreadsheets/d/e/2PACX-1vQBEbQoWMn_P81DuwmlQC0_jr2sJDzkkC0mvF6WLcM53ZYXi8RMfUlunvP1B5W0jRrJvH-wc-WGjDB1/pub?gid=0&single=true&output=csv'\n",
    "mjms_df = pd.read_csv(mj_url)"
   ]
  },
  {
   "cell_type": "code",
   "execution_count": 3,
   "id": "d2727240-74a9-4357-8c42-ee322ed26ef2",
   "metadata": {},
   "outputs": [
    {
     "name": "stdout",
     "output_type": "stream",
     "text": [
      "<class 'pandas.core.frame.DataFrame'>\n",
      "RangeIndex: 151 entries, 0 to 150\n",
      "Data columns (total 24 columns):\n",
      " #   Column                            Non-Null Count  Dtype \n",
      "---  ------                            --------------  ----- \n",
      " 0   case                              151 non-null    object\n",
      " 1   location                          151 non-null    object\n",
      " 2   date                              151 non-null    object\n",
      " 3   summary                           151 non-null    object\n",
      " 4   fatalities                        151 non-null    int64 \n",
      " 5   injured                           151 non-null    int64 \n",
      " 6   total_victims                     151 non-null    int64 \n",
      " 7   location.1                        151 non-null    object\n",
      " 8   age_of_shooter                    151 non-null    object\n",
      " 9   prior_signs_mental_health_issues  151 non-null    object\n",
      " 10  mental_health_details             151 non-null    object\n",
      " 11  weapons_obtained_legally          151 non-null    object\n",
      " 12  where_obtained                    151 non-null    object\n",
      " 13  weapon_type                       151 non-null    object\n",
      " 14  weapon_details                    150 non-null    object\n",
      " 15  race                              151 non-null    object\n",
      " 16  gender                            151 non-null    object\n",
      " 17  sources                           151 non-null    object\n",
      " 18  mental_health_sources             151 non-null    object\n",
      " 19  sources_additional_age            151 non-null    object\n",
      " 20  latitude                          151 non-null    object\n",
      " 21  longitude                         151 non-null    object\n",
      " 22  type                              151 non-null    object\n",
      " 23  year                              151 non-null    int64 \n",
      "dtypes: int64(4), object(20)\n",
      "memory usage: 28.4+ KB\n"
     ]
    }
   ],
   "source": [
    "mjms_df.info()"
   ]
  },
  {
   "cell_type": "markdown",
   "id": "18f153b8-6e41-47c2-a1fa-4a8d8a4d50f6",
   "metadata": {},
   "source": [
    "## Data Cleaning"
   ]
  },
  {
   "cell_type": "markdown",
   "id": "235aa6fe-050d-4d74-9d6e-4af963de004d",
   "metadata": {},
   "source": [
    "### Date Data Cleaning\n",
    "There are various formats for the year and there exists a seperate column year. Updates the date format such that it's in mm-dd-yyyy format then drops the year column. Also converts the date to datetime64[ns] type allowing for various date related opperations including sorting by year, month, day, decade, etc."
   ]
  },
  {
   "cell_type": "code",
   "execution_count": 4,
   "id": "e818d844-66d5-4bf9-9469-b114f032f366",
   "metadata": {},
   "outputs": [],
   "source": [
    "def update_year(date, year) :\n",
    "    '''\n",
    "    Updates the date ensuring it's in mm/dd/yyyy format\n",
    "\n",
    "    Parameters:\n",
    "     - date (String): date in mm/dd/yy or mm/dd/yyyy\n",
    "     - year (String): year in yyyy format\n",
    "\n",
    "    Return:\n",
    "     - _date (String): date in the format mm/dd/yyyy\n",
    "    \n",
    "    // Include into the doc created\n",
    "    '''\n",
    "    _month_day = '/'.join(date.split('/')[:2])\n",
    "    _date = _month_day + '/' + year\n",
    "    return _date"
   ]
  },
  {
   "cell_type": "code",
   "execution_count": 5,
   "id": "ffc34762-30a8-41d2-a296-3aecef25a3b5",
   "metadata": {},
   "outputs": [],
   "source": [
    "# Converts date to mm-dd-yyyy using year column\n",
    "mjms_df.date = mjms_df.apply(lambda row: update_year(row.date, str(row.year)), axis=1)\n",
    "\n",
    "# Converts date series to pd date type\n",
    "mjms_df.date = pd.to_datetime(mjms_df.date)\n",
    "\n",
    "# Drops the year column\n",
    "mjms_df = mjms_df.drop('year', axis=1)"
   ]
  },
  {
   "cell_type": "code",
   "execution_count": 6,
   "id": "65b86d47-3fe4-49ff-a719-fd18120fec70",
   "metadata": {},
   "outputs": [
    {
     "data": {
      "text/plain": [
       "36    2019\n",
       "94    2012\n",
       "97    2011\n",
       "Name: date, dtype: int32"
      ]
     },
     "execution_count": 6,
     "metadata": {},
     "output_type": "execute_result"
    }
   ],
   "source": [
    "# Verifies year can get extracted from the date col\n",
    "mjms_df.date.sample(3).dt.year"
   ]
  },
  {
   "cell_type": "markdown",
   "id": "08cf519a-7fc3-4b6a-8393-554d0794d436",
   "metadata": {},
   "source": [
    "### Fatalities Data Cleaning\n",
    "Calculates the total_victims field given the fatalities and injuries fields. The original data ins't a calculated field. This solution prevents human error in the total_victims field so long as the fatalities and injuries fields are accurate."
   ]
  },
  {
   "cell_type": "code",
   "execution_count": 7,
   "id": "34ae3013-e670-407b-b3b7-5d3bc2c15351",
   "metadata": {},
   "outputs": [],
   "source": [
    "mjms_df.total_victims = mjms_df.fatalities + mjms_df.injured"
   ]
  },
  {
   "cell_type": "markdown",
   "id": "850a2a03-4027-4795-859a-b9306a69b143",
   "metadata": {},
   "source": [
    "### Age of Shooter Data Cleaning\n",
    "Cleans the age of shooter. For those cases where there were multiple shooters, the average is taken"
   ]
  },
  {
   "cell_type": "markdown",
   "id": "ab045d3f-5fbe-47ae-8c2f-114bf7ca39c3",
   "metadata": {},
   "source": [
    "#### Verifying missing data\n",
    "Checking for the missing ages that prevent the data from being stored as an int"
   ]
  },
  {
   "cell_type": "code",
   "execution_count": 8,
   "id": "f3b0877e-7120-43b0-8135-8f1243e406e3",
   "metadata": {
    "scrolled": true
   },
   "outputs": [
    {
     "name": "stdout",
     "output_type": "stream",
     "text": [
      "14, 44, 67, 40, 21, 59, 18, 33, 25, 28, 43, 72, 31, 22, 15, 20, 70, 23, 45, -, 57, 19, 51, 36, 24, 32, 46, 26, 54, 29, 38, 17, 47, 37, 64, 39, 27, 34, 42, 41, 52, 16, 48, 66, 11, 35, 55, 50, "
     ]
    }
   ],
   "source": [
    "for i in mjms_df.age_of_shooter.unique() :\n",
    "    print(i, end=', ')"
   ]
  },
  {
   "cell_type": "markdown",
   "id": "5484a2af-fee6-415f-90ca-8e216b1b9686",
   "metadata": {},
   "source": [
    "#### Converts Data to Numeric\n",
    "Replaces all missing values with -1 then converts the Series to numeric (int)"
   ]
  },
  {
   "cell_type": "code",
   "execution_count": 9,
   "id": "549e350f-8010-4076-bced-e5ecfb00e06e",
   "metadata": {},
   "outputs": [],
   "source": [
    "# Replaces missing ages with -1 then converts the column to integer\n",
    "mjms_df.age_of_shooter = mjms_df.age_of_shooter.replace('-', -1)\n",
    "mjms_df.age_of_shooter = pd.to_numeric(mjms_df.age_of_shooter)"
   ]
  },
  {
   "cell_type": "code",
   "execution_count": 10,
   "id": "90e977ce-5fac-4fae-85ba-c2ceb43cd771",
   "metadata": {},
   "outputs": [],
   "source": [
    "pd.set_option('display.max_colwidth', None)"
   ]
  },
  {
   "cell_type": "markdown",
   "id": "c780e161-ed1f-4f0c-b49b-b42d288259fd",
   "metadata": {},
   "source": [
    "#### Identify Data Cases\n",
    "For the data that's missing or wrong, returns the case name to use for updating the ages"
   ]
  },
  {
   "cell_type": "code",
   "execution_count": 11,
   "id": "218707ea-5c27-4d2c-a602-dc32a68f47e0",
   "metadata": {},
   "outputs": [
    {
     "data": {
      "text/html": [
       "<div>\n",
       "<style scoped>\n",
       "    .dataframe tbody tr th:only-of-type {\n",
       "        vertical-align: middle;\n",
       "    }\n",
       "\n",
       "    .dataframe tbody tr th {\n",
       "        vertical-align: top;\n",
       "    }\n",
       "\n",
       "    .dataframe thead th {\n",
       "        text-align: right;\n",
       "    }\n",
       "</style>\n",
       "<table border=\"1\" class=\"dataframe\">\n",
       "  <thead>\n",
       "    <tr style=\"text-align: right;\">\n",
       "      <th></th>\n",
       "      <th>case</th>\n",
       "      <th>summary</th>\n",
       "      <th>age_of_shooter</th>\n",
       "    </tr>\n",
       "  </thead>\n",
       "  <tbody>\n",
       "    <tr>\n",
       "      <th>25</th>\n",
       "      <td>Sacramento County church shooting</td>\n",
       "      <td>\"A man believed to be meeting his three children for a supervised visit at a church just outside Sacramento on Monday afternoon fatally shot the children and an adult accompanying them before killing himself, police officials said. Sheriff Scott Jones of Sacramento County told reporters at the scene that the gunman had a restraining order against him, and that he had to have supervised visits with his children, who were younger than 15.\" (NYTimes)</td>\n",
       "      <td>-1</td>\n",
       "    </tr>\n",
       "    <tr>\n",
       "      <th>34</th>\n",
       "      <td>Jersey City kosher market shooting</td>\n",
       "      <td>David N. Anderson, 47, and Francine Graham, 50, were heavily armed and traveling in a white van when they first killed a police officer in a cemetery, and then opened fire at a kosher market, “fueled both by anti-Semitism and anti-law enforcement beliefs,” according to New Jersey authorities. The pair, linked to the antisemitic ideology of the Black Hebrew Israelites extremist group, were killed after a lenghty gun battle with police at the market.</td>\n",
       "      <td>-1</td>\n",
       "    </tr>\n",
       "  </tbody>\n",
       "</table>\n",
       "</div>"
      ],
      "text/plain": [
       "                                  case  \\\n",
       "25   Sacramento County church shooting   \n",
       "34  Jersey City kosher market shooting   \n",
       "\n",
       "                                                                                                                                                                                                                                                                                                                                                                                                                                                                 summary  \\\n",
       "25   \"A man believed to be meeting his three children for a supervised visit at a church just outside Sacramento on Monday afternoon fatally shot the children and an adult accompanying them before killing himself, police officials said. Sheriff Scott Jones of Sacramento County told reporters at the scene that the gunman had a restraining order against him, and that he had to have supervised visits with his children, who were younger than 15.\" (NYTimes)   \n",
       "34  David N. Anderson, 47, and Francine Graham, 50, were heavily armed and traveling in a white van when they first killed a police officer in a cemetery, and then opened fire at a kosher market, “fueled both by anti-Semitism and anti-law enforcement beliefs,” according to New Jersey authorities. The pair, linked to the antisemitic ideology of the Black Hebrew Israelites extremist group, were killed after a lenghty gun battle with police at the market.   \n",
       "\n",
       "    age_of_shooter  \n",
       "25              -1  \n",
       "34              -1  "
      ]
     },
     "execution_count": 11,
     "metadata": {},
     "output_type": "execute_result"
    }
   ],
   "source": [
    "# Issolate the cases without ages\n",
    "mjms_df.loc[mjms_df.age_of_shooter == -1, ('case', 'summary', 'age_of_shooter')]"
   ]
  },
  {
   "cell_type": "code",
   "execution_count": 12,
   "id": "9a612ad4-193f-4487-bf8c-71e9d16b4bf6",
   "metadata": {},
   "outputs": [
    {
     "data": {
      "text/html": [
       "<div>\n",
       "<style scoped>\n",
       "    .dataframe tbody tr th:only-of-type {\n",
       "        vertical-align: middle;\n",
       "    }\n",
       "\n",
       "    .dataframe tbody tr th {\n",
       "        vertical-align: top;\n",
       "    }\n",
       "\n",
       "    .dataframe thead th {\n",
       "        text-align: right;\n",
       "    }\n",
       "</style>\n",
       "<table border=\"1\" class=\"dataframe\">\n",
       "  <thead>\n",
       "    <tr style=\"text-align: right;\">\n",
       "      <th></th>\n",
       "      <th>case</th>\n",
       "      <th>summary</th>\n",
       "      <th>age_of_shooter</th>\n",
       "    </tr>\n",
       "  </thead>\n",
       "  <tbody>\n",
       "    <tr>\n",
       "      <th>126</th>\n",
       "      <td>Westside Middle School killings</td>\n",
       "      <td>Mitchell Scott Johnson, 13, and Andrew Douglas Golden, 11, two juveniles, ambushed students and teachers as they left the school; they were apprehended by police at the scene.</td>\n",
       "      <td>11</td>\n",
       "    </tr>\n",
       "  </tbody>\n",
       "</table>\n",
       "</div>"
      ],
      "text/plain": [
       "                                case  \\\n",
       "126  Westside Middle School killings   \n",
       "\n",
       "                                                                                                                                                                             summary  \\\n",
       "126  Mitchell Scott Johnson, 13, and Andrew Douglas Golden, 11, two juveniles, ambushed students and teachers as they left the school; they were apprehended by police at the scene.   \n",
       "\n",
       "     age_of_shooter  \n",
       "126              11  "
      ]
     },
     "execution_count": 12,
     "metadata": {},
     "output_type": "execute_result"
    }
   ],
   "source": [
    "mjms_df.loc[mjms_df.age_of_shooter == 11, ('case', 'summary', 'age_of_shooter')]"
   ]
  },
  {
   "cell_type": "markdown",
   "id": "c91ba14c-6dba-42c1-89c7-e60b49004c7c",
   "metadata": {},
   "source": [
    "#### Supporting documentation\n",
    "For the 'Sacramento County church shooting' case, source @ https://www.cnn.com/2022/02/28/us/sacramento-church-shooting identified the shooter as 39-year-old David Mora Rojas"
   ]
  },
  {
   "cell_type": "code",
   "execution_count": 13,
   "id": "7e54b38b-d85c-4a51-9c0a-eb573aad8500",
   "metadata": {},
   "outputs": [],
   "source": [
    "# Sets age of shooter for 'Sacramento Country Church Shooting'\n",
    "mjms_df.loc[mjms_df.case == 'Sacramento County church shooting', 'age_of_shooter'] = 39"
   ]
  },
  {
   "cell_type": "markdown",
   "id": "2725986f-c02f-455a-ae81-6ab5c9161ff6",
   "metadata": {},
   "source": [
    "#### Fixing Data Input Error\n",
    "For the 'Westside Middle School killings' case, the shooters ages were 13 and 11. There were two assalents though only one was recorded.\n",
    "For the 'Jersey City kosher market shooting' case, the shooters ages were 47 and 50. Ref case summary."
   ]
  },
  {
   "cell_type": "code",
   "execution_count": 14,
   "id": "38f150fa-f035-46e0-8164-53cecd1a2c0c",
   "metadata": {},
   "outputs": [
    {
     "ename": "ValueError",
     "evalue": "Must have equal len keys and value when setting with an iterable",
     "output_type": "error",
     "traceback": [
      "\u001b[1;31m---------------------------------------------------------------------------\u001b[0m",
      "\u001b[1;31mTypeError\u001b[0m                                 Traceback (most recent call last)",
      "File \u001b[1;32m~\\source\\repos\\LearningPython\\LearningPandas\\.venv\\Lib\\site-packages\\pandas\\core\\frame.py:4563\u001b[0m, in \u001b[0;36mDataFrame._set_value\u001b[1;34m(self, index, col, value, takeable)\u001b[0m\n\u001b[0;32m   4562\u001b[0m     iindex \u001b[38;5;241m=\u001b[39m \u001b[38;5;28mself\u001b[39m\u001b[38;5;241m.\u001b[39mindex\u001b[38;5;241m.\u001b[39mget_loc(index)\n\u001b[1;32m-> 4563\u001b[0m \u001b[38;5;28;43mself\u001b[39;49m\u001b[38;5;241;43m.\u001b[39;49m\u001b[43m_mgr\u001b[49m\u001b[38;5;241;43m.\u001b[39;49m\u001b[43mcolumn_setitem\u001b[49m\u001b[43m(\u001b[49m\u001b[43micol\u001b[49m\u001b[43m,\u001b[49m\u001b[43m \u001b[49m\u001b[43miindex\u001b[49m\u001b[43m,\u001b[49m\u001b[43m \u001b[49m\u001b[43mvalue\u001b[49m\u001b[43m,\u001b[49m\u001b[43m \u001b[49m\u001b[43minplace_only\u001b[49m\u001b[38;5;241;43m=\u001b[39;49m\u001b[38;5;28;43;01mTrue\u001b[39;49;00m\u001b[43m)\u001b[49m\n\u001b[0;32m   4564\u001b[0m \u001b[38;5;28mself\u001b[39m\u001b[38;5;241m.\u001b[39m_clear_item_cache()\n",
      "File \u001b[1;32m~\\source\\repos\\LearningPython\\LearningPandas\\.venv\\Lib\\site-packages\\pandas\\core\\internals\\managers.py:1335\u001b[0m, in \u001b[0;36mBlockManager.column_setitem\u001b[1;34m(self, loc, idx, value, inplace_only)\u001b[0m\n\u001b[0;32m   1334\u001b[0m \u001b[38;5;28;01mif\u001b[39;00m inplace_only:\n\u001b[1;32m-> 1335\u001b[0m     \u001b[43mcol_mgr\u001b[49m\u001b[38;5;241;43m.\u001b[39;49m\u001b[43msetitem_inplace\u001b[49m\u001b[43m(\u001b[49m\u001b[43midx\u001b[49m\u001b[43m,\u001b[49m\u001b[43m \u001b[49m\u001b[43mvalue\u001b[49m\u001b[43m)\u001b[49m\n\u001b[0;32m   1336\u001b[0m \u001b[38;5;28;01melse\u001b[39;00m:\n",
      "File \u001b[1;32m~\\source\\repos\\LearningPython\\LearningPandas\\.venv\\Lib\\site-packages\\pandas\\core\\internals\\managers.py:2044\u001b[0m, in \u001b[0;36mSingleBlockManager.setitem_inplace\u001b[1;34m(self, indexer, value, warn)\u001b[0m\n\u001b[0;32m   2038\u001b[0m         warnings\u001b[38;5;241m.\u001b[39mwarn(\n\u001b[0;32m   2039\u001b[0m             COW_WARNING_SETITEM_MSG,\n\u001b[0;32m   2040\u001b[0m             \u001b[38;5;167;01mFutureWarning\u001b[39;00m,\n\u001b[0;32m   2041\u001b[0m             stacklevel\u001b[38;5;241m=\u001b[39mfind_stack_level(),\n\u001b[0;32m   2042\u001b[0m         )\n\u001b[1;32m-> 2044\u001b[0m \u001b[38;5;28;43msuper\u001b[39;49m\u001b[43m(\u001b[49m\u001b[43m)\u001b[49m\u001b[38;5;241;43m.\u001b[39;49m\u001b[43msetitem_inplace\u001b[49m\u001b[43m(\u001b[49m\u001b[43mindexer\u001b[49m\u001b[43m,\u001b[49m\u001b[43m \u001b[49m\u001b[43mvalue\u001b[49m\u001b[43m)\u001b[49m\n",
      "File \u001b[1;32m~\\source\\repos\\LearningPython\\LearningPandas\\.venv\\Lib\\site-packages\\pandas\\core\\internals\\base.py:363\u001b[0m, in \u001b[0;36mSingleDataManager.setitem_inplace\u001b[1;34m(self, indexer, value, warn)\u001b[0m\n\u001b[0;32m    361\u001b[0m     value \u001b[38;5;241m=\u001b[39m value[\u001b[38;5;241m0\u001b[39m, \u001b[38;5;241m.\u001b[39m\u001b[38;5;241m.\u001b[39m\u001b[38;5;241m.\u001b[39m]\n\u001b[1;32m--> 363\u001b[0m \u001b[43marr\u001b[49m\u001b[43m[\u001b[49m\u001b[43mindexer\u001b[49m\u001b[43m]\u001b[49m \u001b[38;5;241m=\u001b[39m value\n",
      "\u001b[1;31mTypeError\u001b[0m: int() argument must be a string, a bytes-like object or a real number, not 'list'",
      "\nDuring handling of the above exception, another exception occurred:\n",
      "\u001b[1;31mValueError\u001b[0m                                Traceback (most recent call last)",
      "Cell \u001b[1;32mIn[14], line 1\u001b[0m\n\u001b[1;32m----> 1\u001b[0m \u001b[43mmjms_df\u001b[49m\u001b[38;5;241;43m.\u001b[39;49m\u001b[43mat\u001b[49m\u001b[43m[\u001b[49m\u001b[38;5;241;43m34\u001b[39;49m\u001b[43m,\u001b[49m\u001b[43m \u001b[49m\u001b[38;5;124;43m'\u001b[39;49m\u001b[38;5;124;43mage_of_shooter\u001b[39;49m\u001b[38;5;124;43m'\u001b[39;49m\u001b[43m]\u001b[49m \u001b[38;5;241m=\u001b[39m [\u001b[38;5;241m47\u001b[39m, \u001b[38;5;241m50\u001b[39m]\n\u001b[0;32m      2\u001b[0m mjms_df\u001b[38;5;241m.\u001b[39mat[\u001b[38;5;241m126\u001b[39m, \u001b[38;5;124m'\u001b[39m\u001b[38;5;124mage_of_shooter\u001b[39m\u001b[38;5;124m'\u001b[39m] \u001b[38;5;241m=\u001b[39m [\u001b[38;5;241m11\u001b[39m, \u001b[38;5;241m13\u001b[39m]\n",
      "File \u001b[1;32m~\\source\\repos\\LearningPython\\LearningPandas\\.venv\\Lib\\site-packages\\pandas\\core\\indexing.py:2586\u001b[0m, in \u001b[0;36m_AtIndexer.__setitem__\u001b[1;34m(self, key, value)\u001b[0m\n\u001b[0;32m   2583\u001b[0m     \u001b[38;5;28mself\u001b[39m\u001b[38;5;241m.\u001b[39mobj\u001b[38;5;241m.\u001b[39mloc[key] \u001b[38;5;241m=\u001b[39m value\n\u001b[0;32m   2584\u001b[0m     \u001b[38;5;28;01mreturn\u001b[39;00m\n\u001b[1;32m-> 2586\u001b[0m \u001b[38;5;28;01mreturn\u001b[39;00m \u001b[38;5;28;43msuper\u001b[39;49m\u001b[43m(\u001b[49m\u001b[43m)\u001b[49m\u001b[38;5;241;43m.\u001b[39;49m\u001b[38;5;21;43m__setitem__\u001b[39;49m\u001b[43m(\u001b[49m\u001b[43mkey\u001b[49m\u001b[43m,\u001b[49m\u001b[43m \u001b[49m\u001b[43mvalue\u001b[49m\u001b[43m)\u001b[49m\n",
      "File \u001b[1;32m~\\source\\repos\\LearningPython\\LearningPandas\\.venv\\Lib\\site-packages\\pandas\\core\\indexing.py:2542\u001b[0m, in \u001b[0;36m_ScalarAccessIndexer.__setitem__\u001b[1;34m(self, key, value)\u001b[0m\n\u001b[0;32m   2539\u001b[0m \u001b[38;5;28;01mif\u001b[39;00m \u001b[38;5;28mlen\u001b[39m(key) \u001b[38;5;241m!=\u001b[39m \u001b[38;5;28mself\u001b[39m\u001b[38;5;241m.\u001b[39mndim:\n\u001b[0;32m   2540\u001b[0m     \u001b[38;5;28;01mraise\u001b[39;00m \u001b[38;5;167;01mValueError\u001b[39;00m(\u001b[38;5;124m\"\u001b[39m\u001b[38;5;124mNot enough indexers for scalar access (setting)!\u001b[39m\u001b[38;5;124m\"\u001b[39m)\n\u001b[1;32m-> 2542\u001b[0m \u001b[38;5;28;43mself\u001b[39;49m\u001b[38;5;241;43m.\u001b[39;49m\u001b[43mobj\u001b[49m\u001b[38;5;241;43m.\u001b[39;49m\u001b[43m_set_value\u001b[49m\u001b[43m(\u001b[49m\u001b[38;5;241;43m*\u001b[39;49m\u001b[43mkey\u001b[49m\u001b[43m,\u001b[49m\u001b[43m \u001b[49m\u001b[43mvalue\u001b[49m\u001b[38;5;241;43m=\u001b[39;49m\u001b[43mvalue\u001b[49m\u001b[43m,\u001b[49m\u001b[43m \u001b[49m\u001b[43mtakeable\u001b[49m\u001b[38;5;241;43m=\u001b[39;49m\u001b[38;5;28;43mself\u001b[39;49m\u001b[38;5;241;43m.\u001b[39;49m\u001b[43m_takeable\u001b[49m\u001b[43m)\u001b[49m\n",
      "File \u001b[1;32m~\\source\\repos\\LearningPython\\LearningPandas\\.venv\\Lib\\site-packages\\pandas\\core\\frame.py:4575\u001b[0m, in \u001b[0;36mDataFrame._set_value\u001b[1;34m(self, index, col, value, takeable)\u001b[0m\n\u001b[0;32m   4573\u001b[0m         \u001b[38;5;28mself\u001b[39m\u001b[38;5;241m.\u001b[39miloc[index, col] \u001b[38;5;241m=\u001b[39m value\n\u001b[0;32m   4574\u001b[0m     \u001b[38;5;28;01melse\u001b[39;00m:\n\u001b[1;32m-> 4575\u001b[0m         \u001b[38;5;28;43mself\u001b[39;49m\u001b[38;5;241;43m.\u001b[39;49m\u001b[43mloc\u001b[49m\u001b[43m[\u001b[49m\u001b[43mindex\u001b[49m\u001b[43m,\u001b[49m\u001b[43m \u001b[49m\u001b[43mcol\u001b[49m\u001b[43m]\u001b[49m \u001b[38;5;241m=\u001b[39m value\n\u001b[0;32m   4576\u001b[0m     \u001b[38;5;28mself\u001b[39m\u001b[38;5;241m.\u001b[39m_item_cache\u001b[38;5;241m.\u001b[39mpop(col, \u001b[38;5;28;01mNone\u001b[39;00m)\n\u001b[0;32m   4578\u001b[0m \u001b[38;5;28;01mexcept\u001b[39;00m InvalidIndexError \u001b[38;5;28;01mas\u001b[39;00m ii_err:\n\u001b[0;32m   4579\u001b[0m     \u001b[38;5;66;03m# GH48729: Seems like you are trying to assign a value to a\u001b[39;00m\n\u001b[0;32m   4580\u001b[0m     \u001b[38;5;66;03m# row when only scalar options are permitted\u001b[39;00m\n",
      "File \u001b[1;32m~\\source\\repos\\LearningPython\\LearningPandas\\.venv\\Lib\\site-packages\\pandas\\core\\indexing.py:911\u001b[0m, in \u001b[0;36m_LocationIndexer.__setitem__\u001b[1;34m(self, key, value)\u001b[0m\n\u001b[0;32m    908\u001b[0m \u001b[38;5;28mself\u001b[39m\u001b[38;5;241m.\u001b[39m_has_valid_setitem_indexer(key)\n\u001b[0;32m    910\u001b[0m iloc \u001b[38;5;241m=\u001b[39m \u001b[38;5;28mself\u001b[39m \u001b[38;5;28;01mif\u001b[39;00m \u001b[38;5;28mself\u001b[39m\u001b[38;5;241m.\u001b[39mname \u001b[38;5;241m==\u001b[39m \u001b[38;5;124m\"\u001b[39m\u001b[38;5;124miloc\u001b[39m\u001b[38;5;124m\"\u001b[39m \u001b[38;5;28;01melse\u001b[39;00m \u001b[38;5;28mself\u001b[39m\u001b[38;5;241m.\u001b[39mobj\u001b[38;5;241m.\u001b[39miloc\n\u001b[1;32m--> 911\u001b[0m \u001b[43miloc\u001b[49m\u001b[38;5;241;43m.\u001b[39;49m\u001b[43m_setitem_with_indexer\u001b[49m\u001b[43m(\u001b[49m\u001b[43mindexer\u001b[49m\u001b[43m,\u001b[49m\u001b[43m \u001b[49m\u001b[43mvalue\u001b[49m\u001b[43m,\u001b[49m\u001b[43m \u001b[49m\u001b[38;5;28;43mself\u001b[39;49m\u001b[38;5;241;43m.\u001b[39;49m\u001b[43mname\u001b[49m\u001b[43m)\u001b[49m\n",
      "File \u001b[1;32m~\\source\\repos\\LearningPython\\LearningPandas\\.venv\\Lib\\site-packages\\pandas\\core\\indexing.py:1942\u001b[0m, in \u001b[0;36m_iLocIndexer._setitem_with_indexer\u001b[1;34m(self, indexer, value, name)\u001b[0m\n\u001b[0;32m   1939\u001b[0m \u001b[38;5;66;03m# align and set the values\u001b[39;00m\n\u001b[0;32m   1940\u001b[0m \u001b[38;5;28;01mif\u001b[39;00m take_split_path:\n\u001b[0;32m   1941\u001b[0m     \u001b[38;5;66;03m# We have to operate column-wise\u001b[39;00m\n\u001b[1;32m-> 1942\u001b[0m     \u001b[38;5;28;43mself\u001b[39;49m\u001b[38;5;241;43m.\u001b[39;49m\u001b[43m_setitem_with_indexer_split_path\u001b[49m\u001b[43m(\u001b[49m\u001b[43mindexer\u001b[49m\u001b[43m,\u001b[49m\u001b[43m \u001b[49m\u001b[43mvalue\u001b[49m\u001b[43m,\u001b[49m\u001b[43m \u001b[49m\u001b[43mname\u001b[49m\u001b[43m)\u001b[49m\n\u001b[0;32m   1943\u001b[0m \u001b[38;5;28;01melse\u001b[39;00m:\n\u001b[0;32m   1944\u001b[0m     \u001b[38;5;28mself\u001b[39m\u001b[38;5;241m.\u001b[39m_setitem_single_block(indexer, value, name)\n",
      "File \u001b[1;32m~\\source\\repos\\LearningPython\\LearningPandas\\.venv\\Lib\\site-packages\\pandas\\core\\indexing.py:1998\u001b[0m, in \u001b[0;36m_iLocIndexer._setitem_with_indexer_split_path\u001b[1;34m(self, indexer, value, name)\u001b[0m\n\u001b[0;32m   1993\u001b[0m     \u001b[38;5;28;01mif\u001b[39;00m \u001b[38;5;28mlen\u001b[39m(value) \u001b[38;5;241m==\u001b[39m \u001b[38;5;241m1\u001b[39m \u001b[38;5;129;01mand\u001b[39;00m \u001b[38;5;129;01mnot\u001b[39;00m is_integer(info_axis):\n\u001b[0;32m   1994\u001b[0m         \u001b[38;5;66;03m# This is a case like df.iloc[:3, [1]] = [0]\u001b[39;00m\n\u001b[0;32m   1995\u001b[0m         \u001b[38;5;66;03m#  where we treat as df.iloc[:3, 1] = 0\u001b[39;00m\n\u001b[0;32m   1996\u001b[0m         \u001b[38;5;28;01mreturn\u001b[39;00m \u001b[38;5;28mself\u001b[39m\u001b[38;5;241m.\u001b[39m_setitem_with_indexer((pi, info_axis[\u001b[38;5;241m0\u001b[39m]), value[\u001b[38;5;241m0\u001b[39m])\n\u001b[1;32m-> 1998\u001b[0m     \u001b[38;5;28;01mraise\u001b[39;00m \u001b[38;5;167;01mValueError\u001b[39;00m(\n\u001b[0;32m   1999\u001b[0m         \u001b[38;5;124m\"\u001b[39m\u001b[38;5;124mMust have equal len keys and value \u001b[39m\u001b[38;5;124m\"\u001b[39m\n\u001b[0;32m   2000\u001b[0m         \u001b[38;5;124m\"\u001b[39m\u001b[38;5;124mwhen setting with an iterable\u001b[39m\u001b[38;5;124m\"\u001b[39m\n\u001b[0;32m   2001\u001b[0m     )\n\u001b[0;32m   2003\u001b[0m \u001b[38;5;28;01melif\u001b[39;00m lplane_indexer \u001b[38;5;241m==\u001b[39m \u001b[38;5;241m0\u001b[39m \u001b[38;5;129;01mand\u001b[39;00m \u001b[38;5;28mlen\u001b[39m(value) \u001b[38;5;241m==\u001b[39m \u001b[38;5;28mlen\u001b[39m(\u001b[38;5;28mself\u001b[39m\u001b[38;5;241m.\u001b[39mobj\u001b[38;5;241m.\u001b[39mindex):\n\u001b[0;32m   2004\u001b[0m     \u001b[38;5;66;03m# We get here in one case via .loc with a all-False mask\u001b[39;00m\n\u001b[0;32m   2005\u001b[0m     \u001b[38;5;28;01mpass\u001b[39;00m\n",
      "\u001b[1;31mValueError\u001b[0m: Must have equal len keys and value when setting with an iterable"
     ]
    }
   ],
   "source": [
    "mjms_df.at[34, 'age_of_shooter'] = [47, 50]\n",
    "mjms_df.at[126, 'age_of_shooter'] = [11, 13]"
   ]
  },
  {
   "cell_type": "markdown",
   "id": "a59ea815-4444-4e99-b26b-61feba16147a",
   "metadata": {},
   "source": [
    "#### Verify Data Corrections"
   ]
  },
  {
   "cell_type": "code",
   "execution_count": null,
   "id": "c0690cae-c375-4d45-a89c-502e7b15c53f",
   "metadata": {},
   "outputs": [],
   "source": [
    "mjms_df.loc[(25, 34, 126), ('case', 'summary', 'age_of_shooter')]"
   ]
  },
  {
   "cell_type": "code",
   "execution_count": null,
   "id": "fd4be938-dd9d-48a0-ae72-2d3a066eae7b",
   "metadata": {},
   "outputs": [],
   "source": [
    "pd.reset_option('display.max_colwidth')"
   ]
  },
  {
   "cell_type": "markdown",
   "id": "02f70cf3-e79f-4f2a-8556-5416d13a61c0",
   "metadata": {},
   "source": [
    "### Gender Data Shooter\n",
    "Normalizes the genderes of the shooters\n",
    "\n",
    "- M: Male gender \n",
    "- F: Female gender\n",
    "- T->F: Transgender transitioning from male to female\n",
    "- T->M: Transgender transitioning from female to male\n",
    "- M/M: Slash used when multiple shooters where each letter represents a shooter\n",
    "- O: Gender non-conforming including agender, non-binary, bigender, etc."
   ]
  },
  {
   "cell_type": "code",
   "execution_count": null,
   "id": "62386aa2-d8e5-43be-bf63-dda6c72c109e",
   "metadata": {},
   "outputs": [],
   "source": [
    "mjms_df.gender.unique()"
   ]
  },
  {
   "cell_type": "code",
   "execution_count": null,
   "id": "12b30a8a-309a-493a-a484-e7c2bbd327b2",
   "metadata": {},
   "outputs": [],
   "source": [
    "mjms_df.gender = mjms_df.gender.replace('Female', 'F')\n",
    "mjms_df.gender = mjms_df.gender.replace('Male', 'M')\n",
    "mjms_df.gender = mjms_df.gender.replace('Male & Female', 'M/F')"
   ]
  },
  {
   "cell_type": "markdown",
   "id": "0d4360f5-8440-492a-8c46-c658d8ca1a84",
   "metadata": {},
   "source": [
    "#### Cleaning Audrey's case\n",
    "Identifies Index and updates the case to reflect she is a Transgender Female to Male"
   ]
  },
  {
   "cell_type": "code",
   "execution_count": null,
   "id": "c25031e3-704f-407f-81f4-db15c0ab0d4d",
   "metadata": {},
   "outputs": [],
   "source": [
    "mjms_df[mjms_df.gender.str.contains('F (\"identifies as transgender', regex=False)]"
   ]
  },
  {
   "cell_type": "markdown",
   "id": "78a92ec0-3a48-4909-9bfc-ed792098b25b",
   "metadata": {},
   "source": [
    "#### Cleaning 'Westside Middle School killings' case\n",
    "The gender of both shooters were not reflected. Updates to account for two shooters"
   ]
  },
  {
   "cell_type": "code",
   "execution_count": null,
   "id": "c778b26f-bbc1-4444-beff-0145ebb8ed07",
   "metadata": {},
   "outputs": [],
   "source": [
    "mjms_df.at[126, 'gender'] = 'M/M'"
   ]
  },
  {
   "cell_type": "code",
   "execution_count": 15,
   "id": "c3217da5-86db-49bc-819b-22520e1d500b",
   "metadata": {},
   "outputs": [
    {
     "data": {
      "text/plain": [
       "array(['M',\n",
       "       'F (\"identifies as transgender\" and \"Audrey Hale is a biological woman who, on a social media profile, used male pronouns,” according to Nashville Metro PD officials)',\n",
       "       'Male & Female', 'F', 'Male', 'Female'], dtype=object)"
      ]
     },
     "execution_count": 15,
     "metadata": {},
     "output_type": "execute_result"
    }
   ],
   "source": [
    "mjms_df.gender.unique()"
   ]
  },
  {
   "cell_type": "code",
   "execution_count": null,
   "id": "8d906c75-31f2-4cd2-8465-4abe1b408c77",
   "metadata": {},
   "outputs": [],
   "source": []
  },
  {
   "cell_type": "code",
   "execution_count": null,
   "id": "7958c3e7-53fa-4502-89f7-d71e69050e64",
   "metadata": {},
   "outputs": [],
   "source": []
  },
  {
   "cell_type": "code",
   "execution_count": null,
   "id": "6edb07e4-b770-495d-a05e-adf81bf70377",
   "metadata": {},
   "outputs": [],
   "source": []
  },
  {
   "cell_type": "code",
   "execution_count": null,
   "id": "d4a40012-ed38-497f-8c3b-28666a733ffa",
   "metadata": {},
   "outputs": [],
   "source": []
  }
 ],
 "metadata": {
  "kernelspec": {
   "display_name": "Python 3 (ipykernel)",
   "language": "python",
   "name": "python3"
  },
  "language_info": {
   "codemirror_mode": {
    "name": "ipython",
    "version": 3
   },
   "file_extension": ".py",
   "mimetype": "text/x-python",
   "name": "python",
   "nbconvert_exporter": "python",
   "pygments_lexer": "ipython3",
   "version": "3.11.9"
  }
 },
 "nbformat": 4,
 "nbformat_minor": 5
}
