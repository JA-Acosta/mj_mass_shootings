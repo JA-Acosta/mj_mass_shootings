{
 "cells": [
  {
   "cell_type": "markdown",
   "id": "8baa6183-1f4e-4069-8291-db609ae23f18",
   "metadata": {},
   "source": [
    "# Mother Jones Mass Shooting Data Cleaning\n",
    "### Authors: Joe Acosta\n",
    "Imports the initial data collected by the mother jones foundation and cleans the data. The data is currently being imported directly from the website and are being cleaned such that future research can expand on their findings.\n",
    "\n",
    "Mother Jones Initial Data: https://www.motherjones.com/politics/2012/12/mass-shootings-mother-jones-full-data/"
   ]
  },
  {
   "cell_type": "code",
   "execution_count": 1,
   "id": "8b6fa6ae-e98c-4853-9e81-ea6ce28dace9",
   "metadata": {},
   "outputs": [],
   "source": [
    "import pandas as pd\n",
    "import numpy as np\n",
    "import matplotlib.pyplot as plt"
   ]
  },
  {
   "cell_type": "markdown",
   "id": "326e8806-4bfe-4455-be42-26d6ce261e1d",
   "metadata": {},
   "source": [
    "### Dataframe Dictionary\n",
    "Creates a Data Dictionary that the user can reference locally explaining each column"
   ]
  },
  {
   "cell_type": "code",
   "execution_count": 2,
   "id": "c0ae1661-1589-4e25-8373-e20841e52ee6",
   "metadata": {},
   "outputs": [],
   "source": [
    "data_dict = {\n",
    "    'Column': [\n",
    "        'case', 'location', 'date', 'summary', 'fatalities', 'injured', 'total_victims',\n",
    "        'place', 'age_of_shooter', 'prior_signs_mental_health_issues', 'mental_health_details',\n",
    "        'weapons_obtained_legally', 'where_obtained', 'weapon_type', 'weapon_details',\n",
    "        'race', 'gender', 'sources', 'mental_health_sources', 'sources_additional_age',\n",
    "        'latitude', 'longitude', 'type', 'city', 'state', 'where_obtained_category'\n",
    "    ],\n",
    "    'DataType': [\n",
    "        'object', 'object', 'datetime64[ns]', 'object', 'int64', 'int64', 'int64',\n",
    "        'object', 'object', 'object', 'object',\n",
    "        'object', 'object', 'object', 'object',\n",
    "        'object', 'object', 'object', 'object', 'object',\n",
    "        'object', 'object', 'object', 'object', 'object', 'object'\n",
    "    ],\n",
    "    'Description': [\n",
    "        'Unique case name',\n",
    "        'City and State incident took place',\n",
    "        'Incident Date',\n",
    "        'Summary description of the incident',\n",
    "        'Number of fatalities in incident',\n",
    "        'Number of injured victims',\n",
    "        'Total victims (fatalities + injured)',\n",
    "        'Specific place or venue of incident',\n",
    "        'Age of the shooter',\n",
    "        'Shooter mental health record prior to',\n",
    "        'Details regarding mental health status',\n",
    "        'Whether weapons were legally obtained',\n",
    "        'Where weapons were obtained',\n",
    "        'Type(s) of weapons used',\n",
    "        'Additional details about weapons',\n",
    "        'Race of the shooter',\n",
    "        'Gender of the shooter',\n",
    "        'Source references for incident information',\n",
    "        'Sources related to mental health information',\n",
    "        'Additional sources or notes regarding age',\n",
    "        'Latitude coordinate of incident location',\n",
    "        'Longitude coordinate of incident location',\n",
    "        'Type/category of incident',\n",
    "        'City where incident occurred',\n",
    "        'State where incident occurred',\n",
    "        'Categorized location where weapons were obtained'\n",
    "    ]\n",
    "}\n",
    "\n",
    "data_dictionary = pd.DataFrame(data_dict)"
   ]
  },
  {
   "cell_type": "markdown",
   "id": "7d374955-01d1-448e-803d-50c3c62c622a",
   "metadata": {},
   "source": [
    "#### Saves Data Dictionary"
   ]
  },
  {
   "cell_type": "code",
   "execution_count": 3,
   "id": "a9190223-efd5-47ea-a23b-a996f9316923",
   "metadata": {},
   "outputs": [],
   "source": [
    "data_dictionary.to_csv('../Data/data_dict.csv', index=False)"
   ]
  },
  {
   "cell_type": "code",
   "execution_count": 4,
   "id": "7e743836-d264-4ae0-b3b5-b254439bc4eb",
   "metadata": {},
   "outputs": [
    {
     "data": {
      "text/html": [
       "<div>\n",
       "<style scoped>\n",
       "    .dataframe tbody tr th:only-of-type {\n",
       "        vertical-align: middle;\n",
       "    }\n",
       "\n",
       "    .dataframe tbody tr th {\n",
       "        vertical-align: top;\n",
       "    }\n",
       "\n",
       "    .dataframe thead th {\n",
       "        text-align: right;\n",
       "    }\n",
       "</style>\n",
       "<table border=\"1\" class=\"dataframe\">\n",
       "  <thead>\n",
       "    <tr style=\"text-align: right;\">\n",
       "      <th></th>\n",
       "      <th>DataType</th>\n",
       "      <th>Description</th>\n",
       "    </tr>\n",
       "    <tr>\n",
       "      <th>Column</th>\n",
       "      <th></th>\n",
       "      <th></th>\n",
       "    </tr>\n",
       "  </thead>\n",
       "  <tbody>\n",
       "    <tr>\n",
       "      <th>case</th>\n",
       "      <td>object</td>\n",
       "      <td>Unique case name</td>\n",
       "    </tr>\n",
       "    <tr>\n",
       "      <th>location</th>\n",
       "      <td>object</td>\n",
       "      <td>City and State incident took place</td>\n",
       "    </tr>\n",
       "    <tr>\n",
       "      <th>date</th>\n",
       "      <td>datetime64[ns]</td>\n",
       "      <td>Incident Date</td>\n",
       "    </tr>\n",
       "    <tr>\n",
       "      <th>summary</th>\n",
       "      <td>object</td>\n",
       "      <td>Summary description of the incident</td>\n",
       "    </tr>\n",
       "    <tr>\n",
       "      <th>fatalities</th>\n",
       "      <td>int64</td>\n",
       "      <td>Number of fatalities in incident</td>\n",
       "    </tr>\n",
       "    <tr>\n",
       "      <th>injured</th>\n",
       "      <td>int64</td>\n",
       "      <td>Number of injured victims</td>\n",
       "    </tr>\n",
       "    <tr>\n",
       "      <th>total_victims</th>\n",
       "      <td>int64</td>\n",
       "      <td>Total victims (fatalities + injured)</td>\n",
       "    </tr>\n",
       "    <tr>\n",
       "      <th>place</th>\n",
       "      <td>object</td>\n",
       "      <td>Specific place or venue of incident</td>\n",
       "    </tr>\n",
       "    <tr>\n",
       "      <th>age_of_shooter</th>\n",
       "      <td>object</td>\n",
       "      <td>Age of the shooter</td>\n",
       "    </tr>\n",
       "    <tr>\n",
       "      <th>prior_signs_mental_health_issues</th>\n",
       "      <td>object</td>\n",
       "      <td>Shooter mental health record prior to</td>\n",
       "    </tr>\n",
       "    <tr>\n",
       "      <th>mental_health_details</th>\n",
       "      <td>object</td>\n",
       "      <td>Details regarding mental health status</td>\n",
       "    </tr>\n",
       "    <tr>\n",
       "      <th>weapons_obtained_legally</th>\n",
       "      <td>object</td>\n",
       "      <td>Whether weapons were legally obtained</td>\n",
       "    </tr>\n",
       "    <tr>\n",
       "      <th>where_obtained</th>\n",
       "      <td>object</td>\n",
       "      <td>Where weapons were obtained</td>\n",
       "    </tr>\n",
       "    <tr>\n",
       "      <th>weapon_type</th>\n",
       "      <td>object</td>\n",
       "      <td>Type(s) of weapons used</td>\n",
       "    </tr>\n",
       "    <tr>\n",
       "      <th>weapon_details</th>\n",
       "      <td>object</td>\n",
       "      <td>Additional details about weapons</td>\n",
       "    </tr>\n",
       "    <tr>\n",
       "      <th>race</th>\n",
       "      <td>object</td>\n",
       "      <td>Race of the shooter</td>\n",
       "    </tr>\n",
       "    <tr>\n",
       "      <th>gender</th>\n",
       "      <td>object</td>\n",
       "      <td>Gender of the shooter</td>\n",
       "    </tr>\n",
       "    <tr>\n",
       "      <th>sources</th>\n",
       "      <td>object</td>\n",
       "      <td>Source references for incident information</td>\n",
       "    </tr>\n",
       "    <tr>\n",
       "      <th>mental_health_sources</th>\n",
       "      <td>object</td>\n",
       "      <td>Sources related to mental health information</td>\n",
       "    </tr>\n",
       "    <tr>\n",
       "      <th>sources_additional_age</th>\n",
       "      <td>object</td>\n",
       "      <td>Additional sources or notes regarding age</td>\n",
       "    </tr>\n",
       "    <tr>\n",
       "      <th>latitude</th>\n",
       "      <td>object</td>\n",
       "      <td>Latitude coordinate of incident location</td>\n",
       "    </tr>\n",
       "    <tr>\n",
       "      <th>longitude</th>\n",
       "      <td>object</td>\n",
       "      <td>Longitude coordinate of incident location</td>\n",
       "    </tr>\n",
       "    <tr>\n",
       "      <th>type</th>\n",
       "      <td>object</td>\n",
       "      <td>Type/category of incident</td>\n",
       "    </tr>\n",
       "    <tr>\n",
       "      <th>city</th>\n",
       "      <td>object</td>\n",
       "      <td>City where incident occurred</td>\n",
       "    </tr>\n",
       "    <tr>\n",
       "      <th>state</th>\n",
       "      <td>object</td>\n",
       "      <td>State where incident occurred</td>\n",
       "    </tr>\n",
       "    <tr>\n",
       "      <th>where_obtained_category</th>\n",
       "      <td>object</td>\n",
       "      <td>Categorized location where weapons were obtained</td>\n",
       "    </tr>\n",
       "  </tbody>\n",
       "</table>\n",
       "</div>"
      ],
      "text/plain": [
       "                                        DataType  \\\n",
       "Column                                             \n",
       "case                                      object   \n",
       "location                                  object   \n",
       "date                              datetime64[ns]   \n",
       "summary                                   object   \n",
       "fatalities                                 int64   \n",
       "injured                                    int64   \n",
       "total_victims                              int64   \n",
       "place                                     object   \n",
       "age_of_shooter                            object   \n",
       "prior_signs_mental_health_issues          object   \n",
       "mental_health_details                     object   \n",
       "weapons_obtained_legally                  object   \n",
       "where_obtained                            object   \n",
       "weapon_type                               object   \n",
       "weapon_details                            object   \n",
       "race                                      object   \n",
       "gender                                    object   \n",
       "sources                                   object   \n",
       "mental_health_sources                     object   \n",
       "sources_additional_age                    object   \n",
       "latitude                                  object   \n",
       "longitude                                 object   \n",
       "type                                      object   \n",
       "city                                      object   \n",
       "state                                     object   \n",
       "where_obtained_category                   object   \n",
       "\n",
       "                                                                       Description  \n",
       "Column                                                                              \n",
       "case                                                              Unique case name  \n",
       "location                                        City and State incident took place  \n",
       "date                                                                 Incident Date  \n",
       "summary                                        Summary description of the incident  \n",
       "fatalities                                        Number of fatalities in incident  \n",
       "injured                                                  Number of injured victims  \n",
       "total_victims                                 Total victims (fatalities + injured)  \n",
       "place                                          Specific place or venue of incident  \n",
       "age_of_shooter                                                  Age of the shooter  \n",
       "prior_signs_mental_health_issues             Shooter mental health record prior to  \n",
       "mental_health_details                       Details regarding mental health status  \n",
       "weapons_obtained_legally                     Whether weapons were legally obtained  \n",
       "where_obtained                                         Where weapons were obtained  \n",
       "weapon_type                                                Type(s) of weapons used  \n",
       "weapon_details                                    Additional details about weapons  \n",
       "race                                                           Race of the shooter  \n",
       "gender                                                       Gender of the shooter  \n",
       "sources                                 Source references for incident information  \n",
       "mental_health_sources                 Sources related to mental health information  \n",
       "sources_additional_age                   Additional sources or notes regarding age  \n",
       "latitude                                  Latitude coordinate of incident location  \n",
       "longitude                                Longitude coordinate of incident location  \n",
       "type                                                     Type/category of incident  \n",
       "city                                                  City where incident occurred  \n",
       "state                                                State where incident occurred  \n",
       "where_obtained_category           Categorized location where weapons were obtained  "
      ]
     },
     "execution_count": 4,
     "metadata": {},
     "output_type": "execute_result"
    }
   ],
   "source": [
    "data_dictionary = data_dictionary.set_index('Column')\n",
    "data_dictionary"
   ]
  },
  {
   "cell_type": "markdown",
   "id": "fbdeeb8d-9b07-4fed-b55f-61b19fe5f34a",
   "metadata": {},
   "source": [
    "## Initial Data Import\n",
    "Creates a Pandas DataFrame given the link to the initial data.\n",
    "Verifies the data types and corrects any discrepencies."
   ]
  },
  {
   "cell_type": "code",
   "execution_count": 5,
   "id": "74aab1a4-49a0-493e-9022-6877aa78a3e3",
   "metadata": {},
   "outputs": [],
   "source": [
    "mj_url = 'https://docs.google.com/spreadsheets/d/e/2PACX-1vQBEbQoWMn_P81DuwmlQC0_jr2sJDzkkC0mvF6WLcM53ZYXi8RMfUlunvP1B5W0jRrJvH-wc-WGjDB1/pub?gid=0&single=true&output=csv'\n",
    "mjms_df = pd.read_csv(mj_url)"
   ]
  },
  {
   "cell_type": "code",
   "execution_count": 6,
   "id": "b56d10a4-7ae9-43c5-85fa-e9e8f21ffd29",
   "metadata": {
    "scrolled": true
   },
   "outputs": [
    {
     "name": "stdout",
     "output_type": "stream",
     "text": [
      "<class 'pandas.core.frame.DataFrame'>\n",
      "RangeIndex: 151 entries, 0 to 150\n",
      "Data columns (total 24 columns):\n",
      " #   Column                            Non-Null Count  Dtype \n",
      "---  ------                            --------------  ----- \n",
      " 0   case                              151 non-null    object\n",
      " 1   location                          151 non-null    object\n",
      " 2   date                              151 non-null    object\n",
      " 3   summary                           151 non-null    object\n",
      " 4   fatalities                        151 non-null    int64 \n",
      " 5   injured                           151 non-null    int64 \n",
      " 6   total_victims                     151 non-null    int64 \n",
      " 7   location.1                        151 non-null    object\n",
      " 8   age_of_shooter                    151 non-null    object\n",
      " 9   prior_signs_mental_health_issues  151 non-null    object\n",
      " 10  mental_health_details             151 non-null    object\n",
      " 11  weapons_obtained_legally          151 non-null    object\n",
      " 12  where_obtained                    151 non-null    object\n",
      " 13  weapon_type                       151 non-null    object\n",
      " 14  weapon_details                    150 non-null    object\n",
      " 15  race                              151 non-null    object\n",
      " 16  gender                            151 non-null    object\n",
      " 17  sources                           151 non-null    object\n",
      " 18  mental_health_sources             151 non-null    object\n",
      " 19  sources_additional_age            151 non-null    object\n",
      " 20  latitude                          151 non-null    object\n",
      " 21  longitude                         151 non-null    object\n",
      " 22  type                              151 non-null    object\n",
      " 23  year                              151 non-null    int64 \n",
      "dtypes: int64(4), object(20)\n",
      "memory usage: 28.4+ KB\n"
     ]
    }
   ],
   "source": [
    "mjms_df.info()"
   ]
  },
  {
   "cell_type": "markdown",
   "id": "18f153b8-6e41-47c2-a1fa-4a8d8a4d50f6",
   "metadata": {},
   "source": [
    "## Data Cleaning"
   ]
  },
  {
   "cell_type": "markdown",
   "id": "235aa6fe-050d-4d74-9d6e-4af963de004d",
   "metadata": {},
   "source": [
    "### Date Data Cleaning\n",
    "There are various formats for the year and there exists a seperate column year. Updates the date format such that it's in mm-dd-yyyy format then drops the year column. Also converts the date to datetime64[ns] type allowing for various date related opperations including sorting by year, month, day, decade, etc."
   ]
  },
  {
   "cell_type": "code",
   "execution_count": 7,
   "id": "e818d844-66d5-4bf9-9469-b114f032f366",
   "metadata": {},
   "outputs": [],
   "source": [
    "def update_year(date, year) :\n",
    "    '''\n",
    "    Updates the date ensuring it's in mm/dd/yyyy format\n",
    "\n",
    "    Parameters:\n",
    "     - date (String): date in mm/dd/yy or mm/dd/yyyy\n",
    "     - year (String): year in yyyy format\n",
    "\n",
    "    Return:\n",
    "     - _date (String): date in the format mm/dd/yyyy\n",
    "    \n",
    "    // Include into the doc created\n",
    "    '''\n",
    "    _month_day = '/'.join(date.split('/')[:2])\n",
    "    _date = _month_day + '/' + year\n",
    "    return _date"
   ]
  },
  {
   "cell_type": "code",
   "execution_count": 8,
   "id": "ffc34762-30a8-41d2-a296-3aecef25a3b5",
   "metadata": {},
   "outputs": [],
   "source": [
    "# Converts date to mm-dd-yyyy using year column\n",
    "mjms_df.date = mjms_df.apply(lambda row: update_year(row.date, str(row.year)), axis=1)\n",
    "\n",
    "# Converts date series to pd date type\n",
    "mjms_df.date = pd.to_datetime(mjms_df.date)\n",
    "\n",
    "# Drops the year column\n",
    "mjms_df = mjms_df.drop('year', axis=1)"
   ]
  },
  {
   "cell_type": "code",
   "execution_count": 9,
   "id": "65b86d47-3fe4-49ff-a719-fd18120fec70",
   "metadata": {},
   "outputs": [
    {
     "data": {
      "text/plain": [
       "48     2018\n",
       "17     2022\n",
       "120    1999\n",
       "Name: date, dtype: int32"
      ]
     },
     "execution_count": 9,
     "metadata": {},
     "output_type": "execute_result"
    }
   ],
   "source": [
    "# Verifies year can get extracted from the date col\n",
    "mjms_df.date.sample(3).dt.year"
   ]
  },
  {
   "cell_type": "markdown",
   "id": "08cf519a-7fc3-4b6a-8393-554d0794d436",
   "metadata": {},
   "source": [
    "### Fatalities Data Cleaning\n",
    "Calculates the total_victims field given the fatalities and injuries fields. The original data ins't a calculated field. This solution prevents human error in the total_victims field so long as the fatalities and injuries fields are accurate."
   ]
  },
  {
   "cell_type": "code",
   "execution_count": 10,
   "id": "34ae3013-e670-407b-b3b7-5d3bc2c15351",
   "metadata": {},
   "outputs": [],
   "source": [
    "mjms_df.total_victims = mjms_df.fatalities + mjms_df.injured"
   ]
  },
  {
   "cell_type": "markdown",
   "id": "850a2a03-4027-4795-859a-b9306a69b143",
   "metadata": {},
   "source": [
    "### Age of Shooter Data Cleaning\n",
    "Cleans the age of shooter. For those cases where there were multiple shooters, the average is taken"
   ]
  },
  {
   "cell_type": "markdown",
   "id": "ab045d3f-5fbe-47ae-8c2f-114bf7ca39c3",
   "metadata": {},
   "source": [
    "#### Verifying Missing Data\n",
    "Checking for the missing ages that prevent the data from being stored as an int"
   ]
  },
  {
   "cell_type": "code",
   "execution_count": 11,
   "id": "f3b0877e-7120-43b0-8135-8f1243e406e3",
   "metadata": {
    "scrolled": true
   },
   "outputs": [
    {
     "name": "stdout",
     "output_type": "stream",
     "text": [
      "14, 44, 67, 40, 21, 59, 18, 33, 25, 28, 43, 72, 31, 22, 15, 20, 70, 23, 45, -, 57, 19, 51, 36, 24, 32, 46, 26, 54, 29, 38, 17, 47, 37, 64, 39, 27, 34, 42, 41, 52, 16, 48, 66, 11, 35, 55, 50, "
     ]
    }
   ],
   "source": [
    "for i in mjms_df.age_of_shooter.unique() :\n",
    "    print(i, end=', ')"
   ]
  },
  {
   "cell_type": "markdown",
   "id": "5484a2af-fee6-415f-90ca-8e216b1b9686",
   "metadata": {},
   "source": [
    "#### Converts Data to Numeric\n",
    "Replaces all missing values with -1 then converts the Series to numeric (int)"
   ]
  },
  {
   "cell_type": "code",
   "execution_count": 12,
   "id": "549e350f-8010-4076-bced-e5ecfb00e06e",
   "metadata": {},
   "outputs": [],
   "source": [
    "# Replaces missing ages with -1 then converts the column to integer\n",
    "mjms_df.age_of_shooter = mjms_df.age_of_shooter.replace('-', -1)\n",
    "mjms_df.age_of_shooter = pd.to_numeric(mjms_df.age_of_shooter)"
   ]
  },
  {
   "cell_type": "code",
   "execution_count": 13,
   "id": "90e977ce-5fac-4fae-85ba-c2ceb43cd771",
   "metadata": {},
   "outputs": [],
   "source": [
    "pd.set_option('display.max_colwidth', None)"
   ]
  },
  {
   "cell_type": "markdown",
   "id": "c780e161-ed1f-4f0c-b49b-b42d288259fd",
   "metadata": {},
   "source": [
    "#### Identify Data Cases\n",
    "For the data that's missing or wrong, returns the case name to use for updating the ages"
   ]
  },
  {
   "cell_type": "code",
   "execution_count": 14,
   "id": "218707ea-5c27-4d2c-a602-dc32a68f47e0",
   "metadata": {},
   "outputs": [
    {
     "data": {
      "text/html": [
       "<div>\n",
       "<style scoped>\n",
       "    .dataframe tbody tr th:only-of-type {\n",
       "        vertical-align: middle;\n",
       "    }\n",
       "\n",
       "    .dataframe tbody tr th {\n",
       "        vertical-align: top;\n",
       "    }\n",
       "\n",
       "    .dataframe thead th {\n",
       "        text-align: right;\n",
       "    }\n",
       "</style>\n",
       "<table border=\"1\" class=\"dataframe\">\n",
       "  <thead>\n",
       "    <tr style=\"text-align: right;\">\n",
       "      <th></th>\n",
       "      <th>case</th>\n",
       "      <th>summary</th>\n",
       "      <th>age_of_shooter</th>\n",
       "    </tr>\n",
       "  </thead>\n",
       "  <tbody>\n",
       "    <tr>\n",
       "      <th>25</th>\n",
       "      <td>Sacramento County church shooting</td>\n",
       "      <td>\"A man believed to be meeting his three children for a supervised visit at a church just outside Sacramento on Monday afternoon fatally shot the children and an adult accompanying them before killing himself, police officials said. Sheriff Scott Jones of Sacramento County told reporters at the scene that the gunman had a restraining order against him, and that he had to have supervised visits with his children, who were younger than 15.\" (NYTimes)</td>\n",
       "      <td>-1</td>\n",
       "    </tr>\n",
       "    <tr>\n",
       "      <th>34</th>\n",
       "      <td>Jersey City kosher market shooting</td>\n",
       "      <td>David N. Anderson, 47, and Francine Graham, 50, were heavily armed and traveling in a white van when they first killed a police officer in a cemetery, and then opened fire at a kosher market, “fueled both by anti-Semitism and anti-law enforcement beliefs,” according to New Jersey authorities. The pair, linked to the antisemitic ideology of the Black Hebrew Israelites extremist group, were killed after a lenghty gun battle with police at the market.</td>\n",
       "      <td>-1</td>\n",
       "    </tr>\n",
       "  </tbody>\n",
       "</table>\n",
       "</div>"
      ],
      "text/plain": [
       "                                  case  \\\n",
       "25   Sacramento County church shooting   \n",
       "34  Jersey City kosher market shooting   \n",
       "\n",
       "                                                                                                                                                                                                                                                                                                                                                                                                                                                                 summary  \\\n",
       "25   \"A man believed to be meeting his three children for a supervised visit at a church just outside Sacramento on Monday afternoon fatally shot the children and an adult accompanying them before killing himself, police officials said. Sheriff Scott Jones of Sacramento County told reporters at the scene that the gunman had a restraining order against him, and that he had to have supervised visits with his children, who were younger than 15.\" (NYTimes)   \n",
       "34  David N. Anderson, 47, and Francine Graham, 50, were heavily armed and traveling in a white van when they first killed a police officer in a cemetery, and then opened fire at a kosher market, “fueled both by anti-Semitism and anti-law enforcement beliefs,” according to New Jersey authorities. The pair, linked to the antisemitic ideology of the Black Hebrew Israelites extremist group, were killed after a lenghty gun battle with police at the market.   \n",
       "\n",
       "    age_of_shooter  \n",
       "25              -1  \n",
       "34              -1  "
      ]
     },
     "execution_count": 14,
     "metadata": {},
     "output_type": "execute_result"
    }
   ],
   "source": [
    "# Issolate the cases without ages\n",
    "mjms_df.loc[mjms_df.age_of_shooter == -1, ('case', 'summary', 'age_of_shooter')]"
   ]
  },
  {
   "cell_type": "code",
   "execution_count": 15,
   "id": "9a612ad4-193f-4487-bf8c-71e9d16b4bf6",
   "metadata": {},
   "outputs": [
    {
     "data": {
      "text/html": [
       "<div>\n",
       "<style scoped>\n",
       "    .dataframe tbody tr th:only-of-type {\n",
       "        vertical-align: middle;\n",
       "    }\n",
       "\n",
       "    .dataframe tbody tr th {\n",
       "        vertical-align: top;\n",
       "    }\n",
       "\n",
       "    .dataframe thead th {\n",
       "        text-align: right;\n",
       "    }\n",
       "</style>\n",
       "<table border=\"1\" class=\"dataframe\">\n",
       "  <thead>\n",
       "    <tr style=\"text-align: right;\">\n",
       "      <th></th>\n",
       "      <th>case</th>\n",
       "      <th>summary</th>\n",
       "      <th>age_of_shooter</th>\n",
       "    </tr>\n",
       "  </thead>\n",
       "  <tbody>\n",
       "    <tr>\n",
       "      <th>126</th>\n",
       "      <td>Westside Middle School killings</td>\n",
       "      <td>Mitchell Scott Johnson, 13, and Andrew Douglas Golden, 11, two juveniles, ambushed students and teachers as they left the school; they were apprehended by police at the scene.</td>\n",
       "      <td>11</td>\n",
       "    </tr>\n",
       "  </tbody>\n",
       "</table>\n",
       "</div>"
      ],
      "text/plain": [
       "                                case  \\\n",
       "126  Westside Middle School killings   \n",
       "\n",
       "                                                                                                                                                                             summary  \\\n",
       "126  Mitchell Scott Johnson, 13, and Andrew Douglas Golden, 11, two juveniles, ambushed students and teachers as they left the school; they were apprehended by police at the scene.   \n",
       "\n",
       "     age_of_shooter  \n",
       "126              11  "
      ]
     },
     "execution_count": 15,
     "metadata": {},
     "output_type": "execute_result"
    }
   ],
   "source": [
    "mjms_df.loc[mjms_df.age_of_shooter == 11, ('case', 'summary', 'age_of_shooter')]"
   ]
  },
  {
   "cell_type": "markdown",
   "id": "c91ba14c-6dba-42c1-89c7-e60b49004c7c",
   "metadata": {},
   "source": [
    "#### Supporting documentation\n",
    "For the 'Sacramento County church shooting' case, source @ https://www.cnn.com/2022/02/28/us/sacramento-church-shooting identified the shooter as 39-year-old David Mora Rojas"
   ]
  },
  {
   "cell_type": "code",
   "execution_count": 16,
   "id": "7e54b38b-d85c-4a51-9c0a-eb573aad8500",
   "metadata": {},
   "outputs": [],
   "source": [
    "# Sets age of shooter for 'Sacramento Country Church Shooting'\n",
    "mjms_df.loc[mjms_df.case == 'Sacramento County church shooting', 'age_of_shooter'] = 39"
   ]
  },
  {
   "cell_type": "markdown",
   "id": "2725986f-c02f-455a-ae81-6ab5c9161ff6",
   "metadata": {},
   "source": [
    "#### Fixing Data Input Error\n",
    "For the 'Westside Middle School killings' case, the shooters ages were 13 and 11. There were two assalents though only one was recorded.\n",
    "For the 'Jersey City kosher market shooting' case, the shooters ages were 47 and 50. Ref case summary."
   ]
  },
  {
   "cell_type": "code",
   "execution_count": 17,
   "id": "2283a471-25e9-4ce7-b260-5cc344266a81",
   "metadata": {},
   "outputs": [],
   "source": [
    "# Updates age_of_shooter to allow lists\n",
    "mjms_df['age_of_shooter'] = mjms_df['age_of_shooter'].astype('object')\n",
    "\n",
    "# Gets index regardless of future updates\n",
    "# Updates the instances where there were multiple shooters\n",
    "mjms_df.at[mjms_df[mjms_df['case'] == 'Jersey City kosher market shooting'].index[0], 'age_of_shooter'] = [47, 50]\n",
    "mjms_df.at[mjms_df[mjms_df['case'] == 'Westside Middle School killings'].index[0], 'age_of_shooter'] = [11, 13]"
   ]
  },
  {
   "cell_type": "markdown",
   "id": "a59ea815-4444-4e99-b26b-61feba16147a",
   "metadata": {},
   "source": [
    "#### Verify Age Corrections"
   ]
  },
  {
   "cell_type": "code",
   "execution_count": 18,
   "id": "c0690cae-c375-4d45-a89c-502e7b15c53f",
   "metadata": {},
   "outputs": [
    {
     "data": {
      "text/html": [
       "<div>\n",
       "<style scoped>\n",
       "    .dataframe tbody tr th:only-of-type {\n",
       "        vertical-align: middle;\n",
       "    }\n",
       "\n",
       "    .dataframe tbody tr th {\n",
       "        vertical-align: top;\n",
       "    }\n",
       "\n",
       "    .dataframe thead th {\n",
       "        text-align: right;\n",
       "    }\n",
       "</style>\n",
       "<table border=\"1\" class=\"dataframe\">\n",
       "  <thead>\n",
       "    <tr style=\"text-align: right;\">\n",
       "      <th></th>\n",
       "      <th>case</th>\n",
       "      <th>summary</th>\n",
       "      <th>age_of_shooter</th>\n",
       "    </tr>\n",
       "  </thead>\n",
       "  <tbody>\n",
       "    <tr>\n",
       "      <th>25</th>\n",
       "      <td>Sacramento County church shooting</td>\n",
       "      <td>\"A man believed to be meeting his three children for a supervised visit at a church just outside Sacramento on Monday afternoon fatally shot the children and an adult accompanying them before killing himself, police officials said. Sheriff Scott Jones of Sacramento County told reporters at the scene that the gunman had a restraining order against him, and that he had to have supervised visits with his children, who were younger than 15.\" (NYTimes)</td>\n",
       "      <td>39</td>\n",
       "    </tr>\n",
       "    <tr>\n",
       "      <th>34</th>\n",
       "      <td>Jersey City kosher market shooting</td>\n",
       "      <td>David N. Anderson, 47, and Francine Graham, 50, were heavily armed and traveling in a white van when they first killed a police officer in a cemetery, and then opened fire at a kosher market, “fueled both by anti-Semitism and anti-law enforcement beliefs,” according to New Jersey authorities. The pair, linked to the antisemitic ideology of the Black Hebrew Israelites extremist group, were killed after a lenghty gun battle with police at the market.</td>\n",
       "      <td>[47, 50]</td>\n",
       "    </tr>\n",
       "    <tr>\n",
       "      <th>126</th>\n",
       "      <td>Westside Middle School killings</td>\n",
       "      <td>Mitchell Scott Johnson, 13, and Andrew Douglas Golden, 11, two juveniles, ambushed students and teachers as they left the school; they were apprehended by police at the scene.</td>\n",
       "      <td>[11, 13]</td>\n",
       "    </tr>\n",
       "  </tbody>\n",
       "</table>\n",
       "</div>"
      ],
      "text/plain": [
       "                                   case  \\\n",
       "25    Sacramento County church shooting   \n",
       "34   Jersey City kosher market shooting   \n",
       "126     Westside Middle School killings   \n",
       "\n",
       "                                                                                                                                                                                                                                                                                                                                                                                                                                                                  summary  \\\n",
       "25    \"A man believed to be meeting his three children for a supervised visit at a church just outside Sacramento on Monday afternoon fatally shot the children and an adult accompanying them before killing himself, police officials said. Sheriff Scott Jones of Sacramento County told reporters at the scene that the gunman had a restraining order against him, and that he had to have supervised visits with his children, who were younger than 15.\" (NYTimes)   \n",
       "34   David N. Anderson, 47, and Francine Graham, 50, were heavily armed and traveling in a white van when they first killed a police officer in a cemetery, and then opened fire at a kosher market, “fueled both by anti-Semitism and anti-law enforcement beliefs,” according to New Jersey authorities. The pair, linked to the antisemitic ideology of the Black Hebrew Israelites extremist group, were killed after a lenghty gun battle with police at the market.   \n",
       "126                                                                                                                                                                                                                                                                                       Mitchell Scott Johnson, 13, and Andrew Douglas Golden, 11, two juveniles, ambushed students and teachers as they left the school; they were apprehended by police at the scene.   \n",
       "\n",
       "    age_of_shooter  \n",
       "25              39  \n",
       "34        [47, 50]  \n",
       "126       [11, 13]  "
      ]
     },
     "execution_count": 18,
     "metadata": {},
     "output_type": "execute_result"
    }
   ],
   "source": [
    "mjms_df.loc[mjms_df.case.isin(['Sacramento County church shooting', 'Jersey City kosher market shooting', 'Westside Middle School killings']), ('case', 'summary', 'age_of_shooter')]"
   ]
  },
  {
   "cell_type": "code",
   "execution_count": 19,
   "id": "fd4be938-dd9d-48a0-ae72-2d3a066eae7b",
   "metadata": {},
   "outputs": [],
   "source": [
    "pd.reset_option('display.max_colwidth')"
   ]
  },
  {
   "cell_type": "markdown",
   "id": "02f70cf3-e79f-4f2a-8556-5416d13a61c0",
   "metadata": {},
   "source": [
    "### Gender Data Shooter\n",
    "Normalizes the genderes of the shooters\n",
    "\n",
    "- M: Male gender \n",
    "- F: Female gender\n",
    "- T->F: Transgender transitioning from male to female\n",
    "- T->M: Transgender transitioning from female to male\n",
    "- M/M: Slash used when multiple shooters where each letter represents a shooter\n",
    "- O: Gender non-conforming including agender, non-binary, bigender, etc."
   ]
  },
  {
   "cell_type": "code",
   "execution_count": 20,
   "id": "62386aa2-d8e5-43be-bf63-dda6c72c109e",
   "metadata": {},
   "outputs": [
    {
     "data": {
      "text/plain": [
       "array(['M',\n",
       "       'F (\"identifies as transgender\" and \"Audrey Hale is a biological woman who, on a social media profile, used male pronouns,” according to Nashville Metro PD officials)',\n",
       "       'Male & Female', 'F', 'Male', 'Female'], dtype=object)"
      ]
     },
     "execution_count": 20,
     "metadata": {},
     "output_type": "execute_result"
    }
   ],
   "source": [
    "mjms_df.gender.unique()"
   ]
  },
  {
   "cell_type": "code",
   "execution_count": 21,
   "id": "12b30a8a-309a-493a-a484-e7c2bbd327b2",
   "metadata": {},
   "outputs": [],
   "source": [
    "mjms_df.gender = mjms_df.gender.replace('Female', 'F')\n",
    "mjms_df.gender = mjms_df.gender.replace('Male', 'M')\n",
    "mjms_df.gender = mjms_df.gender.replace('Male & Female', 'M/F')"
   ]
  },
  {
   "cell_type": "markdown",
   "id": "0d4360f5-8440-492a-8c46-c658d8ca1a84",
   "metadata": {},
   "source": [
    "#### Cleaning Audrey's case\n",
    "Identifies Index and updates the case to reflect she is a Transgender Female to Male"
   ]
  },
  {
   "cell_type": "code",
   "execution_count": 22,
   "id": "c25031e3-704f-407f-81f4-db15c0ab0d4d",
   "metadata": {},
   "outputs": [
    {
     "data": {
      "text/html": [
       "<div>\n",
       "<style scoped>\n",
       "    .dataframe tbody tr th:only-of-type {\n",
       "        vertical-align: middle;\n",
       "    }\n",
       "\n",
       "    .dataframe tbody tr th {\n",
       "        vertical-align: top;\n",
       "    }\n",
       "\n",
       "    .dataframe thead th {\n",
       "        text-align: right;\n",
       "    }\n",
       "</style>\n",
       "<table border=\"1\" class=\"dataframe\">\n",
       "  <thead>\n",
       "    <tr style=\"text-align: right;\">\n",
       "      <th></th>\n",
       "      <th>case</th>\n",
       "      <th>location</th>\n",
       "      <th>date</th>\n",
       "      <th>summary</th>\n",
       "      <th>fatalities</th>\n",
       "      <th>injured</th>\n",
       "      <th>total_victims</th>\n",
       "      <th>location.1</th>\n",
       "      <th>age_of_shooter</th>\n",
       "      <th>prior_signs_mental_health_issues</th>\n",
       "      <th>...</th>\n",
       "      <th>weapon_type</th>\n",
       "      <th>weapon_details</th>\n",
       "      <th>race</th>\n",
       "      <th>gender</th>\n",
       "      <th>sources</th>\n",
       "      <th>mental_health_sources</th>\n",
       "      <th>sources_additional_age</th>\n",
       "      <th>latitude</th>\n",
       "      <th>longitude</th>\n",
       "      <th>type</th>\n",
       "    </tr>\n",
       "  </thead>\n",
       "  <tbody>\n",
       "    <tr>\n",
       "      <th>10</th>\n",
       "      <td>Nashville Christian school shooting</td>\n",
       "      <td>Nashville, Tennessee</td>\n",
       "      <td>2023-03-27</td>\n",
       "      <td>Audrey Hale, 28, who was a former student at t...</td>\n",
       "      <td>6</td>\n",
       "      <td>6</td>\n",
       "      <td>12</td>\n",
       "      <td>School</td>\n",
       "      <td>28</td>\n",
       "      <td>-</td>\n",
       "      <td>...</td>\n",
       "      <td>semiautomatic rifle, semiautomatic handgun</td>\n",
       "      <td>-</td>\n",
       "      <td>White</td>\n",
       "      <td>F (\"identifies as transgender\" and \"Audrey Hal...</td>\n",
       "      <td>https://www.tennessean.com/story/news/crime/20...</td>\n",
       "      <td>-</td>\n",
       "      <td>-</td>\n",
       "      <td>-</td>\n",
       "      <td>-</td>\n",
       "      <td>Mass</td>\n",
       "    </tr>\n",
       "  </tbody>\n",
       "</table>\n",
       "<p>1 rows × 23 columns</p>\n",
       "</div>"
      ],
      "text/plain": [
       "                                   case              location       date  \\\n",
       "10  Nashville Christian school shooting  Nashville, Tennessee 2023-03-27   \n",
       "\n",
       "                                              summary  fatalities  injured  \\\n",
       "10  Audrey Hale, 28, who was a former student at t...           6        6   \n",
       "\n",
       "    total_victims location.1 age_of_shooter prior_signs_mental_health_issues  \\\n",
       "10             12     School             28                                -   \n",
       "\n",
       "    ...                                 weapon_type weapon_details   race  \\\n",
       "10  ...  semiautomatic rifle, semiautomatic handgun              -  White   \n",
       "\n",
       "                                               gender  \\\n",
       "10  F (\"identifies as transgender\" and \"Audrey Hal...   \n",
       "\n",
       "                                              sources mental_health_sources  \\\n",
       "10  https://www.tennessean.com/story/news/crime/20...                     -   \n",
       "\n",
       "   sources_additional_age latitude longitude  type  \n",
       "10                      -        -         -  Mass  \n",
       "\n",
       "[1 rows x 23 columns]"
      ]
     },
     "execution_count": 22,
     "metadata": {},
     "output_type": "execute_result"
    }
   ],
   "source": [
    "mjms_df[mjms_df.gender.str.contains('F (\"identifies as transgender', regex=False)]"
   ]
  },
  {
   "cell_type": "code",
   "execution_count": 23,
   "id": "d5db74ed-fbe7-4392-a824-eafe0276983d",
   "metadata": {},
   "outputs": [],
   "source": [
    "mjms_df.loc[mjms_df.case == 'Nashville Christian school shooting', 'gender'] = 'T->M'"
   ]
  },
  {
   "cell_type": "markdown",
   "id": "78a92ec0-3a48-4909-9bfc-ed792098b25b",
   "metadata": {},
   "source": [
    "#### Cleaning 'Westside Middle School killings' case\n",
    "The gender of both shooters were not reflected. Updates to account for two shooters"
   ]
  },
  {
   "cell_type": "code",
   "execution_count": 24,
   "id": "c778b26f-bbc1-4444-beff-0145ebb8ed07",
   "metadata": {},
   "outputs": [],
   "source": [
    "mjms_df.loc[mjms_df.case == 'Westside Middle School killings', 'gender'] = 'M/M'"
   ]
  },
  {
   "cell_type": "markdown",
   "id": "1b6a23d8-ada6-4da6-8aa4-b3032f92baeb",
   "metadata": {},
   "source": [
    "#### Verifying Gender Data Correction"
   ]
  },
  {
   "cell_type": "code",
   "execution_count": 25,
   "id": "c3217da5-86db-49bc-819b-22520e1d500b",
   "metadata": {},
   "outputs": [
    {
     "data": {
      "text/plain": [
       "array(['M', 'T->M', 'M/F', 'F', 'M/M'], dtype=object)"
      ]
     },
     "execution_count": 25,
     "metadata": {},
     "output_type": "execute_result"
    }
   ],
   "source": [
    "mjms_df.gender.unique()"
   ]
  },
  {
   "cell_type": "markdown",
   "id": "29277c57-b414-496f-80c8-a58b2bca27a0",
   "metadata": {},
   "source": [
    "### Race Data Cleaning\n",
    "Data normalization conducted. Some entries were capitalized while others weren’t. For the missing data, unknown was entered. Race is specific to the person and without public informaiton on the individua, no attempt was made to identify them by their race"
   ]
  },
  {
   "cell_type": "code",
   "execution_count": 26,
   "id": "d4a40012-ed38-497f-8c3b-28666a733ffa",
   "metadata": {},
   "outputs": [
    {
     "data": {
      "text/plain": [
       "array(['White', 'Black', 'Latino', 'Asian', '-', 'Other', 'White ',\n",
       "       'Native American', 'white', 'black', 'unclear'], dtype=object)"
      ]
     },
     "execution_count": 26,
     "metadata": {},
     "output_type": "execute_result"
    }
   ],
   "source": [
    "mjms_df.race.unique()"
   ]
  },
  {
   "cell_type": "code",
   "execution_count": 27,
   "id": "ea03f238-ca6d-4c42-8282-460c1d37ff57",
   "metadata": {
    "scrolled": true
   },
   "outputs": [],
   "source": [
    "# Converts to lowercase\n",
    "mjms_df.race = mjms_df.race.str.lower()\n",
    "# Remove whitespace\n",
    "mjms_df.race = mjms_df.race.str.strip()\n",
    "# Updates '-' inputs to unknown\n",
    "mjms_df.loc[mjms_df.race == '-', 'race'] = 'unknown'\n",
    "# Updates 'unclear' inputs to unknown\n",
    "mjms_df.loc[mjms_df.race == 'unclear', 'race'] = 'unknown'\n"
   ]
  },
  {
   "cell_type": "code",
   "execution_count": 28,
   "id": "86f28070-918d-42db-a17f-132f3d2c96e7",
   "metadata": {
    "scrolled": true
   },
   "outputs": [
    {
     "data": {
      "text/plain": [
       "array(['white', 'black', 'latino', 'asian', 'unknown', 'other',\n",
       "       'native american'], dtype=object)"
      ]
     },
     "execution_count": 28,
     "metadata": {},
     "output_type": "execute_result"
    }
   ],
   "source": [
    "mjms_df.race.unique()"
   ]
  },
  {
   "cell_type": "markdown",
   "id": "f074008a-5fa7-43d8-8151-4b5e3a9825da",
   "metadata": {},
   "source": [
    "### Weapon Obtained Legally Data Cleaning\n",
    "Identifies if the weapon used in the crime was legally obtained or not\n",
    "\n",
    "- Yes/No\n",
    "- TBD\n",
    "- Unknown\n",
    "- Some"
   ]
  },
  {
   "cell_type": "code",
   "execution_count": 29,
   "id": "f0566ee6-26b5-4742-a2b6-917fac1075c8",
   "metadata": {},
   "outputs": [
    {
     "data": {
      "text/plain": [
       "array(['-', 'yes', 'Yes', 'No', 'TBD',\n",
       "       'Kelley passed federal criminal background checks; the US Air Force failed to provide information on his criminal history to the FBI',\n",
       "       'Unknown', '\\nYes',\n",
       "       'Yes (\"some of the weapons were purchased legally and some of them may not have been\")',\n",
       "       'Yes '], dtype=object)"
      ]
     },
     "execution_count": 29,
     "metadata": {},
     "output_type": "execute_result"
    }
   ],
   "source": [
    "mjms_df.weapons_obtained_legally.unique()"
   ]
  },
  {
   "cell_type": "code",
   "execution_count": 30,
   "id": "46d1284b-b265-4f04-8c3b-1a53449e4922",
   "metadata": {},
   "outputs": [],
   "source": [
    "# Converts to lowercase\n",
    "mjms_df.weapons_obtained_legally = mjms_df.weapons_obtained_legally.str.lower()\n",
    "# Remove whitespace\n",
    "mjms_df.weapons_obtained_legally = mjms_df.weapons_obtained_legally.str.strip()"
   ]
  },
  {
   "cell_type": "markdown",
   "id": "49b14479-f82b-457b-99ad-28959f600ed7",
   "metadata": {},
   "source": [
    "#### Attempt to Identify Unknown\n",
    "An attempt to determine if any of the shooters weapon acquisition status has been verified since the incident"
   ]
  },
  {
   "cell_type": "code",
   "execution_count": 31,
   "id": "98eb98a9-9edd-468e-ab7a-871c16df4b8e",
   "metadata": {
    "scrolled": true
   },
   "outputs": [
    {
     "data": {
      "text/html": [
       "<div>\n",
       "<style scoped>\n",
       "    .dataframe tbody tr th:only-of-type {\n",
       "        vertical-align: middle;\n",
       "    }\n",
       "\n",
       "    .dataframe tbody tr th {\n",
       "        vertical-align: top;\n",
       "    }\n",
       "\n",
       "    .dataframe thead th {\n",
       "        text-align: right;\n",
       "    }\n",
       "</style>\n",
       "<table border=\"1\" class=\"dataframe\">\n",
       "  <thead>\n",
       "    <tr style=\"text-align: right;\">\n",
       "      <th></th>\n",
       "      <th>case</th>\n",
       "      <th>summary</th>\n",
       "      <th>weapons_obtained_legally</th>\n",
       "    </tr>\n",
       "  </thead>\n",
       "  <tbody>\n",
       "    <tr>\n",
       "      <th>65</th>\n",
       "      <td>Fresno downtown shooting</td>\n",
       "      <td>Kori Ali Muhammad, 39, opened fire along a str...</td>\n",
       "      <td>unknown</td>\n",
       "    </tr>\n",
       "    <tr>\n",
       "      <th>68</th>\n",
       "      <td>Baton Rouge police shooting</td>\n",
       "      <td>Gavin Long, 29, a former Marine who served in ...</td>\n",
       "      <td>unknown</td>\n",
       "    </tr>\n",
       "    <tr>\n",
       "      <th>74</th>\n",
       "      <td>Planned Parenthood clinic</td>\n",
       "      <td>Robert Lewis Dear, 57, shot and killed a polic...</td>\n",
       "      <td>unknown</td>\n",
       "    </tr>\n",
       "    <tr>\n",
       "      <th>83</th>\n",
       "      <td>Alturas tribal shooting</td>\n",
       "      <td>Cherie Lash Rhoades, 44, opened fire at the Ce...</td>\n",
       "      <td>unknown</td>\n",
       "    </tr>\n",
       "    <tr>\n",
       "      <th>110</th>\n",
       "      <td>Trolley Square shooting</td>\n",
       "      <td>Sulejman Talović, 18, rampaged through the sh...</td>\n",
       "      <td>unknown</td>\n",
       "    </tr>\n",
       "    <tr>\n",
       "      <th>133</th>\n",
       "      <td>Chuck E. Cheese's killings</td>\n",
       "      <td>Nathan Dunlap, 19, a recently fired Chuck E. C...</td>\n",
       "      <td>unknown</td>\n",
       "    </tr>\n",
       "  </tbody>\n",
       "</table>\n",
       "</div>"
      ],
      "text/plain": [
       "                            case  \\\n",
       "65      Fresno downtown shooting   \n",
       "68   Baton Rouge police shooting   \n",
       "74     Planned Parenthood clinic   \n",
       "83       Alturas tribal shooting   \n",
       "110      Trolley Square shooting   \n",
       "133   Chuck E. Cheese's killings   \n",
       "\n",
       "                                               summary  \\\n",
       "65   Kori Ali Muhammad, 39, opened fire along a str...   \n",
       "68   Gavin Long, 29, a former Marine who served in ...   \n",
       "74   Robert Lewis Dear, 57, shot and killed a polic...   \n",
       "83   Cherie Lash Rhoades, 44, opened fire at the Ce...   \n",
       "110  Sulejman Talović, 18, rampaged through the sh...   \n",
       "133  Nathan Dunlap, 19, a recently fired Chuck E. C...   \n",
       "\n",
       "    weapons_obtained_legally  \n",
       "65                   unknown  \n",
       "68                   unknown  \n",
       "74                   unknown  \n",
       "83                   unknown  \n",
       "110                  unknown  \n",
       "133                  unknown  "
      ]
     },
     "execution_count": 31,
     "metadata": {},
     "output_type": "execute_result"
    }
   ],
   "source": [
    "mjms_df.loc[mjms_df.weapons_obtained_legally == 'unknown', ('case', 'summary', 'weapons_obtained_legally')]"
   ]
  },
  {
   "cell_type": "code",
   "execution_count": 32,
   "id": "f3b121c8-caea-4e66-9fdd-2b8e4002c8d3",
   "metadata": {
    "scrolled": true
   },
   "outputs": [
    {
     "data": {
      "text/html": [
       "<div>\n",
       "<style scoped>\n",
       "    .dataframe tbody tr th:only-of-type {\n",
       "        vertical-align: middle;\n",
       "    }\n",
       "\n",
       "    .dataframe tbody tr th {\n",
       "        vertical-align: top;\n",
       "    }\n",
       "\n",
       "    .dataframe thead th {\n",
       "        text-align: right;\n",
       "    }\n",
       "</style>\n",
       "<table border=\"1\" class=\"dataframe\">\n",
       "  <thead>\n",
       "    <tr style=\"text-align: right;\">\n",
       "      <th></th>\n",
       "      <th>case</th>\n",
       "      <th>summary</th>\n",
       "      <th>weapons_obtained_legally</th>\n",
       "    </tr>\n",
       "  </thead>\n",
       "  <tbody>\n",
       "    <tr>\n",
       "      <th>0</th>\n",
       "      <td>Apalachee High School shooting</td>\n",
       "      <td>Colt Gray, 14, was apprehended by responding p...</td>\n",
       "      <td>-</td>\n",
       "    </tr>\n",
       "    <tr>\n",
       "      <th>1</th>\n",
       "      <td>Arkansas grocery store shooting</td>\n",
       "      <td>Travis Posey, 44, opened fire in the parking l...</td>\n",
       "      <td>-</td>\n",
       "    </tr>\n",
       "    <tr>\n",
       "      <th>2</th>\n",
       "      <td>UNLV shooting</td>\n",
       "      <td>Anthony Polito, 67, a former university profes...</td>\n",
       "      <td>-</td>\n",
       "    </tr>\n",
       "    <tr>\n",
       "      <th>3</th>\n",
       "      <td>Maine bowling alley and bar shootings</td>\n",
       "      <td>Robert Card, 40, an Army reservist and firearm...</td>\n",
       "      <td>-</td>\n",
       "    </tr>\n",
       "    <tr>\n",
       "      <th>5</th>\n",
       "      <td>Orange County biker bar shooting</td>\n",
       "      <td>John Snowling, 59, a retired sergeant from the...</td>\n",
       "      <td>-</td>\n",
       "    </tr>\n",
       "    <tr>\n",
       "      <th>12</th>\n",
       "      <td>Half Moon Bay spree shooting</td>\n",
       "      <td>Chunli Zhao, 67, suspected of carrying out the...</td>\n",
       "      <td>-</td>\n",
       "    </tr>\n",
       "    <tr>\n",
       "      <th>13</th>\n",
       "      <td>LA dance studio mass shooting</td>\n",
       "      <td>Huu Can Tran, 72, fled the scene in a white va...</td>\n",
       "      <td>-</td>\n",
       "    </tr>\n",
       "    <tr>\n",
       "      <th>14</th>\n",
       "      <td>Virginia Walmart shooting</td>\n",
       "      <td>Andre Bing, 31, who worked as a supervisor at ...</td>\n",
       "      <td>-</td>\n",
       "    </tr>\n",
       "    <tr>\n",
       "      <th>15</th>\n",
       "      <td>LGBTQ club shooting</td>\n",
       "      <td>Anderson L. Aldrich, 22, wore body armor and o...</td>\n",
       "      <td>-</td>\n",
       "    </tr>\n",
       "    <tr>\n",
       "      <th>17</th>\n",
       "      <td>Raleigh spree shooting</td>\n",
       "      <td>Austin Thompson, 15, went on a rampage in the ...</td>\n",
       "      <td>-</td>\n",
       "    </tr>\n",
       "    <tr>\n",
       "      <th>21</th>\n",
       "      <td>Concrete company shooting</td>\n",
       "      <td>Joe Louis Esquivel, 23, shot four coworkers an...</td>\n",
       "      <td>-</td>\n",
       "    </tr>\n",
       "    <tr>\n",
       "      <th>25</th>\n",
       "      <td>Sacramento County church shooting</td>\n",
       "      <td>\"A man believed to be meeting his three childr...</td>\n",
       "      <td>-</td>\n",
       "    </tr>\n",
       "    <tr>\n",
       "      <th>26</th>\n",
       "      <td>Oxford High School shooting</td>\n",
       "      <td>Ethan Crumbley, a 15-year-old student at Oxfor...</td>\n",
       "      <td>-</td>\n",
       "    </tr>\n",
       "    <tr>\n",
       "      <th>27</th>\n",
       "      <td>San Jose VTA shooting</td>\n",
       "      <td>Samuel Cassidy, 57, a Valley Transportation Au...</td>\n",
       "      <td>-</td>\n",
       "    </tr>\n",
       "    <tr>\n",
       "      <th>29</th>\n",
       "      <td>Orange office complex shooting</td>\n",
       "      <td>Aminadab Gaxiola Gonzalez, 44, allegedly opene...</td>\n",
       "      <td>-</td>\n",
       "    </tr>\n",
       "    <tr>\n",
       "      <th>31</th>\n",
       "      <td>Atlanta massage parlor shootings</td>\n",
       "      <td>Robert Aaron Long, 21, killed eight people at ...</td>\n",
       "      <td>-</td>\n",
       "    </tr>\n",
       "    <tr>\n",
       "      <th>33</th>\n",
       "      <td>Molson Coors shooting</td>\n",
       "      <td>Anthony Ferrill, 51, an employee armed with tw...</td>\n",
       "      <td>-</td>\n",
       "    </tr>\n",
       "    <tr>\n",
       "      <th>34</th>\n",
       "      <td>Jersey City kosher market shooting</td>\n",
       "      <td>David N. Anderson, 47, and Francine Graham, 50...</td>\n",
       "      <td>-</td>\n",
       "    </tr>\n",
       "    <tr>\n",
       "      <th>35</th>\n",
       "      <td>Pensacola Naval base shooting</td>\n",
       "      <td>Ahmed Mohammed al-Shamrani, 21, a Saudi Arabia...</td>\n",
       "      <td>-</td>\n",
       "    </tr>\n",
       "    <tr>\n",
       "      <th>36</th>\n",
       "      <td>Odessa-Midland shooting spree</td>\n",
       "      <td>Seth A. Ator, 36, fired at police officers who...</td>\n",
       "      <td>-</td>\n",
       "    </tr>\n",
       "    <tr>\n",
       "      <th>44</th>\n",
       "      <td>Mercy Hospital shooting</td>\n",
       "      <td>Juan Lopez, 32, confronted his former fiancé, ...</td>\n",
       "      <td>-</td>\n",
       "    </tr>\n",
       "  </tbody>\n",
       "</table>\n",
       "</div>"
      ],
      "text/plain": [
       "                                     case  \\\n",
       "0          Apalachee High School shooting   \n",
       "1         Arkansas grocery store shooting   \n",
       "2                           UNLV shooting   \n",
       "3   Maine bowling alley and bar shootings   \n",
       "5        Orange County biker bar shooting   \n",
       "12           Half Moon Bay spree shooting   \n",
       "13          LA dance studio mass shooting   \n",
       "14              Virginia Walmart shooting   \n",
       "15                    LGBTQ club shooting   \n",
       "17                 Raleigh spree shooting   \n",
       "21              Concrete company shooting   \n",
       "25      Sacramento County church shooting   \n",
       "26            Oxford High School shooting   \n",
       "27                  San Jose VTA shooting   \n",
       "29         Orange office complex shooting   \n",
       "31       Atlanta massage parlor shootings   \n",
       "33                  Molson Coors shooting   \n",
       "34     Jersey City kosher market shooting   \n",
       "35          Pensacola Naval base shooting   \n",
       "36          Odessa-Midland shooting spree   \n",
       "44                Mercy Hospital shooting   \n",
       "\n",
       "                                              summary weapons_obtained_legally  \n",
       "0   Colt Gray, 14, was apprehended by responding p...                        -  \n",
       "1   Travis Posey, 44, opened fire in the parking l...                        -  \n",
       "2   Anthony Polito, 67, a former university profes...                        -  \n",
       "3   Robert Card, 40, an Army reservist and firearm...                        -  \n",
       "5   John Snowling, 59, a retired sergeant from the...                        -  \n",
       "12  Chunli Zhao, 67, suspected of carrying out the...                        -  \n",
       "13  Huu Can Tran, 72, fled the scene in a white va...                        -  \n",
       "14  Andre Bing, 31, who worked as a supervisor at ...                        -  \n",
       "15  Anderson L. Aldrich, 22, wore body armor and o...                        -  \n",
       "17  Austin Thompson, 15, went on a rampage in the ...                        -  \n",
       "21  Joe Louis Esquivel, 23, shot four coworkers an...                        -  \n",
       "25  \"A man believed to be meeting his three childr...                        -  \n",
       "26  Ethan Crumbley, a 15-year-old student at Oxfor...                        -  \n",
       "27  Samuel Cassidy, 57, a Valley Transportation Au...                        -  \n",
       "29  Aminadab Gaxiola Gonzalez, 44, allegedly opene...                        -  \n",
       "31  Robert Aaron Long, 21, killed eight people at ...                        -  \n",
       "33  Anthony Ferrill, 51, an employee armed with tw...                        -  \n",
       "34  David N. Anderson, 47, and Francine Graham, 50...                        -  \n",
       "35  Ahmed Mohammed al-Shamrani, 21, a Saudi Arabia...                        -  \n",
       "36  Seth A. Ator, 36, fired at police officers who...                        -  \n",
       "44  Juan Lopez, 32, confronted his former fiancé, ...                        -  "
      ]
     },
     "execution_count": 32,
     "metadata": {},
     "output_type": "execute_result"
    }
   ],
   "source": [
    "mjms_df.loc[mjms_df.weapons_obtained_legally == '-', ('case', 'summary', 'weapons_obtained_legally')]"
   ]
  },
  {
   "cell_type": "markdown",
   "id": "ea31ba52-154f-4236-8e39-6c18c8fd4046",
   "metadata": {},
   "source": [
    "#### Supporting documentation\n",
    "##### 'unknown' cases\n",
    "For the 'Fresno downtown shooting' case, source @ https://www.fresnobee.com/news/local/crime/article145336334.html determined the weapon was illegally obtained. In 2006, Kori Ali Muhammad was sentenced by Judge Oliver W. Wanger for felony possession of a firearm and cocaine for which he was incarcerated for 110 Mo. The court also revoked his right to posses a firearm upon release\n",
    "\n",
    "For the 'Baton Rouge police shooting' case, source @ https://www.kansascity.com/news/local/article159145529.html?utm_source=chatgpt.com determined Gavin obtained his weapon legally\n",
    "\n",
    "For the 'Planned Parenthood clinic' case, source @ https://www.coloradojudicial.gov/sites/default/files/2023-08/Search%20Warrant%2015-2022_Redacted.pdf reflects that the detectives in the matter didn’t inquire about the legality of the weapons used during the assault.\n",
    "\n",
    "For the 'Trolley Square shooting' case, source @ https://www.deseret.com/2007/3/30/20010193/salt-lake-police-investigating-3-who-owned-gun-before-talovic/ determined that the pistol was illegally obtained and the shotgun was legally obtained\n",
    "\n",
    "##### '-' cases\n",
    "For the 'Apalachee High School shooting' case, source @ https://www.cnn.com/2024/09/06/us/colin-gray-georgia-shooting-suspect-father-charges determined that colin gray had legally purchased a gun that he had then illegally given to his son. The weapon will be marked as a legal purchase\n",
    "\n",
    "For the 'UNLV shooting' case, source @ https://www.ktnv.com/news/unlv-gunman-had-list-of-targets-brought-handgun-11-mags-to-campus?utm_source=chatgpt.com determined the weapon was legally purchase"
   ]
  },
  {
   "cell_type": "code",
   "execution_count": 33,
   "id": "a431d4cf-4a8f-4b73-8fd9-ff63e45d5548",
   "metadata": {},
   "outputs": [],
   "source": [
    "# Fresno downtown shooting\n",
    "mjms_df.loc[mjms_df.case == 'Fresno downtown shooting', 'weapons_obtained_legally'] = 'no'\n",
    "# Baton Rouge police shooting\n",
    "mjms_df.loc[mjms_df.case == 'Baton Rouge police shooting', 'weapons_obtained_legally'] = 'yes'\n",
    "# Trolley Square shooting\n",
    "mjms_df.loc[mjms_df.case == 'Trolley Square shooting', 'weapons_obtained_legally'] = 'some'"
   ]
  },
  {
   "cell_type": "markdown",
   "id": "30673c81-b7aa-4881-99fd-564382cf44a8",
   "metadata": {},
   "source": [
    "#### Verifying Unknown Shootings Data Correction"
   ]
  },
  {
   "cell_type": "code",
   "execution_count": 34,
   "id": "25e49bda-823e-441c-9543-8d9b5b4d45a3",
   "metadata": {},
   "outputs": [
    {
     "data": {
      "text/html": [
       "<div>\n",
       "<style scoped>\n",
       "    .dataframe tbody tr th:only-of-type {\n",
       "        vertical-align: middle;\n",
       "    }\n",
       "\n",
       "    .dataframe tbody tr th {\n",
       "        vertical-align: top;\n",
       "    }\n",
       "\n",
       "    .dataframe thead th {\n",
       "        text-align: right;\n",
       "    }\n",
       "</style>\n",
       "<table border=\"1\" class=\"dataframe\">\n",
       "  <thead>\n",
       "    <tr style=\"text-align: right;\">\n",
       "      <th></th>\n",
       "      <th>case</th>\n",
       "      <th>summary</th>\n",
       "      <th>weapons_obtained_legally</th>\n",
       "    </tr>\n",
       "  </thead>\n",
       "  <tbody>\n",
       "    <tr>\n",
       "      <th>74</th>\n",
       "      <td>Planned Parenthood clinic</td>\n",
       "      <td>Robert Lewis Dear, 57, shot and killed a polic...</td>\n",
       "      <td>unknown</td>\n",
       "    </tr>\n",
       "    <tr>\n",
       "      <th>83</th>\n",
       "      <td>Alturas tribal shooting</td>\n",
       "      <td>Cherie Lash Rhoades, 44, opened fire at the Ce...</td>\n",
       "      <td>unknown</td>\n",
       "    </tr>\n",
       "    <tr>\n",
       "      <th>133</th>\n",
       "      <td>Chuck E. Cheese's killings</td>\n",
       "      <td>Nathan Dunlap, 19, a recently fired Chuck E. C...</td>\n",
       "      <td>unknown</td>\n",
       "    </tr>\n",
       "  </tbody>\n",
       "</table>\n",
       "</div>"
      ],
      "text/plain": [
       "                           case  \\\n",
       "74    Planned Parenthood clinic   \n",
       "83      Alturas tribal shooting   \n",
       "133  Chuck E. Cheese's killings   \n",
       "\n",
       "                                               summary  \\\n",
       "74   Robert Lewis Dear, 57, shot and killed a polic...   \n",
       "83   Cherie Lash Rhoades, 44, opened fire at the Ce...   \n",
       "133  Nathan Dunlap, 19, a recently fired Chuck E. C...   \n",
       "\n",
       "    weapons_obtained_legally  \n",
       "74                   unknown  \n",
       "83                   unknown  \n",
       "133                  unknown  "
      ]
     },
     "execution_count": 34,
     "metadata": {},
     "output_type": "execute_result"
    }
   ],
   "source": [
    "mjms_df.loc[mjms_df.weapons_obtained_legally == 'unknown', ('case', 'summary', 'weapons_obtained_legally')]"
   ]
  },
  {
   "cell_type": "code",
   "execution_count": 35,
   "id": "cc1de0e5-4121-44b9-ac78-892ddff35e11",
   "metadata": {},
   "outputs": [],
   "source": [
    "# Apalachee High School shooting\n",
    "mjms_df.loc[mjms_df.case == 'Apalachee High School shooting', 'weapons_obtained_legally'] = 'yes'\n",
    "# Arkansas grocery store shooting\n",
    "mjms_df.loc[mjms_df.case == 'Arkansas grocery store shooting', 'weapons_obtained_legally'] = 'unknown'\n",
    "#UNLV shooting\n",
    "mjms_df.loc[mjms_df.case == 'UNLV shooting', 'weapons_obtained_legally'] = 'yes'"
   ]
  },
  {
   "cell_type": "code",
   "execution_count": 36,
   "id": "a3c57407-257b-488a-b899-bb6da4644ddb",
   "metadata": {},
   "outputs": [
    {
     "data": {
      "text/html": [
       "<div>\n",
       "<style scoped>\n",
       "    .dataframe tbody tr th:only-of-type {\n",
       "        vertical-align: middle;\n",
       "    }\n",
       "\n",
       "    .dataframe tbody tr th {\n",
       "        vertical-align: top;\n",
       "    }\n",
       "\n",
       "    .dataframe thead th {\n",
       "        text-align: right;\n",
       "    }\n",
       "</style>\n",
       "<table border=\"1\" class=\"dataframe\">\n",
       "  <thead>\n",
       "    <tr style=\"text-align: right;\">\n",
       "      <th></th>\n",
       "      <th>case</th>\n",
       "      <th>summary</th>\n",
       "      <th>weapons_obtained_legally</th>\n",
       "    </tr>\n",
       "  </thead>\n",
       "  <tbody>\n",
       "    <tr>\n",
       "      <th>3</th>\n",
       "      <td>Maine bowling alley and bar shootings</td>\n",
       "      <td>Robert Card, 40, an Army reservist and firearm...</td>\n",
       "      <td>-</td>\n",
       "    </tr>\n",
       "    <tr>\n",
       "      <th>5</th>\n",
       "      <td>Orange County biker bar shooting</td>\n",
       "      <td>John Snowling, 59, a retired sergeant from the...</td>\n",
       "      <td>-</td>\n",
       "    </tr>\n",
       "    <tr>\n",
       "      <th>12</th>\n",
       "      <td>Half Moon Bay spree shooting</td>\n",
       "      <td>Chunli Zhao, 67, suspected of carrying out the...</td>\n",
       "      <td>-</td>\n",
       "    </tr>\n",
       "    <tr>\n",
       "      <th>13</th>\n",
       "      <td>LA dance studio mass shooting</td>\n",
       "      <td>Huu Can Tran, 72, fled the scene in a white va...</td>\n",
       "      <td>-</td>\n",
       "    </tr>\n",
       "    <tr>\n",
       "      <th>14</th>\n",
       "      <td>Virginia Walmart shooting</td>\n",
       "      <td>Andre Bing, 31, who worked as a supervisor at ...</td>\n",
       "      <td>-</td>\n",
       "    </tr>\n",
       "    <tr>\n",
       "      <th>15</th>\n",
       "      <td>LGBTQ club shooting</td>\n",
       "      <td>Anderson L. Aldrich, 22, wore body armor and o...</td>\n",
       "      <td>-</td>\n",
       "    </tr>\n",
       "    <tr>\n",
       "      <th>17</th>\n",
       "      <td>Raleigh spree shooting</td>\n",
       "      <td>Austin Thompson, 15, went on a rampage in the ...</td>\n",
       "      <td>-</td>\n",
       "    </tr>\n",
       "    <tr>\n",
       "      <th>21</th>\n",
       "      <td>Concrete company shooting</td>\n",
       "      <td>Joe Louis Esquivel, 23, shot four coworkers an...</td>\n",
       "      <td>-</td>\n",
       "    </tr>\n",
       "    <tr>\n",
       "      <th>25</th>\n",
       "      <td>Sacramento County church shooting</td>\n",
       "      <td>\"A man believed to be meeting his three childr...</td>\n",
       "      <td>-</td>\n",
       "    </tr>\n",
       "    <tr>\n",
       "      <th>26</th>\n",
       "      <td>Oxford High School shooting</td>\n",
       "      <td>Ethan Crumbley, a 15-year-old student at Oxfor...</td>\n",
       "      <td>-</td>\n",
       "    </tr>\n",
       "    <tr>\n",
       "      <th>27</th>\n",
       "      <td>San Jose VTA shooting</td>\n",
       "      <td>Samuel Cassidy, 57, a Valley Transportation Au...</td>\n",
       "      <td>-</td>\n",
       "    </tr>\n",
       "    <tr>\n",
       "      <th>29</th>\n",
       "      <td>Orange office complex shooting</td>\n",
       "      <td>Aminadab Gaxiola Gonzalez, 44, allegedly opene...</td>\n",
       "      <td>-</td>\n",
       "    </tr>\n",
       "    <tr>\n",
       "      <th>31</th>\n",
       "      <td>Atlanta massage parlor shootings</td>\n",
       "      <td>Robert Aaron Long, 21, killed eight people at ...</td>\n",
       "      <td>-</td>\n",
       "    </tr>\n",
       "    <tr>\n",
       "      <th>33</th>\n",
       "      <td>Molson Coors shooting</td>\n",
       "      <td>Anthony Ferrill, 51, an employee armed with tw...</td>\n",
       "      <td>-</td>\n",
       "    </tr>\n",
       "    <tr>\n",
       "      <th>34</th>\n",
       "      <td>Jersey City kosher market shooting</td>\n",
       "      <td>David N. Anderson, 47, and Francine Graham, 50...</td>\n",
       "      <td>-</td>\n",
       "    </tr>\n",
       "    <tr>\n",
       "      <th>35</th>\n",
       "      <td>Pensacola Naval base shooting</td>\n",
       "      <td>Ahmed Mohammed al-Shamrani, 21, a Saudi Arabia...</td>\n",
       "      <td>-</td>\n",
       "    </tr>\n",
       "    <tr>\n",
       "      <th>36</th>\n",
       "      <td>Odessa-Midland shooting spree</td>\n",
       "      <td>Seth A. Ator, 36, fired at police officers who...</td>\n",
       "      <td>-</td>\n",
       "    </tr>\n",
       "    <tr>\n",
       "      <th>44</th>\n",
       "      <td>Mercy Hospital shooting</td>\n",
       "      <td>Juan Lopez, 32, confronted his former fiancé, ...</td>\n",
       "      <td>-</td>\n",
       "    </tr>\n",
       "  </tbody>\n",
       "</table>\n",
       "</div>"
      ],
      "text/plain": [
       "                                     case  \\\n",
       "3   Maine bowling alley and bar shootings   \n",
       "5        Orange County biker bar shooting   \n",
       "12           Half Moon Bay spree shooting   \n",
       "13          LA dance studio mass shooting   \n",
       "14              Virginia Walmart shooting   \n",
       "15                    LGBTQ club shooting   \n",
       "17                 Raleigh spree shooting   \n",
       "21              Concrete company shooting   \n",
       "25      Sacramento County church shooting   \n",
       "26            Oxford High School shooting   \n",
       "27                  San Jose VTA shooting   \n",
       "29         Orange office complex shooting   \n",
       "31       Atlanta massage parlor shootings   \n",
       "33                  Molson Coors shooting   \n",
       "34     Jersey City kosher market shooting   \n",
       "35          Pensacola Naval base shooting   \n",
       "36          Odessa-Midland shooting spree   \n",
       "44                Mercy Hospital shooting   \n",
       "\n",
       "                                              summary weapons_obtained_legally  \n",
       "3   Robert Card, 40, an Army reservist and firearm...                        -  \n",
       "5   John Snowling, 59, a retired sergeant from the...                        -  \n",
       "12  Chunli Zhao, 67, suspected of carrying out the...                        -  \n",
       "13  Huu Can Tran, 72, fled the scene in a white va...                        -  \n",
       "14  Andre Bing, 31, who worked as a supervisor at ...                        -  \n",
       "15  Anderson L. Aldrich, 22, wore body armor and o...                        -  \n",
       "17  Austin Thompson, 15, went on a rampage in the ...                        -  \n",
       "21  Joe Louis Esquivel, 23, shot four coworkers an...                        -  \n",
       "25  \"A man believed to be meeting his three childr...                        -  \n",
       "26  Ethan Crumbley, a 15-year-old student at Oxfor...                        -  \n",
       "27  Samuel Cassidy, 57, a Valley Transportation Au...                        -  \n",
       "29  Aminadab Gaxiola Gonzalez, 44, allegedly opene...                        -  \n",
       "31  Robert Aaron Long, 21, killed eight people at ...                        -  \n",
       "33  Anthony Ferrill, 51, an employee armed with tw...                        -  \n",
       "34  David N. Anderson, 47, and Francine Graham, 50...                        -  \n",
       "35  Ahmed Mohammed al-Shamrani, 21, a Saudi Arabia...                        -  \n",
       "36  Seth A. Ator, 36, fired at police officers who...                        -  \n",
       "44  Juan Lopez, 32, confronted his former fiancé, ...                        -  "
      ]
     },
     "execution_count": 36,
     "metadata": {},
     "output_type": "execute_result"
    }
   ],
   "source": [
    "mjms_df.loc[mjms_df.weapons_obtained_legally == '-', ('case', 'summary', 'weapons_obtained_legally')]"
   ]
  },
  {
   "cell_type": "markdown",
   "id": "b4faab96-aecc-4835-a38b-f3eff8b11484",
   "metadata": {},
   "source": [
    "#### Cleaning 'Chattanooga military recruitment center' case\n",
    "Some of the weapons were legal but not all"
   ]
  },
  {
   "cell_type": "code",
   "execution_count": 37,
   "id": "e81e5514-7ba0-4f7e-8e0b-6d540a6b9b74",
   "metadata": {},
   "outputs": [
    {
     "data": {
      "text/html": [
       "<div>\n",
       "<style scoped>\n",
       "    .dataframe tbody tr th:only-of-type {\n",
       "        vertical-align: middle;\n",
       "    }\n",
       "\n",
       "    .dataframe tbody tr th {\n",
       "        vertical-align: top;\n",
       "    }\n",
       "\n",
       "    .dataframe thead th {\n",
       "        text-align: right;\n",
       "    }\n",
       "</style>\n",
       "<table border=\"1\" class=\"dataframe\">\n",
       "  <thead>\n",
       "    <tr style=\"text-align: right;\">\n",
       "      <th></th>\n",
       "      <th>case</th>\n",
       "      <th>location</th>\n",
       "      <th>date</th>\n",
       "      <th>summary</th>\n",
       "      <th>fatalities</th>\n",
       "      <th>injured</th>\n",
       "      <th>total_victims</th>\n",
       "      <th>location.1</th>\n",
       "      <th>age_of_shooter</th>\n",
       "      <th>prior_signs_mental_health_issues</th>\n",
       "      <th>...</th>\n",
       "      <th>weapon_type</th>\n",
       "      <th>weapon_details</th>\n",
       "      <th>race</th>\n",
       "      <th>gender</th>\n",
       "      <th>sources</th>\n",
       "      <th>mental_health_sources</th>\n",
       "      <th>sources_additional_age</th>\n",
       "      <th>latitude</th>\n",
       "      <th>longitude</th>\n",
       "      <th>type</th>\n",
       "    </tr>\n",
       "  </thead>\n",
       "  <tbody>\n",
       "    <tr>\n",
       "      <th>77</th>\n",
       "      <td>Chattanooga military recruitment center</td>\n",
       "      <td>Chattanooga, Tennessee</td>\n",
       "      <td>2015-07-16</td>\n",
       "      <td>Kuwaiti-born Mohammod Youssuf Abdulazeez, 24, ...</td>\n",
       "      <td>5</td>\n",
       "      <td>2</td>\n",
       "      <td>7</td>\n",
       "      <td>Military</td>\n",
       "      <td>24</td>\n",
       "      <td>Unclear</td>\n",
       "      <td>...</td>\n",
       "      <td>2 assault rifles; semiautomatic handgun\\n</td>\n",
       "      <td>AK-47, AR-15, and 30-round magazines; 9mm handgun</td>\n",
       "      <td>other</td>\n",
       "      <td>M</td>\n",
       "      <td>http://www.reuters.com/article/2015/07/16/us-u...</td>\n",
       "      <td>-</td>\n",
       "      <td>http://www.reuters.com/article/2015/07/16/us-u...</td>\n",
       "      <td>35.047157</td>\n",
       "      <td>-85.311819</td>\n",
       "      <td>Mass</td>\n",
       "    </tr>\n",
       "  </tbody>\n",
       "</table>\n",
       "<p>1 rows × 23 columns</p>\n",
       "</div>"
      ],
      "text/plain": [
       "                                       case                location  \\\n",
       "77  Chattanooga military recruitment center  Chattanooga, Tennessee   \n",
       "\n",
       "         date                                            summary  fatalities  \\\n",
       "77 2015-07-16  Kuwaiti-born Mohammod Youssuf Abdulazeez, 24, ...           5   \n",
       "\n",
       "    injured  total_victims location.1 age_of_shooter  \\\n",
       "77        2              7   Military             24   \n",
       "\n",
       "   prior_signs_mental_health_issues  ...  \\\n",
       "77                          Unclear  ...   \n",
       "\n",
       "                                  weapon_type  \\\n",
       "77  2 assault rifles; semiautomatic handgun\\n   \n",
       "\n",
       "                                       weapon_details   race gender  \\\n",
       "77  AK-47, AR-15, and 30-round magazines; 9mm handgun  other      M   \n",
       "\n",
       "                                              sources mental_health_sources  \\\n",
       "77  http://www.reuters.com/article/2015/07/16/us-u...                     -   \n",
       "\n",
       "                               sources_additional_age   latitude   longitude  \\\n",
       "77  http://www.reuters.com/article/2015/07/16/us-u...  35.047157  -85.311819   \n",
       "\n",
       "    type  \n",
       "77  Mass  \n",
       "\n",
       "[1 rows x 23 columns]"
      ]
     },
     "execution_count": 37,
     "metadata": {},
     "output_type": "execute_result"
    }
   ],
   "source": [
    "mjms_df.loc[mjms_df.weapons_obtained_legally.str.contains('yes (\"some of the weapon', regex=False)]"
   ]
  },
  {
   "cell_type": "code",
   "execution_count": 38,
   "id": "b3422b9d-cc3f-41c3-9be9-571edb0b61d6",
   "metadata": {},
   "outputs": [],
   "source": [
    "mjms_df.loc[mjms_df.case == 'Chattanooga military recruitment center', 'weapons_obtained_legally'] = 'some'"
   ]
  },
  {
   "cell_type": "markdown",
   "id": "ed7ccb80-0a12-4b1c-a5d3-b69fb6d9c404",
   "metadata": {},
   "source": [
    "#### Cleaning 'Texas First Baptist Church massacre' case\n",
    "Legal issues while enlisted in the Air Force should have barred him from legally obtaining his weapons. Since the Air Force failed to report his criminal history to the FBI, he was allowed to obtain the weapons he used during the crime. Regardless of the administrative error, the weapons themselves were obtained through what otherwise would be construed as a legal route"
   ]
  },
  {
   "cell_type": "code",
   "execution_count": 39,
   "id": "3c42b4ba-cfc2-4a87-a86c-ebe362c34145",
   "metadata": {},
   "outputs": [
    {
     "data": {
      "text/html": [
       "<div>\n",
       "<style scoped>\n",
       "    .dataframe tbody tr th:only-of-type {\n",
       "        vertical-align: middle;\n",
       "    }\n",
       "\n",
       "    .dataframe tbody tr th {\n",
       "        vertical-align: top;\n",
       "    }\n",
       "\n",
       "    .dataframe thead th {\n",
       "        text-align: right;\n",
       "    }\n",
       "</style>\n",
       "<table border=\"1\" class=\"dataframe\">\n",
       "  <thead>\n",
       "    <tr style=\"text-align: right;\">\n",
       "      <th></th>\n",
       "      <th>case</th>\n",
       "      <th>location</th>\n",
       "      <th>date</th>\n",
       "      <th>summary</th>\n",
       "      <th>fatalities</th>\n",
       "      <th>injured</th>\n",
       "      <th>total_victims</th>\n",
       "      <th>location.1</th>\n",
       "      <th>age_of_shooter</th>\n",
       "      <th>prior_signs_mental_health_issues</th>\n",
       "      <th>...</th>\n",
       "      <th>weapon_type</th>\n",
       "      <th>weapon_details</th>\n",
       "      <th>race</th>\n",
       "      <th>gender</th>\n",
       "      <th>sources</th>\n",
       "      <th>mental_health_sources</th>\n",
       "      <th>sources_additional_age</th>\n",
       "      <th>latitude</th>\n",
       "      <th>longitude</th>\n",
       "      <th>type</th>\n",
       "    </tr>\n",
       "  </thead>\n",
       "  <tbody>\n",
       "    <tr>\n",
       "      <th>57</th>\n",
       "      <td>Texas First Baptist Church massacre</td>\n",
       "      <td>Sutherland Springs, Texas</td>\n",
       "      <td>2017-11-05</td>\n",
       "      <td>Devin Patrick Kelley, a 26-year-old ex-US Air ...</td>\n",
       "      <td>26</td>\n",
       "      <td>20</td>\n",
       "      <td>46</td>\n",
       "      <td>Religious</td>\n",
       "      <td>26</td>\n",
       "      <td>Yes</td>\n",
       "      <td>...</td>\n",
       "      <td>semiautomatic rifle</td>\n",
       "      <td>Ruger AR-556; Kelley also possessed semiautoma...</td>\n",
       "      <td>white</td>\n",
       "      <td>M</td>\n",
       "      <td>https://www.washingtonpost.com/news/morning-mi...</td>\n",
       "      <td>http://www.expressnews.com/news/local/article/...</td>\n",
       "      <td>https://www.washingtonpost.com/news/morning-mi...</td>\n",
       "      <td>29.273282</td>\n",
       "      <td>-98.056488</td>\n",
       "      <td>Mass</td>\n",
       "    </tr>\n",
       "  </tbody>\n",
       "</table>\n",
       "<p>1 rows × 23 columns</p>\n",
       "</div>"
      ],
      "text/plain": [
       "                                   case                   location       date  \\\n",
       "57  Texas First Baptist Church massacre  Sutherland Springs, Texas 2017-11-05   \n",
       "\n",
       "                                              summary  fatalities  injured  \\\n",
       "57  Devin Patrick Kelley, a 26-year-old ex-US Air ...          26       20   \n",
       "\n",
       "    total_victims location.1 age_of_shooter prior_signs_mental_health_issues  \\\n",
       "57             46  Religious             26                              Yes   \n",
       "\n",
       "    ...          weapon_type  \\\n",
       "57  ...  semiautomatic rifle   \n",
       "\n",
       "                                       weapon_details   race gender  \\\n",
       "57  Ruger AR-556; Kelley also possessed semiautoma...  white      M   \n",
       "\n",
       "                                              sources  \\\n",
       "57  https://www.washingtonpost.com/news/morning-mi...   \n",
       "\n",
       "                                mental_health_sources  \\\n",
       "57  http://www.expressnews.com/news/local/article/...   \n",
       "\n",
       "                               sources_additional_age   latitude   longitude  \\\n",
       "57  https://www.washingtonpost.com/news/morning-mi...  29.273282  -98.056488   \n",
       "\n",
       "    type  \n",
       "57  Mass  \n",
       "\n",
       "[1 rows x 23 columns]"
      ]
     },
     "execution_count": 39,
     "metadata": {},
     "output_type": "execute_result"
    }
   ],
   "source": [
    "mjms_df[mjms_df.weapons_obtained_legally.str.contains('kelley passed federal criminal background checks', regex=False)]"
   ]
  },
  {
   "cell_type": "code",
   "execution_count": 40,
   "id": "f5ddb1cb-5a37-4496-a062-00fca5bea5a7",
   "metadata": {},
   "outputs": [],
   "source": [
    "mjms_df.loc[ mjms_df.case == 'Texas First Baptist Church massacre', 'weapons_obtained_legally'] = 'yes'"
   ]
  },
  {
   "cell_type": "code",
   "execution_count": 41,
   "id": "f9e2d1aa-8984-4529-a82b-114d98d0d01d",
   "metadata": {},
   "outputs": [
    {
     "data": {
      "text/plain": [
       "array(['yes', 'unknown', '-', 'no', 'tbd', 'some'], dtype=object)"
      ]
     },
     "execution_count": 41,
     "metadata": {},
     "output_type": "execute_result"
    }
   ],
   "source": [
    "mjms_df.weapons_obtained_legally.unique()"
   ]
  },
  {
   "cell_type": "markdown",
   "id": "a72df63e-a3b8-4196-942a-c54e6cababac",
   "metadata": {},
   "source": [
    "### Location Data Cleaning\n",
    "The location for the shootings was given as a single field containing city and state. This was split into two fields. One for city, and the other for state."
   ]
  },
  {
   "cell_type": "code",
   "execution_count": 42,
   "id": "357bd326-9e1a-4b8e-85e6-3d3661ea8cb9",
   "metadata": {},
   "outputs": [],
   "source": [
    "# Extracts the city and state from the location field\n",
    "mjms_df[['city', 'state']] = mjms_df.location.str.split(', ', expand=True)"
   ]
  },
  {
   "cell_type": "markdown",
   "id": "52fb9361-c4de-46a7-ad3a-acb45090e11f",
   "metadata": {},
   "source": [
    "#### Verify Location Data Cleaning\n",
    "The DataFrame will retain the original location column incase any issues arised from the extraction of the city and state. "
   ]
  },
  {
   "cell_type": "code",
   "execution_count": 43,
   "id": "48db9f78-1797-49ec-868b-f0ef92206f72",
   "metadata": {},
   "outputs": [
    {
     "data": {
      "text/html": [
       "<div>\n",
       "<style scoped>\n",
       "    .dataframe tbody tr th:only-of-type {\n",
       "        vertical-align: middle;\n",
       "    }\n",
       "\n",
       "    .dataframe tbody tr th {\n",
       "        vertical-align: top;\n",
       "    }\n",
       "\n",
       "    .dataframe thead th {\n",
       "        text-align: right;\n",
       "    }\n",
       "</style>\n",
       "<table border=\"1\" class=\"dataframe\">\n",
       "  <thead>\n",
       "    <tr style=\"text-align: right;\">\n",
       "      <th></th>\n",
       "      <th>case</th>\n",
       "      <th>city</th>\n",
       "      <th>state</th>\n",
       "      <th>location</th>\n",
       "    </tr>\n",
       "  </thead>\n",
       "  <tbody>\n",
       "    <tr>\n",
       "      <th>0</th>\n",
       "      <td>Apalachee High School shooting</td>\n",
       "      <td>Winder</td>\n",
       "      <td>Georgia</td>\n",
       "      <td>Winder, Georgia</td>\n",
       "    </tr>\n",
       "    <tr>\n",
       "      <th>1</th>\n",
       "      <td>Arkansas grocery store shooting</td>\n",
       "      <td>Fordyce</td>\n",
       "      <td>Arkansas</td>\n",
       "      <td>Fordyce, Arkansas</td>\n",
       "    </tr>\n",
       "    <tr>\n",
       "      <th>2</th>\n",
       "      <td>UNLV shooting</td>\n",
       "      <td>Las Vegas</td>\n",
       "      <td>Nevada</td>\n",
       "      <td>Las Vegas, Nevada</td>\n",
       "    </tr>\n",
       "    <tr>\n",
       "      <th>3</th>\n",
       "      <td>Maine bowling alley and bar shootings</td>\n",
       "      <td>Lewiston</td>\n",
       "      <td>Maine</td>\n",
       "      <td>Lewiston, Maine</td>\n",
       "    </tr>\n",
       "    <tr>\n",
       "      <th>4</th>\n",
       "      <td>Jacksonville Dollar General store shooting</td>\n",
       "      <td>Jacksonville</td>\n",
       "      <td>Florida</td>\n",
       "      <td>Jacksonville, Florida</td>\n",
       "    </tr>\n",
       "    <tr>\n",
       "      <th>...</th>\n",
       "      <td>...</td>\n",
       "      <td>...</td>\n",
       "      <td>...</td>\n",
       "      <td>...</td>\n",
       "    </tr>\n",
       "    <tr>\n",
       "      <th>146</th>\n",
       "      <td>Shopping centers spree killings</td>\n",
       "      <td>Palm Bay</td>\n",
       "      <td>Florida</td>\n",
       "      <td>Palm Bay, Florida</td>\n",
       "    </tr>\n",
       "    <tr>\n",
       "      <th>147</th>\n",
       "      <td>United States Postal Service shooting</td>\n",
       "      <td>Edmond</td>\n",
       "      <td>Oklahoma</td>\n",
       "      <td>Edmond, Oklahoma</td>\n",
       "    </tr>\n",
       "    <tr>\n",
       "      <th>148</th>\n",
       "      <td>San Ysidro McDonald's massacre</td>\n",
       "      <td>San Ysidro</td>\n",
       "      <td>California</td>\n",
       "      <td>San Ysidro, California</td>\n",
       "    </tr>\n",
       "    <tr>\n",
       "      <th>149</th>\n",
       "      <td>Dallas nightclub shooting</td>\n",
       "      <td>Dallas</td>\n",
       "      <td>Texas</td>\n",
       "      <td>Dallas, Texas</td>\n",
       "    </tr>\n",
       "    <tr>\n",
       "      <th>150</th>\n",
       "      <td>Welding shop shooting</td>\n",
       "      <td>Miami</td>\n",
       "      <td>Florida</td>\n",
       "      <td>Miami, Florida</td>\n",
       "    </tr>\n",
       "  </tbody>\n",
       "</table>\n",
       "<p>151 rows × 4 columns</p>\n",
       "</div>"
      ],
      "text/plain": [
       "                                           case          city       state  \\\n",
       "0                Apalachee High School shooting        Winder     Georgia   \n",
       "1               Arkansas grocery store shooting       Fordyce    Arkansas   \n",
       "2                                 UNLV shooting     Las Vegas      Nevada   \n",
       "3         Maine bowling alley and bar shootings      Lewiston       Maine   \n",
       "4    Jacksonville Dollar General store shooting  Jacksonville     Florida   \n",
       "..                                          ...           ...         ...   \n",
       "146             Shopping centers spree killings      Palm Bay     Florida   \n",
       "147       United States Postal Service shooting        Edmond    Oklahoma   \n",
       "148              San Ysidro McDonald's massacre    San Ysidro  California   \n",
       "149                   Dallas nightclub shooting        Dallas       Texas   \n",
       "150                       Welding shop shooting         Miami     Florida   \n",
       "\n",
       "                   location  \n",
       "0           Winder, Georgia  \n",
       "1         Fordyce, Arkansas  \n",
       "2         Las Vegas, Nevada  \n",
       "3           Lewiston, Maine  \n",
       "4     Jacksonville, Florida  \n",
       "..                      ...  \n",
       "146       Palm Bay, Florida  \n",
       "147        Edmond, Oklahoma  \n",
       "148  San Ysidro, California  \n",
       "149           Dallas, Texas  \n",
       "150          Miami, Florida  \n",
       "\n",
       "[151 rows x 4 columns]"
      ]
     },
     "execution_count": 43,
     "metadata": {},
     "output_type": "execute_result"
    }
   ],
   "source": [
    "mjms_df[['case', 'city', 'state', 'location']]"
   ]
  },
  {
   "cell_type": "markdown",
   "id": "c8b0798d-12b5-4e1b-a18b-7f7db0b1b821",
   "metadata": {},
   "source": [
    "### Place Data Cleaning\n",
    "The place the shooting occured is the actual environment. The original field is stored as location.1 so the name needs to be changed then the field needs to be cleaned. Options are:\n",
    "\n",
    "- School\n",
    "- Workplace\n",
    "- Other\n",
    "- Religious\n",
    "- Military\n",
    "- Airport"
   ]
  },
  {
   "cell_type": "code",
   "execution_count": 44,
   "id": "5db9ca7e-2113-4dfe-88e3-f19ece6cabff",
   "metadata": {},
   "outputs": [
    {
     "data": {
      "text/plain": [
       "array(['School', 'workplace', 'Other', 'Workplace', 'religious',\n",
       "       'Religious', 'Military', 'Airport', '\\nWorkplace', 'Other\\n'],\n",
       "      dtype=object)"
      ]
     },
     "execution_count": 44,
     "metadata": {},
     "output_type": "execute_result"
    }
   ],
   "source": [
    "# Fixes field name\n",
    "mjms_df = mjms_df.rename(columns={'location.1': 'place'})\n",
    "# Prints unique values\n",
    "mjms_df.place.unique()"
   ]
  },
  {
   "cell_type": "code",
   "execution_count": 45,
   "id": "4edf700d-7e32-485f-9359-cd4ef6114237",
   "metadata": {},
   "outputs": [],
   "source": [
    "# Converts to lowercase\n",
    "mjms_df.place = mjms_df.place.str.lower()\n",
    "# Remove whitespace\n",
    "mjms_df.place = mjms_df.place.str.strip()"
   ]
  },
  {
   "cell_type": "markdown",
   "id": "bb027981-3960-4cfa-9f5b-cf8a0c77a669",
   "metadata": {},
   "source": [
    "#### Verify Place Correction"
   ]
  },
  {
   "cell_type": "code",
   "execution_count": 46,
   "id": "6dff9122-f7d7-4317-a0d6-1434be1e74eb",
   "metadata": {},
   "outputs": [
    {
     "data": {
      "text/plain": [
       "array(['school', 'workplace', 'other', 'religious', 'military', 'airport'],\n",
       "      dtype=object)"
      ]
     },
     "execution_count": 46,
     "metadata": {},
     "output_type": "execute_result"
    }
   ],
   "source": [
    "mjms_df.place.unique()"
   ]
  },
  {
   "cell_type": "markdown",
   "id": "d379967b-4fbd-486d-a791-711b88dfae33",
   "metadata": {},
   "source": [
    "### Mental Health Data Cleaning\n",
    "Cleans the data collected for the shooter’s mental health status prior to the shooting. In this section, unless the details are truly ambiguous, the input will be marked as no. There are several instances where a single traumatic event can be seen as the catalyst. "
   ]
  },
  {
   "cell_type": "code",
   "execution_count": 47,
   "id": "7bcc198a-77f5-45e7-b5a4-9305f436f14b",
   "metadata": {},
   "outputs": [
    {
     "data": {
      "text/plain": [
       "array(['yes', '-', 'TBD', 'Yes', 'Unclear', 'Unknown', 'No', 'Unclear '],\n",
       "      dtype=object)"
      ]
     },
     "execution_count": 47,
     "metadata": {},
     "output_type": "execute_result"
    }
   ],
   "source": [
    "mjms_df.prior_signs_mental_health_issues.unique()"
   ]
  },
  {
   "cell_type": "code",
   "execution_count": 48,
   "id": "f9ed62aa-d8bc-436e-9d40-8caf8f0a811d",
   "metadata": {},
   "outputs": [],
   "source": [
    "# Converts to lowercase\n",
    "mjms_df.prior_signs_mental_health_issues = mjms_df.prior_signs_mental_health_issues.str.lower()\n",
    "# Remove whitespace\n",
    "mjms_df.prior_signs_mental_health_issues = mjms_df.prior_signs_mental_health_issues.str.strip()"
   ]
  },
  {
   "cell_type": "markdown",
   "id": "49306a5f-1e1a-43c0-b41d-22461352527f",
   "metadata": {},
   "source": [
    "#### Verify Missing Data\n",
    "For those fields without data, attempts to find it through new or current sources"
   ]
  },
  {
   "cell_type": "code",
   "execution_count": 49,
   "id": "39090176-7b0c-4249-be85-7d36a316be92",
   "metadata": {
    "scrolled": true
   },
   "outputs": [
    {
     "data": {
      "text/html": [
       "<div>\n",
       "<style scoped>\n",
       "    .dataframe tbody tr th:only-of-type {\n",
       "        vertical-align: middle;\n",
       "    }\n",
       "\n",
       "    .dataframe tbody tr th {\n",
       "        vertical-align: top;\n",
       "    }\n",
       "\n",
       "    .dataframe thead th {\n",
       "        text-align: right;\n",
       "    }\n",
       "</style>\n",
       "<table border=\"1\" class=\"dataframe\">\n",
       "  <thead>\n",
       "    <tr style=\"text-align: right;\">\n",
       "      <th></th>\n",
       "      <th>case</th>\n",
       "      <th>summary</th>\n",
       "      <th>prior_signs_mental_health_issues</th>\n",
       "    </tr>\n",
       "  </thead>\n",
       "  <tbody>\n",
       "    <tr>\n",
       "      <th>1</th>\n",
       "      <td>Arkansas grocery store shooting</td>\n",
       "      <td>Travis Posey, 44, opened fire in the parking l...</td>\n",
       "      <td>-</td>\n",
       "    </tr>\n",
       "    <tr>\n",
       "      <th>2</th>\n",
       "      <td>UNLV shooting</td>\n",
       "      <td>Anthony Polito, 67, a former university profes...</td>\n",
       "      <td>-</td>\n",
       "    </tr>\n",
       "    <tr>\n",
       "      <th>5</th>\n",
       "      <td>Orange County biker bar shooting</td>\n",
       "      <td>John Snowling, 59, a retired sergeant from the...</td>\n",
       "      <td>-</td>\n",
       "    </tr>\n",
       "    <tr>\n",
       "      <th>10</th>\n",
       "      <td>Nashville Christian school shooting</td>\n",
       "      <td>Audrey Hale, 28, who was a former student at t...</td>\n",
       "      <td>-</td>\n",
       "    </tr>\n",
       "    <tr>\n",
       "      <th>11</th>\n",
       "      <td>Michigan State University shooting</td>\n",
       "      <td>Anthony D. McRae, 43, opened fire at Berkey Ha...</td>\n",
       "      <td>-</td>\n",
       "    </tr>\n",
       "    <tr>\n",
       "      <th>12</th>\n",
       "      <td>Half Moon Bay spree shooting</td>\n",
       "      <td>Chunli Zhao, 67, suspected of carrying out the...</td>\n",
       "      <td>-</td>\n",
       "    </tr>\n",
       "    <tr>\n",
       "      <th>14</th>\n",
       "      <td>Virginia Walmart shooting</td>\n",
       "      <td>Andre Bing, 31, who worked as a supervisor at ...</td>\n",
       "      <td>-</td>\n",
       "    </tr>\n",
       "    <tr>\n",
       "      <th>16</th>\n",
       "      <td>University of Virginia shooting</td>\n",
       "      <td>Christopher Darnell Jones Jr., 22, allegedly o...</td>\n",
       "      <td>-</td>\n",
       "    </tr>\n",
       "    <tr>\n",
       "      <th>17</th>\n",
       "      <td>Raleigh spree shooting</td>\n",
       "      <td>Austin Thompson, 15, went on a rampage in the ...</td>\n",
       "      <td>-</td>\n",
       "    </tr>\n",
       "    <tr>\n",
       "      <th>18</th>\n",
       "      <td>Greenwood Park Mall shooting</td>\n",
       "      <td>Jonathan Sapirman, 20, opened fire in a mall f...</td>\n",
       "      <td>-</td>\n",
       "    </tr>\n",
       "    <tr>\n",
       "      <th>19</th>\n",
       "      <td>Highland Park July 4 parade shooting</td>\n",
       "      <td>Suspected gunman Robert \"Bobby\" Crimo, 21, all...</td>\n",
       "      <td>-</td>\n",
       "    </tr>\n",
       "    <tr>\n",
       "      <th>20</th>\n",
       "      <td>Church potluck dinner shooting</td>\n",
       "      <td>Robert Findlay Smith, 70, opened fire with a h...</td>\n",
       "      <td>-</td>\n",
       "    </tr>\n",
       "    <tr>\n",
       "      <th>21</th>\n",
       "      <td>Concrete company shooting</td>\n",
       "      <td>Joe Louis Esquivel, 23, shot four coworkers an...</td>\n",
       "      <td>-</td>\n",
       "    </tr>\n",
       "    <tr>\n",
       "      <th>22</th>\n",
       "      <td>Tulsa medical center shooting</td>\n",
       "      <td>Michael Louis, 45, killed four, including two ...</td>\n",
       "      <td>-</td>\n",
       "    </tr>\n",
       "    <tr>\n",
       "      <th>25</th>\n",
       "      <td>Sacramento County church shooting</td>\n",
       "      <td>\"A man believed to be meeting his three childr...</td>\n",
       "      <td>-</td>\n",
       "    </tr>\n",
       "    <tr>\n",
       "      <th>26</th>\n",
       "      <td>Oxford High School shooting</td>\n",
       "      <td>Ethan Crumbley, a 15-year-old student at Oxfor...</td>\n",
       "      <td>-</td>\n",
       "    </tr>\n",
       "    <tr>\n",
       "      <th>29</th>\n",
       "      <td>Orange office complex shooting</td>\n",
       "      <td>Aminadab Gaxiola Gonzalez, 44, allegedly opene...</td>\n",
       "      <td>-</td>\n",
       "    </tr>\n",
       "    <tr>\n",
       "      <th>31</th>\n",
       "      <td>Atlanta massage parlor shootings</td>\n",
       "      <td>Robert Aaron Long, 21, killed eight people at ...</td>\n",
       "      <td>-</td>\n",
       "    </tr>\n",
       "    <tr>\n",
       "      <th>32</th>\n",
       "      <td>Springfield convenience store shooting</td>\n",
       "      <td>Joaquin S. Roman, 31, went on a rampage culmin...</td>\n",
       "      <td>-</td>\n",
       "    </tr>\n",
       "    <tr>\n",
       "      <th>33</th>\n",
       "      <td>Molson Coors shooting</td>\n",
       "      <td>Anthony Ferrill, 51, an employee armed with tw...</td>\n",
       "      <td>-</td>\n",
       "    </tr>\n",
       "    <tr>\n",
       "      <th>34</th>\n",
       "      <td>Jersey City kosher market shooting</td>\n",
       "      <td>David N. Anderson, 47, and Francine Graham, 50...</td>\n",
       "      <td>-</td>\n",
       "    </tr>\n",
       "    <tr>\n",
       "      <th>35</th>\n",
       "      <td>Pensacola Naval base shooting</td>\n",
       "      <td>Ahmed Mohammed al-Shamrani, 21, a Saudi Arabia...</td>\n",
       "      <td>-</td>\n",
       "    </tr>\n",
       "    <tr>\n",
       "      <th>37</th>\n",
       "      <td>Dayton entertainment district shooting</td>\n",
       "      <td>Connor Betts, 24, died during the attack, foll...</td>\n",
       "      <td>-</td>\n",
       "    </tr>\n",
       "    <tr>\n",
       "      <th>38</th>\n",
       "      <td>El Paso Walmart mass shooting</td>\n",
       "      <td>Patrick Crusius, 21, who was apprehended by po...</td>\n",
       "      <td>-</td>\n",
       "    </tr>\n",
       "    <tr>\n",
       "      <th>42</th>\n",
       "      <td>Pennsylvania hotel bar shooting</td>\n",
       "      <td>Jordan Witmer, 21, shot three people at a Rama...</td>\n",
       "      <td>-</td>\n",
       "    </tr>\n",
       "    <tr>\n",
       "      <th>44</th>\n",
       "      <td>Mercy Hospital shooting</td>\n",
       "      <td>Juan Lopez, 32, confronted his former fiancé, ...</td>\n",
       "      <td>-</td>\n",
       "    </tr>\n",
       "    <tr>\n",
       "      <th>46</th>\n",
       "      <td>Tree of Life synagogue shooting</td>\n",
       "      <td>Robert D. Bowers, 46, shouted anti-Semitic slu...</td>\n",
       "      <td>-</td>\n",
       "    </tr>\n",
       "    <tr>\n",
       "      <th>47</th>\n",
       "      <td>Rite Aid warehouse shooting</td>\n",
       "      <td>Snochia Moseley, 26, reportedly a disgruntled ...</td>\n",
       "      <td>-</td>\n",
       "    </tr>\n",
       "    <tr>\n",
       "      <th>48</th>\n",
       "      <td>T&amp;T Trucking shooting</td>\n",
       "      <td>Javier Casarez, 54, who was going through a bi...</td>\n",
       "      <td>-</td>\n",
       "    </tr>\n",
       "    <tr>\n",
       "      <th>50</th>\n",
       "      <td>Capital Gazette shooting</td>\n",
       "      <td>Jarrod W. Ramos, 38, shot through the glass do...</td>\n",
       "      <td>-</td>\n",
       "    </tr>\n",
       "    <tr>\n",
       "      <th>51</th>\n",
       "      <td>Santa Fe High School shooting</td>\n",
       "      <td>Dimitrios Pagourtzis, a 17-year-old student, o...</td>\n",
       "      <td>-</td>\n",
       "    </tr>\n",
       "  </tbody>\n",
       "</table>\n",
       "</div>"
      ],
      "text/plain": [
       "                                      case  \\\n",
       "1          Arkansas grocery store shooting   \n",
       "2                            UNLV shooting   \n",
       "5         Orange County biker bar shooting   \n",
       "10     Nashville Christian school shooting   \n",
       "11      Michigan State University shooting   \n",
       "12            Half Moon Bay spree shooting   \n",
       "14               Virginia Walmart shooting   \n",
       "16         University of Virginia shooting   \n",
       "17                  Raleigh spree shooting   \n",
       "18            Greenwood Park Mall shooting   \n",
       "19    Highland Park July 4 parade shooting   \n",
       "20          Church potluck dinner shooting   \n",
       "21               Concrete company shooting   \n",
       "22           Tulsa medical center shooting   \n",
       "25       Sacramento County church shooting   \n",
       "26             Oxford High School shooting   \n",
       "29          Orange office complex shooting   \n",
       "31        Atlanta massage parlor shootings   \n",
       "32  Springfield convenience store shooting   \n",
       "33                   Molson Coors shooting   \n",
       "34      Jersey City kosher market shooting   \n",
       "35           Pensacola Naval base shooting   \n",
       "37  Dayton entertainment district shooting   \n",
       "38           El Paso Walmart mass shooting   \n",
       "42         Pennsylvania hotel bar shooting   \n",
       "44                 Mercy Hospital shooting   \n",
       "46         Tree of Life synagogue shooting   \n",
       "47             Rite Aid warehouse shooting   \n",
       "48                   T&T Trucking shooting   \n",
       "50                Capital Gazette shooting   \n",
       "51           Santa Fe High School shooting   \n",
       "\n",
       "                                              summary  \\\n",
       "1   Travis Posey, 44, opened fire in the parking l...   \n",
       "2   Anthony Polito, 67, a former university profes...   \n",
       "5   John Snowling, 59, a retired sergeant from the...   \n",
       "10  Audrey Hale, 28, who was a former student at t...   \n",
       "11  Anthony D. McRae, 43, opened fire at Berkey Ha...   \n",
       "12  Chunli Zhao, 67, suspected of carrying out the...   \n",
       "14  Andre Bing, 31, who worked as a supervisor at ...   \n",
       "16  Christopher Darnell Jones Jr., 22, allegedly o...   \n",
       "17  Austin Thompson, 15, went on a rampage in the ...   \n",
       "18  Jonathan Sapirman, 20, opened fire in a mall f...   \n",
       "19  Suspected gunman Robert \"Bobby\" Crimo, 21, all...   \n",
       "20  Robert Findlay Smith, 70, opened fire with a h...   \n",
       "21  Joe Louis Esquivel, 23, shot four coworkers an...   \n",
       "22  Michael Louis, 45, killed four, including two ...   \n",
       "25  \"A man believed to be meeting his three childr...   \n",
       "26  Ethan Crumbley, a 15-year-old student at Oxfor...   \n",
       "29  Aminadab Gaxiola Gonzalez, 44, allegedly opene...   \n",
       "31  Robert Aaron Long, 21, killed eight people at ...   \n",
       "32  Joaquin S. Roman, 31, went on a rampage culmin...   \n",
       "33  Anthony Ferrill, 51, an employee armed with tw...   \n",
       "34  David N. Anderson, 47, and Francine Graham, 50...   \n",
       "35  Ahmed Mohammed al-Shamrani, 21, a Saudi Arabia...   \n",
       "37  Connor Betts, 24, died during the attack, foll...   \n",
       "38  Patrick Crusius, 21, who was apprehended by po...   \n",
       "42  Jordan Witmer, 21, shot three people at a Rama...   \n",
       "44  Juan Lopez, 32, confronted his former fiancé, ...   \n",
       "46  Robert D. Bowers, 46, shouted anti-Semitic slu...   \n",
       "47  Snochia Moseley, 26, reportedly a disgruntled ...   \n",
       "48  Javier Casarez, 54, who was going through a bi...   \n",
       "50  Jarrod W. Ramos, 38, shot through the glass do...   \n",
       "51  Dimitrios Pagourtzis, a 17-year-old student, o...   \n",
       "\n",
       "   prior_signs_mental_health_issues  \n",
       "1                                 -  \n",
       "2                                 -  \n",
       "5                                 -  \n",
       "10                                -  \n",
       "11                                -  \n",
       "12                                -  \n",
       "14                                -  \n",
       "16                                -  \n",
       "17                                -  \n",
       "18                                -  \n",
       "19                                -  \n",
       "20                                -  \n",
       "21                                -  \n",
       "22                                -  \n",
       "25                                -  \n",
       "26                                -  \n",
       "29                                -  \n",
       "31                                -  \n",
       "32                                -  \n",
       "33                                -  \n",
       "34                                -  \n",
       "35                                -  \n",
       "37                                -  \n",
       "38                                -  \n",
       "42                                -  \n",
       "44                                -  \n",
       "46                                -  \n",
       "47                                -  \n",
       "48                                -  \n",
       "50                                -  \n",
       "51                                -  "
      ]
     },
     "execution_count": 49,
     "metadata": {},
     "output_type": "execute_result"
    }
   ],
   "source": [
    "mjms_df.loc[ mjms_df.prior_signs_mental_health_issues == '-', ('case', 'summary', 'prior_signs_mental_health_issues') ]"
   ]
  },
  {
   "cell_type": "markdown",
   "id": "0b08b939-0337-49a8-8ee0-d1f786439eb1",
   "metadata": {},
   "source": [
    "#### Verifying Mental Health Status\n",
    "\n",
    "For the 'Apalachee High School shooting' case, source @ https://www.kark.com/crime/who-is-travis-posey-look-into-the-fordyce-mass-shooting-suspects-background/ references a bankruptcy as the catalyst. Posey had a nonexistent criminal record and no prior indications were noted\n",
    "\n",
    "For the 'UNLV shooting' case, source @ https://www.nbcnews.com/news/us-news/anthony-polito-was-eccentric-teacher-obsessed-las-vegas-rcna128648 identified the probable cause as general apathy from not being able to find a job\n",
    "\n",
    "For the 'Orange County biker bar shooting' case, source @ https://www.yahoo.com/news/multiple-wounded-shooting-california-biker-034547907.html identified the probable cause as a divorce court proceeding where communal property disputes resulted in the assailant’s spouse potentially receiving a portion of their pension\n",
    "\n",
    "For the 'Nashville Christian school shooting' case, source @ https://www.wsmv.com/2023/03/28/nashville-school-shooter-had-mental-disorder-police-say/#:~:text=Metro%20Nashville%20Police%20Chief%20John,shooting%20at%20The%20Covenant%20School.&text=NASHVILLE%2C%20Tenn.,the%20Metro%20Nashville%20Police%20Department. determined the shooter had prior mental health issues and was under care\n",
    "\n",
    "For the 'Michigan State University shooting' case, source @ https://www.detroitnews.com/story/news/local/michigan/2023/02/14/michigan-state-university-msu-shooter-anthony-mcrae-gun-conviction-with-weapons-history/69901983007/ determined the shooter had prior signs of mental health issues\n",
    "\n",
    "For the 'Half Moon Bay spree shooting' case, source @ https://www.cbsnews.com/sanfrancisco/news/were-warning-signs-missed-in-two-california-mass-shootings/ determined the shooter was suffering from acute mental health issues as a result of inhumane work conditions\n",
    "\n",
    "For the 'Virginia Walmart shooting' case, source @ https://www.nbcnews.com/news/us-news/walmart-suspect-andre-bing-was-longtime-employee-was-little-rcna58574 determined the shooter had prior signs of mental health issues. He had claimed that if he got fired he would commit an act of violence showing a general predisposition towards violence. The assailant also had paranoia regarding the government, social media, etc.\n",
    "\n",
    "For the 'University of Virginia shooting' case, source @ https://www.nytimes.com/2022/11/30/us/shooting-suspect-video-university-virginia.html determined the shooter had prior signs of mental health issues. He had rapped in a video about both murder and his mental health issues and his father claimed he suffered from paranoia"
   ]
  },
  {
   "cell_type": "code",
   "execution_count": 50,
   "id": "c50b0349-5c3f-4989-a9eb-4694c048ed2b",
   "metadata": {},
   "outputs": [],
   "source": [
    "# 'Arkansas grocery store shooting'\n",
    "mjms_df.loc[mjms_df.case == 'Arkansas grocery store shooting', 'prior_signs_mental_health_issues'] = 'no'\n",
    "\n",
    "# 'UNLV shooting'\n",
    "mjms_df.loc[mjms_df.case == 'UNLV shooting', 'prior_signs_mental_health_issues'] = 'no'\n",
    "\n",
    "# 'Orange County biker bar shooting'\n",
    "mjms_df.loc[mjms_df.case == 'Orange County biker bar shooting', 'prior_signs_mental_health_issues'] = 'no'\n",
    "\n",
    "# 'Nashville Christian school shooting'\n",
    "mjms_df.loc[mjms_df.case == 'Nashville Christian school shooting', 'prior_signs_mental_health_issues'] = 'yes'\n",
    "\n",
    "# 'Michigan State University shooting'\n",
    "mjms_df.loc[mjms_df.case == 'Michigan State University shooting', 'prior_signs_mental_health_issues'] = 'yes'\n",
    "\n",
    "# 'Half Moon Bay spree shooting'\n",
    "mjms_df.loc[mjms_df.case == 'Half Moon Bay spree shooting', 'prior_signs_mental_health_issues'] = 'yes'\n",
    "\n",
    "# 'Virginia Walmart shooting'\n",
    "mjms_df.loc[mjms_df.case == 'Virginia Walmart shooting', 'prior_signs_mental_health_issues'] = 'yes'\n",
    "\n",
    "# 'University of Virginia shooting'\n",
    "mjms_df.loc[mjms_df.case == 'University of Virginia shooting', 'prior_signs_mental_health_issues'] = 'yes'"
   ]
  },
  {
   "cell_type": "code",
   "execution_count": 51,
   "id": "9cff8fa9-2865-4f11-bda0-d4db4868168e",
   "metadata": {},
   "outputs": [
    {
     "data": {
      "text/plain": [
       "array(['yes', 'no', '-', 'tbd', 'unclear', 'unknown'], dtype=object)"
      ]
     },
     "execution_count": 51,
     "metadata": {},
     "output_type": "execute_result"
    }
   ],
   "source": [
    "mjms_df.prior_signs_mental_health_issues.unique()"
   ]
  },
  {
   "cell_type": "markdown",
   "id": "61ce994f-557b-4e09-87f1-dba0d3ccc007",
   "metadata": {},
   "source": [
    "### Cleaning Where Obtained And Creating Where Obtained Category\n",
    "After analyzing each entry, assigns a category to the case for where the wepon was obtained.\n",
    "\n",
    "- Gun Store\n",
    "- Sports\n",
    "- Issued\n",
    "- Stolen\n",
    "- Online\n",
    "- Individual\n",
    "- Assembled\n",
    "- Family\n",
    "- Pawn\n",
    "- Other\n",
    "- Unclear/Unknown"
   ]
  },
  {
   "cell_type": "code",
   "execution_count": 52,
   "id": "193618e3-5982-4b8e-923a-08b518e12d63",
   "metadata": {},
   "outputs": [],
   "source": [
    "def add_category(obtained, category) :\n",
    "    '''\n",
    "    If applicable, adds multiple categories to the obtained category list. Otherwise, assigns the input as a string\n",
    "         - Param: category (Str): The category that applies to the case\n",
    "         - Return: list|str: Returns either a list or a str depending on the number of categories\n",
    "    '''\n",
    "    if isinstance(obtained, list) :\n",
    "        return obtained + [category]    \n",
    "    elif pd.isnull(obtained) :\n",
    "        return category\n",
    "    else :\n",
    "        lst = [obtained]\n",
    "        lst.append(category)\n",
    "        return lst"
   ]
  },
  {
   "cell_type": "markdown",
   "id": "54f15632-b548-4765-9a5a-ec3a21b2dafb",
   "metadata": {},
   "source": [
    "#### Creates the Where Obtained Category and assigns '-' to all "
   ]
  },
  {
   "cell_type": "code",
   "execution_count": 53,
   "id": "ea2f2aa6-45f9-493e-9c64-05b878c106ae",
   "metadata": {},
   "outputs": [],
   "source": [
    "mjms_df['where_obtained_category'] = None"
   ]
  },
  {
   "cell_type": "markdown",
   "id": "92bf5d98-c1ed-4156-83cb-475c7217927c",
   "metadata": {},
   "source": [
    "#### Assings Gun Store Category\n"
   ]
  },
  {
   "cell_type": "code",
   "execution_count": 54,
   "id": "2edaf367-82ea-4de4-bc3c-a5ea5d3f9562",
   "metadata": {},
   "outputs": [],
   "source": [
    "gun_store_str = 'gun store|retailer|gun center|gun dealer|gun shop|B&B Gun|Frank\\'s Guns|Tilford\\'s|Shooting center|Sharpshooters Small|Bull\\'s|Bullseye|Guns Galore|Local stores|Big E'"
   ]
  },
  {
   "cell_type": "code",
   "execution_count": 55,
   "id": "39ecdaa3-6620-40aa-bc09-91a022d19449",
   "metadata": {
    "scrolled": true
   },
   "outputs": [
    {
     "data": {
      "text/html": [
       "<div>\n",
       "<style scoped>\n",
       "    .dataframe tbody tr th:only-of-type {\n",
       "        vertical-align: middle;\n",
       "    }\n",
       "\n",
       "    .dataframe tbody tr th {\n",
       "        vertical-align: top;\n",
       "    }\n",
       "\n",
       "    .dataframe thead th {\n",
       "        text-align: right;\n",
       "    }\n",
       "</style>\n",
       "<table border=\"1\" class=\"dataframe\">\n",
       "  <thead>\n",
       "    <tr style=\"text-align: right;\">\n",
       "      <th></th>\n",
       "      <th>case</th>\n",
       "      <th>where_obtained</th>\n",
       "    </tr>\n",
       "  </thead>\n",
       "  <tbody>\n",
       "    <tr>\n",
       "      <th>4</th>\n",
       "      <td>Jacksonville Dollar General store shooting</td>\n",
       "      <td>local gun stores</td>\n",
       "    </tr>\n",
       "    <tr>\n",
       "      <th>9</th>\n",
       "      <td>Louisville bank shooting</td>\n",
       "      <td>gun dealership in Louisville</td>\n",
       "    </tr>\n",
       "    <tr>\n",
       "      <th>45</th>\n",
       "      <td>Thousand Oaks nightclub shooting</td>\n",
       "      <td>A gun store in Simi Valley</td>\n",
       "    </tr>\n",
       "    <tr>\n",
       "      <th>49</th>\n",
       "      <td>Fifth Third Center shooting</td>\n",
       "      <td>A local gun store</td>\n",
       "    </tr>\n",
       "    <tr>\n",
       "      <th>60</th>\n",
       "      <td>Las Vegas Strip massacre</td>\n",
       "      <td>Two gun shops in Nevada</td>\n",
       "    </tr>\n",
       "    <tr>\n",
       "      <th>70</th>\n",
       "      <td>Orlando nightclub massacre</td>\n",
       "      <td>Shooting center in Port St. Lucie, Florida</td>\n",
       "    </tr>\n",
       "    <tr>\n",
       "      <th>78</th>\n",
       "      <td>Charleston Church Shooting</td>\n",
       "      <td>Shooter's Choice gun store in West Columbia, S...</td>\n",
       "    </tr>\n",
       "    <tr>\n",
       "      <th>82</th>\n",
       "      <td>Fort Hood shooting 2</td>\n",
       "      <td>Local gun store in Killeen, Guns Galore</td>\n",
       "    </tr>\n",
       "    <tr>\n",
       "      <th>84</th>\n",
       "      <td>Washington Navy Yard shooting</td>\n",
       "      <td>Sharpshooters Small Arms Range</td>\n",
       "    </tr>\n",
       "    <tr>\n",
       "      <th>85</th>\n",
       "      <td>Hialeah apartment shooting</td>\n",
       "      <td>Florida Gun Center</td>\n",
       "    </tr>\n",
       "    <tr>\n",
       "      <th>88</th>\n",
       "      <td>Mohawk Valley shootings</td>\n",
       "      <td>Frank's Guns in Marcy, NY</td>\n",
       "    </tr>\n",
       "    <tr>\n",
       "      <th>93</th>\n",
       "      <td>Seattle cafe shooting</td>\n",
       "      <td>Bull's Eye Shooter Supply in Tacoma, Wash.</td>\n",
       "    </tr>\n",
       "    <tr>\n",
       "      <th>94</th>\n",
       "      <td>Oikos University killings</td>\n",
       "      <td>Bullseye in Castro Valley, Calif.</td>\n",
       "    </tr>\n",
       "    <tr>\n",
       "      <th>99</th>\n",
       "      <td>Hartford Beer Distributor shooting</td>\n",
       "      <td>Gun dealer in East Windsor, Conn.</td>\n",
       "    </tr>\n",
       "    <tr>\n",
       "      <th>101</th>\n",
       "      <td>Fort Hood massacre</td>\n",
       "      <td>Guns Galore in Kileen, Texas</td>\n",
       "    </tr>\n",
       "    <tr>\n",
       "      <th>105</th>\n",
       "      <td>Northern Illinois University shooting</td>\n",
       "      <td>Online and gun retailers in Champaign, Ill.</td>\n",
       "    </tr>\n",
       "    <tr>\n",
       "      <th>111</th>\n",
       "      <td>Amish school shooting</td>\n",
       "      <td>Local stores in Nickel Mines, Penn.</td>\n",
       "    </tr>\n",
       "    <tr>\n",
       "      <th>115</th>\n",
       "      <td>Living Church of God shooting</td>\n",
       "      <td>Gun dealer in Waukesha, Wis.</td>\n",
       "    </tr>\n",
       "    <tr>\n",
       "      <th>120</th>\n",
       "      <td>Hotel shooting</td>\n",
       "      <td>One purchased from Big E's in Tampa, Fla.</td>\n",
       "    </tr>\n",
       "    <tr>\n",
       "      <th>123</th>\n",
       "      <td>Atlanta day trading spree killings</td>\n",
       "      <td>Glock purchased from gun store in Warner Robin...</td>\n",
       "    </tr>\n",
       "    <tr>\n",
       "      <th>128</th>\n",
       "      <td>Caltrans maintenance yard shooting</td>\n",
       "      <td>B&amp;B Gun Sales in Orange County, Calif.</td>\n",
       "    </tr>\n",
       "    <tr>\n",
       "      <th>132</th>\n",
       "      <td>Air Force base shooting</td>\n",
       "      <td>Gun dealer in Spokane, Wash.</td>\n",
       "    </tr>\n",
       "    <tr>\n",
       "      <th>138</th>\n",
       "      <td>Lindhurst High School shooting</td>\n",
       "      <td>Local gun retailer</td>\n",
       "    </tr>\n",
       "    <tr>\n",
       "      <th>139</th>\n",
       "      <td>Royal Oak postal shootings</td>\n",
       "      <td>Local gun store</td>\n",
       "    </tr>\n",
       "    <tr>\n",
       "      <th>141</th>\n",
       "      <td>Luby's massacre</td>\n",
       "      <td>Mike's Gun Shop in Henderson, Nev.</td>\n",
       "    </tr>\n",
       "    <tr>\n",
       "      <th>143</th>\n",
       "      <td>Standard Gravure shooting</td>\n",
       "      <td>AK-47 purchased from Tilford's Gun Sales in Lo...</td>\n",
       "    </tr>\n",
       "    <tr>\n",
       "      <th>145</th>\n",
       "      <td>ESL shooting</td>\n",
       "      <td>Various sporting goods and gun stores in North...</td>\n",
       "    </tr>\n",
       "    <tr>\n",
       "      <th>146</th>\n",
       "      <td>Shopping centers spree killings</td>\n",
       "      <td>Gun store in Norwood, Ohio; The Oaks Trading P...</td>\n",
       "    </tr>\n",
       "    <tr>\n",
       "      <th>150</th>\n",
       "      <td>Welding shop shooting</td>\n",
       "      <td>Garcia Gun Center in Hialeah, Fla.</td>\n",
       "    </tr>\n",
       "  </tbody>\n",
       "</table>\n",
       "</div>"
      ],
      "text/plain": [
       "                                           case  \\\n",
       "4    Jacksonville Dollar General store shooting   \n",
       "9                      Louisville bank shooting   \n",
       "45             Thousand Oaks nightclub shooting   \n",
       "49                  Fifth Third Center shooting   \n",
       "60                     Las Vegas Strip massacre   \n",
       "70                   Orlando nightclub massacre   \n",
       "78                   Charleston Church Shooting   \n",
       "82                         Fort Hood shooting 2   \n",
       "84                Washington Navy Yard shooting   \n",
       "85                   Hialeah apartment shooting   \n",
       "88                      Mohawk Valley shootings   \n",
       "93                        Seattle cafe shooting   \n",
       "94                    Oikos University killings   \n",
       "99           Hartford Beer Distributor shooting   \n",
       "101                          Fort Hood massacre   \n",
       "105       Northern Illinois University shooting   \n",
       "111                       Amish school shooting   \n",
       "115               Living Church of God shooting   \n",
       "120                              Hotel shooting   \n",
       "123          Atlanta day trading spree killings   \n",
       "128          Caltrans maintenance yard shooting   \n",
       "132                     Air Force base shooting   \n",
       "138              Lindhurst High School shooting   \n",
       "139                  Royal Oak postal shootings   \n",
       "141                             Luby's massacre   \n",
       "143                   Standard Gravure shooting   \n",
       "145                                ESL shooting   \n",
       "146             Shopping centers spree killings   \n",
       "150                       Welding shop shooting   \n",
       "\n",
       "                                        where_obtained  \n",
       "4                                     local gun stores  \n",
       "9                         gun dealership in Louisville  \n",
       "45                          A gun store in Simi Valley  \n",
       "49                                   A local gun store  \n",
       "60                             Two gun shops in Nevada  \n",
       "70          Shooting center in Port St. Lucie, Florida  \n",
       "78   Shooter's Choice gun store in West Columbia, S...  \n",
       "82             Local gun store in Killeen, Guns Galore  \n",
       "84                      Sharpshooters Small Arms Range  \n",
       "85                                  Florida Gun Center  \n",
       "88                           Frank's Guns in Marcy, NY  \n",
       "93          Bull's Eye Shooter Supply in Tacoma, Wash.  \n",
       "94                   Bullseye in Castro Valley, Calif.  \n",
       "99                   Gun dealer in East Windsor, Conn.  \n",
       "101                       Guns Galore in Kileen, Texas  \n",
       "105       Online and gun retailers in Champaign, Ill.   \n",
       "111               Local stores in Nickel Mines, Penn.   \n",
       "115                       Gun dealer in Waukesha, Wis.  \n",
       "120          One purchased from Big E's in Tampa, Fla.  \n",
       "123  Glock purchased from gun store in Warner Robin...  \n",
       "128             B&B Gun Sales in Orange County, Calif.  \n",
       "132                       Gun dealer in Spokane, Wash.  \n",
       "138                                 Local gun retailer  \n",
       "139                                    Local gun store  \n",
       "141                 Mike's Gun Shop in Henderson, Nev.  \n",
       "143  AK-47 purchased from Tilford's Gun Sales in Lo...  \n",
       "145  Various sporting goods and gun stores in North...  \n",
       "146  Gun store in Norwood, Ohio; The Oaks Trading P...  \n",
       "150                 Garcia Gun Center in Hialeah, Fla.  "
      ]
     },
     "execution_count": 55,
     "metadata": {},
     "output_type": "execute_result"
    }
   ],
   "source": [
    "# Checks the number of entries\n",
    "mjms_df.loc[mjms_df.where_obtained.str.contains(gun_store_str, case=False), ('case', 'where_obtained')]"
   ]
  },
  {
   "cell_type": "code",
   "execution_count": 56,
   "id": "1dd23fba-52c7-42ec-956b-a6d93e5396f8",
   "metadata": {},
   "outputs": [],
   "source": [
    "# Assigns the values\n",
    "mjms_df.loc[mjms_df.where_obtained.str.contains(gun_store_str, case=False), 'where_obtained_category'] = 'gun store'"
   ]
  },
  {
   "cell_type": "markdown",
   "id": "52f1e559-105b-4add-9a2e-c0c07c260c3d",
   "metadata": {},
   "source": [
    "#### Assigns Family as Category"
   ]
  },
  {
   "cell_type": "code",
   "execution_count": 57,
   "id": "f7dd3195-9e6d-4c20-9fae-b70afc56ac4d",
   "metadata": {},
   "outputs": [
    {
     "data": {
      "text/html": [
       "<div>\n",
       "<style scoped>\n",
       "    .dataframe tbody tr th:only-of-type {\n",
       "        vertical-align: middle;\n",
       "    }\n",
       "\n",
       "    .dataframe tbody tr th {\n",
       "        vertical-align: top;\n",
       "    }\n",
       "\n",
       "    .dataframe thead th {\n",
       "        text-align: right;\n",
       "    }\n",
       "</style>\n",
       "<table border=\"1\" class=\"dataframe\">\n",
       "  <thead>\n",
       "    <tr style=\"text-align: right;\">\n",
       "      <th></th>\n",
       "      <th>case</th>\n",
       "      <th>where_obtained</th>\n",
       "    </tr>\n",
       "  </thead>\n",
       "  <tbody>\n",
       "    <tr>\n",
       "      <th>51</th>\n",
       "      <td>Santa Fe High School shooting</td>\n",
       "      <td>Father's weapons</td>\n",
       "    </tr>\n",
       "    <tr>\n",
       "      <th>52</th>\n",
       "      <td>Waffle House shooting</td>\n",
       "      <td>Family member</td>\n",
       "    </tr>\n",
       "    <tr>\n",
       "      <th>76</th>\n",
       "      <td>Umpqua Community College shooting</td>\n",
       "      <td>From the home he shared with his mother. All w...</td>\n",
       "    </tr>\n",
       "    <tr>\n",
       "      <th>80</th>\n",
       "      <td>Marysville-Pilchuck High School shooting</td>\n",
       "      <td>Gun was his father's.</td>\n",
       "    </tr>\n",
       "    <tr>\n",
       "      <th>89</th>\n",
       "      <td>Sandy Hook Elementary massacre</td>\n",
       "      <td>Stolen from mother</td>\n",
       "    </tr>\n",
       "    <tr>\n",
       "      <th>107</th>\n",
       "      <td>Westroads Mall shooting</td>\n",
       "      <td>Stolen from grandfather</td>\n",
       "    </tr>\n",
       "    <tr>\n",
       "      <th>114</th>\n",
       "      <td>Red Lake massacre</td>\n",
       "      <td>Glock and Remington stolen from grandfather</td>\n",
       "    </tr>\n",
       "    <tr>\n",
       "      <th>116</th>\n",
       "      <td>Damageplan show shooting</td>\n",
       "      <td>Received as a gift from mother</td>\n",
       "    </tr>\n",
       "    <tr>\n",
       "      <th>125</th>\n",
       "      <td>Thurston High School shooting</td>\n",
       "      <td>Purchased variously from friend and father, an...</td>\n",
       "    </tr>\n",
       "    <tr>\n",
       "      <th>126</th>\n",
       "      <td>Westside Middle School killings</td>\n",
       "      <td>Stolen from grandfather and father</td>\n",
       "    </tr>\n",
       "  </tbody>\n",
       "</table>\n",
       "</div>"
      ],
      "text/plain": [
       "                                         case  \\\n",
       "51              Santa Fe High School shooting   \n",
       "52                      Waffle House shooting   \n",
       "76          Umpqua Community College shooting   \n",
       "80   Marysville-Pilchuck High School shooting   \n",
       "89             Sandy Hook Elementary massacre   \n",
       "107                   Westroads Mall shooting   \n",
       "114                         Red Lake massacre   \n",
       "116                  Damageplan show shooting   \n",
       "125             Thurston High School shooting   \n",
       "126           Westside Middle School killings   \n",
       "\n",
       "                                        where_obtained  \n",
       "51                                    Father's weapons  \n",
       "52                                       Family member  \n",
       "76   From the home he shared with his mother. All w...  \n",
       "80                               Gun was his father's.  \n",
       "89                                  Stolen from mother  \n",
       "107                            Stolen from grandfather  \n",
       "114        Glock and Remington stolen from grandfather  \n",
       "116                     Received as a gift from mother  \n",
       "125  Purchased variously from friend and father, an...  \n",
       "126                 Stolen from grandfather and father  "
      ]
     },
     "execution_count": 57,
     "metadata": {},
     "output_type": "execute_result"
    }
   ],
   "source": [
    "# Checks the number of entries\n",
    "mjms_df.loc[mjms_df.where_obtained.str.contains('family|father|mother', case=False), ('case','where_obtained')]"
   ]
  },
  {
   "cell_type": "code",
   "execution_count": 58,
   "id": "df49821d-e198-4383-aa3d-7bd6728ae26f",
   "metadata": {},
   "outputs": [],
   "source": [
    "# Assigns the values\n",
    "mjms_df.loc[mjms_df.where_obtained.str.contains('family|father|mother', case=False), 'where_obtained_category'] = 'family'"
   ]
  },
  {
   "cell_type": "markdown",
   "id": "13886829-713f-401c-993e-855e9d570d14",
   "metadata": {},
   "source": [
    "#### Assigns Stolen Category"
   ]
  },
  {
   "cell_type": "code",
   "execution_count": 59,
   "id": "a61505f7-2f33-42c3-86c3-b5ef693ec24d",
   "metadata": {},
   "outputs": [
    {
     "data": {
      "text/html": [
       "<div>\n",
       "<style scoped>\n",
       "    .dataframe tbody tr th:only-of-type {\n",
       "        vertical-align: middle;\n",
       "    }\n",
       "\n",
       "    .dataframe tbody tr th {\n",
       "        vertical-align: top;\n",
       "    }\n",
       "\n",
       "    .dataframe thead th {\n",
       "        text-align: right;\n",
       "    }\n",
       "</style>\n",
       "<table border=\"1\" class=\"dataframe\">\n",
       "  <thead>\n",
       "    <tr style=\"text-align: right;\">\n",
       "      <th></th>\n",
       "      <th>case</th>\n",
       "      <th>where_obtained</th>\n",
       "    </tr>\n",
       "  </thead>\n",
       "  <tbody>\n",
       "    <tr>\n",
       "      <th>61</th>\n",
       "      <td>San Francisco UPS shooting</td>\n",
       "      <td>Unclear; the firearm was stolen in Utah. A sec...</td>\n",
       "    </tr>\n",
       "    <tr>\n",
       "      <th>89</th>\n",
       "      <td>Sandy Hook Elementary massacre</td>\n",
       "      <td>Stolen from mother</td>\n",
       "    </tr>\n",
       "    <tr>\n",
       "      <th>100</th>\n",
       "      <td>Coffee shop police killings</td>\n",
       "      <td>Stolen from an individual in Seattle.</td>\n",
       "    </tr>\n",
       "    <tr>\n",
       "      <th>106</th>\n",
       "      <td>Kirkwood City Council shooting</td>\n",
       "      <td>Taken in burglary and from fallen police officer</td>\n",
       "    </tr>\n",
       "    <tr>\n",
       "      <th>107</th>\n",
       "      <td>Westroads Mall shooting</td>\n",
       "      <td>Stolen from grandfather</td>\n",
       "    </tr>\n",
       "    <tr>\n",
       "      <th>114</th>\n",
       "      <td>Red Lake massacre</td>\n",
       "      <td>Glock and Remington stolen from grandfather</td>\n",
       "    </tr>\n",
       "    <tr>\n",
       "      <th>125</th>\n",
       "      <td>Thurston High School shooting</td>\n",
       "      <td>Purchased variously from friend and father, an...</td>\n",
       "    </tr>\n",
       "    <tr>\n",
       "      <th>126</th>\n",
       "      <td>Westside Middle School killings</td>\n",
       "      <td>Stolen from grandfather and father</td>\n",
       "    </tr>\n",
       "  </tbody>\n",
       "</table>\n",
       "</div>"
      ],
      "text/plain": [
       "                                case  \\\n",
       "61        San Francisco UPS shooting   \n",
       "89    Sandy Hook Elementary massacre   \n",
       "100      Coffee shop police killings   \n",
       "106   Kirkwood City Council shooting   \n",
       "107          Westroads Mall shooting   \n",
       "114                Red Lake massacre   \n",
       "125    Thurston High School shooting   \n",
       "126  Westside Middle School killings   \n",
       "\n",
       "                                        where_obtained  \n",
       "61   Unclear; the firearm was stolen in Utah. A sec...  \n",
       "89                                  Stolen from mother  \n",
       "100              Stolen from an individual in Seattle.  \n",
       "106   Taken in burglary and from fallen police officer  \n",
       "107                            Stolen from grandfather  \n",
       "114        Glock and Remington stolen from grandfather  \n",
       "125  Purchased variously from friend and father, an...  \n",
       "126                 Stolen from grandfather and father  "
      ]
     },
     "execution_count": 59,
     "metadata": {},
     "output_type": "execute_result"
    }
   ],
   "source": [
    "# Checks the number of entries\n",
    "mjms_df.loc[mjms_df.where_obtained.str.contains('stole|burglary', case=False), ('case','where_obtained')]"
   ]
  },
  {
   "cell_type": "code",
   "execution_count": 60,
   "id": "b4a7c8cb-1e1c-4eff-bdd9-ddb952f1deee",
   "metadata": {},
   "outputs": [],
   "source": [
    "# Assigns the Values\n",
    "mjms_df.loc[mjms_df.where_obtained.str.contains('stole|burglary', case=False), 'where_obtained_category'] = mjms_df.loc[mjms_df.where_obtained.str.contains('stole|burglary', case=False), 'where_obtained_category'].apply( lambda x : add_category(x, 'stolen'))"
   ]
  },
  {
   "cell_type": "markdown",
   "id": "7c01f5cb-fdc6-4103-8fa9-69d84947486b",
   "metadata": {},
   "source": [
    "#### Assigns Unclear Category"
   ]
  },
  {
   "cell_type": "code",
   "execution_count": 61,
   "id": "846899ba-1e29-4f2f-af44-9a6b568e9c2d",
   "metadata": {},
   "outputs": [],
   "source": [
    "unclear_str = 'unclear|unknown|^-|tbd|Yes|United|\"greater|in Greenwood|on July 9'"
   ]
  },
  {
   "cell_type": "code",
   "execution_count": 62,
   "id": "9112fa5f-6756-4b7a-a02d-df84caf911ba",
   "metadata": {},
   "outputs": [
    {
     "data": {
      "text/html": [
       "<div>\n",
       "<style scoped>\n",
       "    .dataframe tbody tr th:only-of-type {\n",
       "        vertical-align: middle;\n",
       "    }\n",
       "\n",
       "    .dataframe tbody tr th {\n",
       "        vertical-align: top;\n",
       "    }\n",
       "\n",
       "    .dataframe thead th {\n",
       "        text-align: right;\n",
       "    }\n",
       "</style>\n",
       "<table border=\"1\" class=\"dataframe\">\n",
       "  <thead>\n",
       "    <tr style=\"text-align: right;\">\n",
       "      <th></th>\n",
       "      <th>case</th>\n",
       "      <th>where_obtained</th>\n",
       "    </tr>\n",
       "  </thead>\n",
       "  <tbody>\n",
       "    <tr>\n",
       "      <th>0</th>\n",
       "      <td>Apalachee High School shooting</td>\n",
       "      <td>-</td>\n",
       "    </tr>\n",
       "    <tr>\n",
       "      <th>1</th>\n",
       "      <td>Arkansas grocery store shooting</td>\n",
       "      <td>-</td>\n",
       "    </tr>\n",
       "    <tr>\n",
       "      <th>2</th>\n",
       "      <td>UNLV shooting</td>\n",
       "      <td>-</td>\n",
       "    </tr>\n",
       "    <tr>\n",
       "      <th>3</th>\n",
       "      <td>Maine bowling alley and bar shootings</td>\n",
       "      <td>Yes</td>\n",
       "    </tr>\n",
       "    <tr>\n",
       "      <th>5</th>\n",
       "      <td>Orange County biker bar shooting</td>\n",
       "      <td>-</td>\n",
       "    </tr>\n",
       "    <tr>\n",
       "      <th>...</th>\n",
       "      <td>...</td>\n",
       "      <td>...</td>\n",
       "    </tr>\n",
       "    <tr>\n",
       "      <th>131</th>\n",
       "      <td>Walter Rossler Company massacre</td>\n",
       "      <td>Unknown</td>\n",
       "    </tr>\n",
       "    <tr>\n",
       "      <th>133</th>\n",
       "      <td>Chuck E. Cheese's killings</td>\n",
       "      <td>Unknown</td>\n",
       "    </tr>\n",
       "    <tr>\n",
       "      <th>135</th>\n",
       "      <td>Luigi's shooting</td>\n",
       "      <td>Unknown</td>\n",
       "    </tr>\n",
       "    <tr>\n",
       "      <th>142</th>\n",
       "      <td>GMAC massacre</td>\n",
       "      <td>Unknown</td>\n",
       "    </tr>\n",
       "    <tr>\n",
       "      <th>148</th>\n",
       "      <td>San Ysidro McDonald's massacre</td>\n",
       "      <td>Unknown</td>\n",
       "    </tr>\n",
       "  </tbody>\n",
       "</table>\n",
       "<p>82 rows × 2 columns</p>\n",
       "</div>"
      ],
      "text/plain": [
       "                                      case where_obtained\n",
       "0           Apalachee High School shooting              -\n",
       "1          Arkansas grocery store shooting              -\n",
       "2                            UNLV shooting              -\n",
       "3    Maine bowling alley and bar shootings            Yes\n",
       "5         Orange County biker bar shooting              -\n",
       "..                                     ...            ...\n",
       "131        Walter Rossler Company massacre        Unknown\n",
       "133             Chuck E. Cheese's killings        Unknown\n",
       "135                       Luigi's shooting        Unknown\n",
       "142                          GMAC massacre        Unknown\n",
       "148         San Ysidro McDonald's massacre        Unknown\n",
       "\n",
       "[82 rows x 2 columns]"
      ]
     },
     "execution_count": 62,
     "metadata": {},
     "output_type": "execute_result"
    }
   ],
   "source": [
    "mjms_df.loc[mjms_df.where_obtained.str.contains(unclear_str, case=False), ('case','where_obtained')]"
   ]
  },
  {
   "cell_type": "code",
   "execution_count": 63,
   "id": "911833ae-dd76-47ff-a8f2-8552453bc60b",
   "metadata": {},
   "outputs": [],
   "source": [
    "mjms_df.loc[mjms_df.where_obtained.str.contains(unclear_str, case=False), 'where_obtained_category'] = mjms_df.loc[mjms_df.where_obtained.str.contains('unclear|unknown|^-|tbd|Yes|United|\"greater|in Greenwood|on July 9', case=False), 'where_obtained_category'].apply( lambda x : add_category(x, 'unclear/unknown'))"
   ]
  },
  {
   "cell_type": "markdown",
   "id": "0f9297a7-6d7d-4b75-b13a-9004dcd63c8f",
   "metadata": {},
   "source": [
    "#### Assign Sporting Store"
   ]
  },
  {
   "cell_type": "code",
   "execution_count": 64,
   "id": "9f4409e0-6809-436f-897d-1db342f58e7d",
   "metadata": {},
   "outputs": [],
   "source": [
    "sports_str = 'sport|Gander Mountain|Outdoorsman|Fin & Feather'"
   ]
  },
  {
   "cell_type": "code",
   "execution_count": 65,
   "id": "3a0fc626-0761-49bd-b230-f44b12fedaae",
   "metadata": {},
   "outputs": [
    {
     "data": {
      "text/html": [
       "<div>\n",
       "<style scoped>\n",
       "    .dataframe tbody tr th:only-of-type {\n",
       "        vertical-align: middle;\n",
       "    }\n",
       "\n",
       "    .dataframe tbody tr th {\n",
       "        vertical-align: top;\n",
       "    }\n",
       "\n",
       "    .dataframe thead th {\n",
       "        text-align: right;\n",
       "    }\n",
       "</style>\n",
       "<table border=\"1\" class=\"dataframe\">\n",
       "  <thead>\n",
       "    <tr style=\"text-align: right;\">\n",
       "      <th></th>\n",
       "      <th>case</th>\n",
       "      <th>where_obtained</th>\n",
       "    </tr>\n",
       "  </thead>\n",
       "  <tbody>\n",
       "    <tr>\n",
       "      <th>16</th>\n",
       "      <td>University of Virginia shooting</td>\n",
       "      <td>Dance's Sporting Goods; Colonial Heights, VA</td>\n",
       "    </tr>\n",
       "    <tr>\n",
       "      <th>57</th>\n",
       "      <td>Texas First Baptist Church massacre</td>\n",
       "      <td>Purchased in April 2016 from an Academy Sports...</td>\n",
       "    </tr>\n",
       "    <tr>\n",
       "      <th>92</th>\n",
       "      <td>Aurora theater shooting</td>\n",
       "      <td>Gander Mountain stores in Thornton and Aurora,...</td>\n",
       "    </tr>\n",
       "    <tr>\n",
       "      <th>98</th>\n",
       "      <td>Tucson shooting</td>\n",
       "      <td>Sportsmen's Warehouse in Tucson, Ariz.</td>\n",
       "    </tr>\n",
       "    <tr>\n",
       "      <th>102</th>\n",
       "      <td>Binghamton shootings</td>\n",
       "      <td>Gander Mountain in Johnson City, N.Y.</td>\n",
       "    </tr>\n",
       "    <tr>\n",
       "      <th>103</th>\n",
       "      <td>Carthage nursing home shooting</td>\n",
       "      <td>Local sporting goods stores and individuals</td>\n",
       "    </tr>\n",
       "    <tr>\n",
       "      <th>110</th>\n",
       "      <td>Trolley Square shooting</td>\n",
       "      <td>Purchased variously from Sportsman's Fast Cash...</td>\n",
       "    </tr>\n",
       "    <tr>\n",
       "      <th>112</th>\n",
       "      <td>Capitol Hill massacre</td>\n",
       "      <td>Various sporting goods stores in Kalispell, Mont.</td>\n",
       "    </tr>\n",
       "    <tr>\n",
       "      <th>118</th>\n",
       "      <td>Navistar shooting</td>\n",
       "      <td>Some purchased from Pepper Sports in Glen Elly...</td>\n",
       "    </tr>\n",
       "    <tr>\n",
       "      <th>134</th>\n",
       "      <td>Long Island Rail Road massacre</td>\n",
       "      <td>Turner's Outdoorsman in Signal Hill, Calif.</td>\n",
       "    </tr>\n",
       "    <tr>\n",
       "      <th>137</th>\n",
       "      <td>Watkins Glen killings</td>\n",
       "      <td>Mumford Sports in Litchfield, Ohio</td>\n",
       "    </tr>\n",
       "    <tr>\n",
       "      <th>140</th>\n",
       "      <td>University of Iowa shooting</td>\n",
       "      <td>Fin &amp; Feather in Iowa City, Iowa</td>\n",
       "    </tr>\n",
       "    <tr>\n",
       "      <th>145</th>\n",
       "      <td>ESL shooting</td>\n",
       "      <td>Various sporting goods and gun stores in North...</td>\n",
       "    </tr>\n",
       "  </tbody>\n",
       "</table>\n",
       "</div>"
      ],
      "text/plain": [
       "                                    case  \\\n",
       "16       University of Virginia shooting   \n",
       "57   Texas First Baptist Church massacre   \n",
       "92               Aurora theater shooting   \n",
       "98                       Tucson shooting   \n",
       "102                 Binghamton shootings   \n",
       "103       Carthage nursing home shooting   \n",
       "110              Trolley Square shooting   \n",
       "112                Capitol Hill massacre   \n",
       "118                    Navistar shooting   \n",
       "134       Long Island Rail Road massacre   \n",
       "137                Watkins Glen killings   \n",
       "140          University of Iowa shooting   \n",
       "145                         ESL shooting   \n",
       "\n",
       "                                        where_obtained  \n",
       "16        Dance's Sporting Goods; Colonial Heights, VA  \n",
       "57   Purchased in April 2016 from an Academy Sports...  \n",
       "92   Gander Mountain stores in Thornton and Aurora,...  \n",
       "98              Sportsmen's Warehouse in Tucson, Ariz.  \n",
       "102              Gander Mountain in Johnson City, N.Y.  \n",
       "103        Local sporting goods stores and individuals  \n",
       "110  Purchased variously from Sportsman's Fast Cash...  \n",
       "112  Various sporting goods stores in Kalispell, Mont.  \n",
       "118  Some purchased from Pepper Sports in Glen Elly...  \n",
       "134       Turner's Outdoorsman in Signal Hill, Calif.   \n",
       "137                 Mumford Sports in Litchfield, Ohio  \n",
       "140                   Fin & Feather in Iowa City, Iowa  \n",
       "145  Various sporting goods and gun stores in North...  "
      ]
     },
     "execution_count": 65,
     "metadata": {},
     "output_type": "execute_result"
    }
   ],
   "source": [
    "mjms_df.loc[mjms_df.where_obtained.str.contains(sports_str, case=False), ('case','where_obtained')]"
   ]
  },
  {
   "cell_type": "code",
   "execution_count": 66,
   "id": "a32c02b1-6cc1-476b-8126-62e9d46beaa3",
   "metadata": {},
   "outputs": [],
   "source": [
    "mjms_df.loc[mjms_df.where_obtained.str.contains(sports_str, case=False), 'where_obtained_category'] = mjms_df.loc[mjms_df.where_obtained.str.contains(sports_str, case=False), 'where_obtained_category'].apply( lambda x : add_category(x, 'sport'))"
   ]
  },
  {
   "cell_type": "markdown",
   "id": "b41f2993-194b-4512-af6a-efa142309894",
   "metadata": {},
   "source": [
    "#### Assign Online Category"
   ]
  },
  {
   "cell_type": "code",
   "execution_count": 67,
   "id": "2df9c057-f0ad-4f9c-9517-fb12a894469a",
   "metadata": {},
   "outputs": [
    {
     "data": {
      "text/html": [
       "<div>\n",
       "<style scoped>\n",
       "    .dataframe tbody tr th:only-of-type {\n",
       "        vertical-align: middle;\n",
       "    }\n",
       "\n",
       "    .dataframe tbody tr th {\n",
       "        vertical-align: top;\n",
       "    }\n",
       "\n",
       "    .dataframe thead th {\n",
       "        text-align: right;\n",
       "    }\n",
       "</style>\n",
       "<table border=\"1\" class=\"dataframe\">\n",
       "  <thead>\n",
       "    <tr style=\"text-align: right;\">\n",
       "      <th></th>\n",
       "      <th>case</th>\n",
       "      <th>where_obtained</th>\n",
       "    </tr>\n",
       "  </thead>\n",
       "  <tbody>\n",
       "    <tr>\n",
       "      <th>69</th>\n",
       "      <td>Dallas police shooting</td>\n",
       "      <td>online and or gun show</td>\n",
       "    </tr>\n",
       "    <tr>\n",
       "      <th>77</th>\n",
       "      <td>Chattanooga military recruitment center</td>\n",
       "      <td>On the internet, via Armslist.com</td>\n",
       "    </tr>\n",
       "    <tr>\n",
       "      <th>105</th>\n",
       "      <td>Northern Illinois University shooting</td>\n",
       "      <td>Online and gun retailers in Champaign, Ill.</td>\n",
       "    </tr>\n",
       "    <tr>\n",
       "      <th>109</th>\n",
       "      <td>Virginia Tech massacre</td>\n",
       "      <td>Purchased variously online and from Roanoke Fi...</td>\n",
       "    </tr>\n",
       "  </tbody>\n",
       "</table>\n",
       "</div>"
      ],
      "text/plain": [
       "                                        case  \\\n",
       "69                    Dallas police shooting   \n",
       "77   Chattanooga military recruitment center   \n",
       "105    Northern Illinois University shooting   \n",
       "109                   Virginia Tech massacre   \n",
       "\n",
       "                                        where_obtained  \n",
       "69                              online and or gun show  \n",
       "77                   On the internet, via Armslist.com  \n",
       "105       Online and gun retailers in Champaign, Ill.   \n",
       "109  Purchased variously online and from Roanoke Fi...  "
      ]
     },
     "execution_count": 67,
     "metadata": {},
     "output_type": "execute_result"
    }
   ],
   "source": [
    "mjms_df.loc[mjms_df.where_obtained.str.contains('online|internet', case=False), ('case','where_obtained')]"
   ]
  },
  {
   "cell_type": "code",
   "execution_count": 68,
   "id": "3950dde9-041f-4dd3-8818-acbe74634671",
   "metadata": {},
   "outputs": [],
   "source": [
    "mjms_df.loc[mjms_df.where_obtained.str.contains('online|internet', case=False), 'where_obtained_category'] = mjms_df.loc[mjms_df.where_obtained.str.contains('online|internet', case=False), 'where_obtained_category'].apply( lambda x : add_category(x, 'online'))"
   ]
  },
  {
   "cell_type": "markdown",
   "id": "69c98f99-052b-4a0d-a14b-61aef5baa9fd",
   "metadata": {},
   "source": [
    "#### Assign Pawn Shop Category"
   ]
  },
  {
   "cell_type": "code",
   "execution_count": 69,
   "id": "9a516bb2-9265-4f35-b058-661f4ae92def",
   "metadata": {},
   "outputs": [
    {
     "data": {
      "text/html": [
       "<div>\n",
       "<style scoped>\n",
       "    .dataframe tbody tr th:only-of-type {\n",
       "        vertical-align: middle;\n",
       "    }\n",
       "\n",
       "    .dataframe tbody tr th {\n",
       "        vertical-align: top;\n",
       "    }\n",
       "\n",
       "    .dataframe thead th {\n",
       "        text-align: right;\n",
       "    }\n",
       "</style>\n",
       "<table border=\"1\" class=\"dataframe\">\n",
       "  <thead>\n",
       "    <tr style=\"text-align: right;\">\n",
       "      <th></th>\n",
       "      <th>case</th>\n",
       "      <th>where_obtained</th>\n",
       "    </tr>\n",
       "  </thead>\n",
       "  <tbody>\n",
       "    <tr>\n",
       "      <th>54</th>\n",
       "      <td>Marjory Stoneman Douglas High School shooting</td>\n",
       "      <td>A Florida pawn shop</td>\n",
       "    </tr>\n",
       "    <tr>\n",
       "      <th>113</th>\n",
       "      <td>Goleta postal shootings</td>\n",
       "      <td>Pawn shops in Grants and Gallup, N.M.</td>\n",
       "    </tr>\n",
       "    <tr>\n",
       "      <th>136</th>\n",
       "      <td>101 California Street shootings</td>\n",
       "      <td>Super Pawn and Pacific Tactical Weapons, both ...</td>\n",
       "    </tr>\n",
       "    <tr>\n",
       "      <th>149</th>\n",
       "      <td>Dallas nightclub shooting</td>\n",
       "      <td>Hines Boulevard Pawn Shop in Dallas, Texas</td>\n",
       "    </tr>\n",
       "  </tbody>\n",
       "</table>\n",
       "</div>"
      ],
      "text/plain": [
       "                                              case  \\\n",
       "54   Marjory Stoneman Douglas High School shooting   \n",
       "113                        Goleta postal shootings   \n",
       "136                101 California Street shootings   \n",
       "149                      Dallas nightclub shooting   \n",
       "\n",
       "                                        where_obtained  \n",
       "54                                 A Florida pawn shop  \n",
       "113              Pawn shops in Grants and Gallup, N.M.  \n",
       "136  Super Pawn and Pacific Tactical Weapons, both ...  \n",
       "149         Hines Boulevard Pawn Shop in Dallas, Texas  "
      ]
     },
     "execution_count": 69,
     "metadata": {},
     "output_type": "execute_result"
    }
   ],
   "source": [
    "mjms_df.loc[mjms_df.where_obtained.str.contains('pawn', case=False), ('case','where_obtained')]"
   ]
  },
  {
   "cell_type": "code",
   "execution_count": 70,
   "id": "3c3f6ee2-1d3d-4f60-b281-5633d1a5534f",
   "metadata": {},
   "outputs": [],
   "source": [
    "mjms_df.loc[mjms_df.where_obtained.str.contains('pawn', case=False), 'where_obtained_category'] = mjms_df.loc[mjms_df.where_obtained.str.contains('pawn', case=False), 'where_obtained_category'].apply( lambda x : add_category(x, 'pawn'))"
   ]
  },
  {
   "cell_type": "markdown",
   "id": "52141b03-73ea-4537-b0b8-a7d7f77b9d0d",
   "metadata": {},
   "source": [
    "#### Assign Issued Category "
   ]
  },
  {
   "cell_type": "code",
   "execution_count": 71,
   "id": "0d6209b0-1e29-4d0f-bc91-f9bb60718c24",
   "metadata": {},
   "outputs": [
    {
     "data": {
      "text/html": [
       "<div>\n",
       "<style scoped>\n",
       "    .dataframe tbody tr th:only-of-type {\n",
       "        vertical-align: middle;\n",
       "    }\n",
       "\n",
       "    .dataframe tbody tr th {\n",
       "        vertical-align: top;\n",
       "    }\n",
       "\n",
       "    .dataframe thead th {\n",
       "        text-align: right;\n",
       "    }\n",
       "</style>\n",
       "<table border=\"1\" class=\"dataframe\">\n",
       "  <thead>\n",
       "    <tr style=\"text-align: right;\">\n",
       "      <th></th>\n",
       "      <th>case</th>\n",
       "      <th>where_obtained</th>\n",
       "    </tr>\n",
       "  </thead>\n",
       "  <tbody>\n",
       "    <tr>\n",
       "      <th>108</th>\n",
       "      <td>Crandon shooting</td>\n",
       "      <td>Issued by Forest County Sheriff's Department</td>\n",
       "    </tr>\n",
       "    <tr>\n",
       "      <th>147</th>\n",
       "      <td>United States Postal Service shooting</td>\n",
       "      <td>Issued by Oklahoma National Guard, where Sherr...</td>\n",
       "    </tr>\n",
       "  </tbody>\n",
       "</table>\n",
       "</div>"
      ],
      "text/plain": [
       "                                      case  \\\n",
       "108                       Crandon shooting   \n",
       "147  United States Postal Service shooting   \n",
       "\n",
       "                                        where_obtained  \n",
       "108       Issued by Forest County Sheriff's Department  \n",
       "147  Issued by Oklahoma National Guard, where Sherr...  "
      ]
     },
     "execution_count": 71,
     "metadata": {},
     "output_type": "execute_result"
    }
   ],
   "source": [
    "mjms_df.loc[mjms_df.where_obtained.str.contains('issue', case=False), ('case','where_obtained')]"
   ]
  },
  {
   "cell_type": "code",
   "execution_count": 72,
   "id": "7cbc2cb7-61ab-4b87-96c9-e9ae869145d8",
   "metadata": {},
   "outputs": [],
   "source": [
    "mjms_df.loc[mjms_df.where_obtained.str.contains('issue', case=False), 'where_obtained_category'] = mjms_df.loc[mjms_df.where_obtained.str.contains('issue', case=False), 'where_obtained_category'].apply( lambda x : add_category(x, 'issued'))"
   ]
  },
  {
   "cell_type": "markdown",
   "id": "15927372-00a1-4590-80f2-d9357207927d",
   "metadata": {},
   "source": [
    "#### Assign Assembled Category"
   ]
  },
  {
   "cell_type": "code",
   "execution_count": 73,
   "id": "65efb8f9-930d-4e07-93fb-e4b386a97508",
   "metadata": {},
   "outputs": [
    {
     "data": {
      "text/html": [
       "<div>\n",
       "<style scoped>\n",
       "    .dataframe tbody tr th:only-of-type {\n",
       "        vertical-align: middle;\n",
       "    }\n",
       "\n",
       "    .dataframe tbody tr th {\n",
       "        vertical-align: top;\n",
       "    }\n",
       "\n",
       "    .dataframe thead th {\n",
       "        text-align: right;\n",
       "    }\n",
       "</style>\n",
       "<table border=\"1\" class=\"dataframe\">\n",
       "  <thead>\n",
       "    <tr style=\"text-align: right;\">\n",
       "      <th></th>\n",
       "      <th>case</th>\n",
       "      <th>where_obtained</th>\n",
       "    </tr>\n",
       "  </thead>\n",
       "  <tbody>\n",
       "    <tr>\n",
       "      <th>86</th>\n",
       "      <td>Santa Monica rampage</td>\n",
       "      <td>Assembled a rifle out of component parts.</td>\n",
       "    </tr>\n",
       "  </tbody>\n",
       "</table>\n",
       "</div>"
      ],
      "text/plain": [
       "                    case                             where_obtained\n",
       "86  Santa Monica rampage  Assembled a rifle out of component parts."
      ]
     },
     "execution_count": 73,
     "metadata": {},
     "output_type": "execute_result"
    }
   ],
   "source": [
    "mjms_df.loc[mjms_df.where_obtained.str.contains('Assembled', case=False), ('case','where_obtained')]"
   ]
  },
  {
   "cell_type": "code",
   "execution_count": 74,
   "id": "f1868a87-4ade-43ea-8eac-1cd19205a1e6",
   "metadata": {},
   "outputs": [],
   "source": [
    "mjms_df.loc[mjms_df.where_obtained.str.contains('Assembled', case=False), 'where_obtained_category'] = mjms_df.loc[mjms_df.where_obtained.str.contains('Assembled', case=False), 'where_obtained_category'].apply( lambda x : add_category(x, 'assembled'))"
   ]
  },
  {
   "cell_type": "markdown",
   "id": "298472ba-5ad0-4d38-a74a-e1196ff38e2a",
   "metadata": {},
   "source": [
    "#### Assign Individual Category"
   ]
  },
  {
   "cell_type": "code",
   "execution_count": 75,
   "id": "b6c89282-5970-4d3c-b2ce-1f5d260a936d",
   "metadata": {},
   "outputs": [
    {
     "data": {
      "text/html": [
       "<div>\n",
       "<style scoped>\n",
       "    .dataframe tbody tr th:only-of-type {\n",
       "        vertical-align: middle;\n",
       "    }\n",
       "\n",
       "    .dataframe tbody tr th {\n",
       "        vertical-align: top;\n",
       "    }\n",
       "\n",
       "    .dataframe thead th {\n",
       "        text-align: right;\n",
       "    }\n",
       "</style>\n",
       "<table border=\"1\" class=\"dataframe\">\n",
       "  <thead>\n",
       "    <tr style=\"text-align: right;\">\n",
       "      <th></th>\n",
       "      <th>case</th>\n",
       "      <th>where_obtained</th>\n",
       "    </tr>\n",
       "  </thead>\n",
       "  <tbody>\n",
       "    <tr>\n",
       "      <th>97</th>\n",
       "      <td>IHOP shooting</td>\n",
       "      <td>Purchased from an individual</td>\n",
       "    </tr>\n",
       "    <tr>\n",
       "      <th>117</th>\n",
       "      <td>Lockheed Martin shooting</td>\n",
       "      <td>Purchased from an individual</td>\n",
       "    </tr>\n",
       "  </tbody>\n",
       "</table>\n",
       "</div>"
      ],
      "text/plain": [
       "                         case                where_obtained\n",
       "97              IHOP shooting  Purchased from an individual\n",
       "117  Lockheed Martin shooting  Purchased from an individual"
      ]
     },
     "execution_count": 75,
     "metadata": {},
     "output_type": "execute_result"
    }
   ],
   "source": [
    "mjms_df.loc[mjms_df.where_obtained.str.contains('Purchased from an individual', case=False), ('case','where_obtained')]"
   ]
  },
  {
   "cell_type": "code",
   "execution_count": 76,
   "id": "678b12c1-9ff6-420e-b2dd-aa0198f36bfd",
   "metadata": {},
   "outputs": [],
   "source": [
    "mjms_df.loc[mjms_df.where_obtained.str.contains('Purchased from an individual', case=False), 'where_obtained_category'] = mjms_df.loc[mjms_df.where_obtained.str.contains('Purchased from an individual', case=False), 'where_obtained_category'].apply( lambda x : add_category(x, 'individual'))"
   ]
  },
  {
   "cell_type": "markdown",
   "id": "9aee787f-fefb-4190-90f2-038ee0696c7a",
   "metadata": {},
   "source": [
    "#### Other"
   ]
  },
  {
   "cell_type": "code",
   "execution_count": 77,
   "id": "ed5aeb1b-c617-43f6-9d72-2962f8bbff79",
   "metadata": {},
   "outputs": [],
   "source": [
    "other_str = 'Sandy Trading Post in Sandy|Tanner Gun Show|flea market|Hunting Supplies of Hawaii'"
   ]
  },
  {
   "cell_type": "code",
   "execution_count": 78,
   "id": "f17d998c-1443-450a-994b-88411e999a47",
   "metadata": {},
   "outputs": [
    {
     "data": {
      "text/html": [
       "<div>\n",
       "<style scoped>\n",
       "    .dataframe tbody tr th:only-of-type {\n",
       "        vertical-align: middle;\n",
       "    }\n",
       "\n",
       "    .dataframe tbody tr th {\n",
       "        vertical-align: top;\n",
       "    }\n",
       "\n",
       "    .dataframe thead th {\n",
       "        text-align: right;\n",
       "    }\n",
       "</style>\n",
       "<table border=\"1\" class=\"dataframe\">\n",
       "  <thead>\n",
       "    <tr style=\"text-align: right;\">\n",
       "      <th></th>\n",
       "      <th>case</th>\n",
       "      <th>where_obtained</th>\n",
       "    </tr>\n",
       "  </thead>\n",
       "  <tbody>\n",
       "    <tr>\n",
       "      <th>121</th>\n",
       "      <td>Xerox killings</td>\n",
       "      <td>Hunting Supplies of Hawaii (The Armory) in Hon...</td>\n",
       "    </tr>\n",
       "    <tr>\n",
       "      <th>122</th>\n",
       "      <td>Wedgwood Baptist Church shooting</td>\n",
       "      <td>Trader's Village flea market in Grand Prairie,...</td>\n",
       "    </tr>\n",
       "    <tr>\n",
       "      <th>124</th>\n",
       "      <td>Columbine High School massacre</td>\n",
       "      <td>Purchased variously at Tanner Gun Show in Denv...</td>\n",
       "    </tr>\n",
       "    <tr>\n",
       "      <th>144</th>\n",
       "      <td>Stockton schoolyard shooting</td>\n",
       "      <td>Sandy Trading Post in Sandy, Ore.; Hunter Loan...</td>\n",
       "    </tr>\n",
       "  </tbody>\n",
       "</table>\n",
       "</div>"
      ],
      "text/plain": [
       "                                 case  \\\n",
       "121                    Xerox killings   \n",
       "122  Wedgwood Baptist Church shooting   \n",
       "124    Columbine High School massacre   \n",
       "144      Stockton schoolyard shooting   \n",
       "\n",
       "                                        where_obtained  \n",
       "121  Hunting Supplies of Hawaii (The Armory) in Hon...  \n",
       "122  Trader's Village flea market in Grand Prairie,...  \n",
       "124  Purchased variously at Tanner Gun Show in Denv...  \n",
       "144  Sandy Trading Post in Sandy, Ore.; Hunter Loan...  "
      ]
     },
     "execution_count": 78,
     "metadata": {},
     "output_type": "execute_result"
    }
   ],
   "source": [
    "mjms_df.loc[mjms_df.where_obtained.str.contains(other_str, case=False), ('case','where_obtained')]"
   ]
  },
  {
   "cell_type": "code",
   "execution_count": 79,
   "id": "03e3e805-9e3a-479d-bd2a-49f8745576f5",
   "metadata": {},
   "outputs": [],
   "source": [
    "mjms_df.loc[mjms_df.where_obtained.str.contains(other_str, case=False), 'where_obtained_category'] = mjms_df.loc[mjms_df.where_obtained.str.contains(other_str, case=False), 'where_obtained_category'].apply( lambda x : add_category(x, 'other'))"
   ]
  },
  {
   "cell_type": "markdown",
   "id": "cd43afc1-56b4-4d64-a37d-6cc395ba123e",
   "metadata": {},
   "source": [
    "#### Verify Obtained Category"
   ]
  },
  {
   "cell_type": "code",
   "execution_count": 80,
   "id": "68b67538-96ac-4012-ae53-1d4bc454cd5c",
   "metadata": {},
   "outputs": [
    {
     "data": {
      "text/plain": [
       "array(['unclear/unknown', 'gun store', 'sport', 'family', 'pawn',\n",
       "       'stolen, unclear/unknown', 'online', 'assembled', 'family, stolen',\n",
       "       'individual', 'stolen', 'gun store, online', 'issued', 'other',\n",
       "       'gun store, sport'], dtype=object)"
      ]
     },
     "execution_count": 80,
     "metadata": {},
     "output_type": "execute_result"
    }
   ],
   "source": [
    "mjms_df['where_obtained_category'].apply(lambda x: ', '.join(x) if isinstance(x, list) else x).unique()"
   ]
  },
  {
   "cell_type": "markdown",
   "id": "b99b58b6-229a-4a3b-b350-70b090794bf8",
   "metadata": {},
   "source": [
    "### Stores Data as CSV\n",
    "If the user wants a clean copy of the data, they can store it as a CSV by uncommenting this line and adjusting the file path."
   ]
  },
  {
   "cell_type": "code",
   "execution_count": 86,
   "id": "584e7ebc-c673-46c9-aecd-521d2c635a7a",
   "metadata": {},
   "outputs": [],
   "source": [
    "# mjms_df.to_csv('../Data/clead_mjms_data.csv', index=False)"
   ]
  },
  {
   "cell_type": "markdown",
   "id": "52566840-a5a9-4a8a-94cb-ffc9ac655946",
   "metadata": {},
   "source": [
    "## Examples With Clean Data\n",
    "Shows the benefit of cleaning data"
   ]
  },
  {
   "cell_type": "code",
   "execution_count": 82,
   "id": "e7a69de0-8477-4db3-8c14-32a0d0428d05",
   "metadata": {},
   "outputs": [
    {
     "data": {
      "text/plain": [
       "state\n",
       "California    26\n",
       "Florida       13\n",
       "Texas         13\n",
       "Colorado       8\n",
       "Washington     7\n",
       "Name: count, dtype: int64"
      ]
     },
     "execution_count": 82,
     "metadata": {},
     "output_type": "execute_result"
    }
   ],
   "source": [
    "# Sorts Shootings by state and returns the top 5 states by number of shootings\n",
    "mjms_df.state.value_counts().head(5)"
   ]
  },
  {
   "cell_type": "code",
   "execution_count": 83,
   "id": "8dcd6f71-8647-4448-a29a-6b904dbe23cc",
   "metadata": {},
   "outputs": [
    {
     "data": {
      "image/png": "[encoded data removed]",
      "text/plain": [
       "<Figure size 3840x2880 with 1 Axes>"
      ]
     },
     "metadata": {},
     "output_type": "display_data"
    }
   ],
   "source": [
    "plt.figure(dpi=600)\n",
    "mjms_df.state.value_counts().head(10).plot(kind='bar')\n",
    "plt.title('Top Ten States by Number of Shootings')\n",
    "plt.xlabel('State')\n",
    "plt.ylabel('Count')\n",
    "plt.xticks(rotation=45)\n",
    "plt.tight_layout()\n",
    "plt.show()"
   ]
  },
  {
   "cell_type": "code",
   "execution_count": 84,
   "id": "d7c3b0a3-c405-41f4-8009-be9a22722552",
   "metadata": {},
   "outputs": [
    {
     "data": {
      "image/png": "[encoded data removed]",
      "text/plain": [
       "<Figure size 3840x2880 with 1 Axes>"
      ]
     },
     "metadata": {},
     "output_type": "display_data"
    }
   ],
   "source": [
    "# Sorts Shootings by fatalities and returns the top 10 states by fatalities\n",
    "plt.figure(dpi=600)\n",
    "mjms_df.groupby('state')['fatalities'].sum().sort_values(ascending=False).head(10).plot(kind='bar')\n",
    "plt.title('Top Ten States by Shooting Fatalities')\n",
    "plt.xlabel('State')\n",
    "plt.ylabel('Count')\n",
    "plt.xticks(rotation=45)\n",
    "plt.tight_layout()\n",
    "plt.show()"
   ]
  },
  {
   "cell_type": "code",
   "execution_count": null,
   "id": "e80467af-a0fc-49df-a1b5-11ca32ed24bc",
   "metadata": {},
   "outputs": [],
   "source": []
  },
  {
   "cell_type": "code",
   "execution_count": null,
   "id": "53a6e97e-1821-47ee-8866-9136bd7f899f",
   "metadata": {},
   "outputs": [],
   "source": []
  },
  {
   "cell_type": "code",
   "execution_count": null,
   "id": "53eea368-bc69-4fe8-8be9-427b741428f6",
   "metadata": {},
   "outputs": [],
   "source": []
  },
  {
   "cell_type": "code",
   "execution_count": null,
   "id": "41d869cd-fe3b-42f0-80af-5e70a9e6b93a",
   "metadata": {},
   "outputs": [],
   "source": []
  },
  {
   "cell_type": "code",
   "execution_count": null,
   "id": "f660b71a-9dd4-4769-8682-97bad7900f73",
   "metadata": {},
   "outputs": [],
   "source": []
  }
 ],
 "metadata": {
  "kernelspec": {
   "display_name": "Python 3 (ipykernel)",
   "language": "python",
   "name": "python3"
  },
  "language_info": {
   "codemirror_mode": {
    "name": "ipython",
    "version": 3
   },
   "file_extension": ".py",
   "mimetype": "text/x-python",
   "name": "python",
   "nbconvert_exporter": "python",
   "pygments_lexer": "ipython3",
   "version": "3.11.9"
  }
 },
 "nbformat": 4,
 "nbformat_minor": 5
}
