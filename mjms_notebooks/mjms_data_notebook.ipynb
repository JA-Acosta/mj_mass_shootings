{
 "cells": [
  {
   "cell_type": "markdown",
   "id": "8baa6183-1f4e-4069-8291-db609ae23f18",
   "metadata": {},
   "source": [
    "# Mother Jones Mass Shooting Data Cleaning\n",
    "### Authors: Joe Acosta\n",
    "Imports the initial data collected by the mother jones foundation and cleans the data. The data is currently being imported directly from the website and are being cleaned such that future research can expand on their findings.\n",
    "\n",
    "Mother Jones Initial Data: https://www.motherjones.com/politics/2012/12/mass-shootings-mother-jones-full-data/"
   ]
  },
  {
   "cell_type": "code",
   "execution_count": 1,
   "id": "8b6fa6ae-e98c-4853-9e81-ea6ce28dace9",
   "metadata": {},
   "outputs": [],
   "source": [
    "import pandas as pd\n",
    "import numpy as np\n",
    "# import re"
   ]
  },
  {
   "cell_type": "markdown",
   "id": "fbdeeb8d-9b07-4fed-b55f-61b19fe5f34a",
   "metadata": {},
   "source": [
    "## Initial Data Import\n",
    "Creates a Pandas DataFrame given the link to the initial data.\n",
    "Verifies the data types and corrects any discrepencies."
   ]
  },
  {
   "cell_type": "code",
   "execution_count": 2,
   "id": "74aab1a4-49a0-493e-9022-6877aa78a3e3",
   "metadata": {},
   "outputs": [],
   "source": [
    "mj_url = 'https://docs.google.com/spreadsheets/d/e/2PACX-1vQBEbQoWMn_P81DuwmlQC0_jr2sJDzkkC0mvF6WLcM53ZYXi8RMfUlunvP1B5W0jRrJvH-wc-WGjDB1/pub?gid=0&single=true&output=csv'\n",
    "mjms_df = pd.read_csv(mj_url)"
   ]
  },
  {
   "cell_type": "code",
   "execution_count": 3,
   "id": "d2727240-74a9-4357-8c42-ee322ed26ef2",
   "metadata": {},
   "outputs": [
    {
     "name": "stdout",
     "output_type": "stream",
     "text": [
      "<class 'pandas.core.frame.DataFrame'>\n",
      "RangeIndex: 151 entries, 0 to 150\n",
      "Data columns (total 24 columns):\n",
      " #   Column                            Non-Null Count  Dtype \n",
      "---  ------                            --------------  ----- \n",
      " 0   case                              151 non-null    object\n",
      " 1   location                          151 non-null    object\n",
      " 2   date                              151 non-null    object\n",
      " 3   summary                           151 non-null    object\n",
      " 4   fatalities                        151 non-null    int64 \n",
      " 5   injured                           151 non-null    int64 \n",
      " 6   total_victims                     151 non-null    int64 \n",
      " 7   location.1                        151 non-null    object\n",
      " 8   age_of_shooter                    151 non-null    object\n",
      " 9   prior_signs_mental_health_issues  151 non-null    object\n",
      " 10  mental_health_details             151 non-null    object\n",
      " 11  weapons_obtained_legally          151 non-null    object\n",
      " 12  where_obtained                    151 non-null    object\n",
      " 13  weapon_type                       151 non-null    object\n",
      " 14  weapon_details                    150 non-null    object\n",
      " 15  race                              151 non-null    object\n",
      " 16  gender                            151 non-null    object\n",
      " 17  sources                           151 non-null    object\n",
      " 18  mental_health_sources             151 non-null    object\n",
      " 19  sources_additional_age            151 non-null    object\n",
      " 20  latitude                          151 non-null    object\n",
      " 21  longitude                         151 non-null    object\n",
      " 22  type                              151 non-null    object\n",
      " 23  year                              151 non-null    int64 \n",
      "dtypes: int64(4), object(20)\n",
      "memory usage: 28.4+ KB\n"
     ]
    }
   ],
   "source": [
    "mjms_df.info()"
   ]
  },
  {
   "cell_type": "code",
   "execution_count": 4,
   "id": "e818d844-66d5-4bf9-9469-b114f032f366",
   "metadata": {},
   "outputs": [],
   "source": [
    "def update_year(date, year) :\n",
    "    '''\n",
    "    // Include into the doc created\n",
    "    '''\n",
    "    _month_day = '/'.join(date.split('/')[:2])\n",
    "    _date = _month_day + '/' + year\n",
    "    return _date"
   ]
  },
  {
   "cell_type": "code",
   "execution_count": 5,
   "id": "ffc34762-30a8-41d2-a296-3aecef25a3b5",
   "metadata": {},
   "outputs": [],
   "source": [
    "# Converts date to mm-dd-yyyy using year column\n",
    "mjms_df.date = mjms_df.apply(lambda row: update_year(row.date, str(row.year)), axis=1)\n",
    "\n",
    "# Converts date series to pd date type\n",
    "mjms_df.date = pd.to_datetime(mjms_df.date).dt.date\n",
    "\n",
    "# Drops the year column\n",
    "mjms_df = mjms_df.drop('year', axis=1)"
   ]
  },
  {
   "cell_type": "code",
   "execution_count": 7,
   "id": "56e1e1b3-df21-48fe-accf-f946f3e6de0b",
   "metadata": {},
   "outputs": [
    {
     "name": "stdout",
     "output_type": "stream",
     "text": [
      "<class 'pandas.core.frame.DataFrame'>\n",
      "RangeIndex: 151 entries, 0 to 150\n",
      "Data columns (total 23 columns):\n",
      " #   Column                            Non-Null Count  Dtype \n",
      "---  ------                            --------------  ----- \n",
      " 0   case                              151 non-null    object\n",
      " 1   location                          151 non-null    object\n",
      " 2   date                              151 non-null    object\n",
      " 3   summary                           151 non-null    object\n",
      " 4   fatalities                        151 non-null    int64 \n",
      " 5   injured                           151 non-null    int64 \n",
      " 6   total_victims                     151 non-null    int64 \n",
      " 7   location.1                        151 non-null    object\n",
      " 8   age_of_shooter                    151 non-null    object\n",
      " 9   prior_signs_mental_health_issues  151 non-null    object\n",
      " 10  mental_health_details             151 non-null    object\n",
      " 11  weapons_obtained_legally          151 non-null    object\n",
      " 12  where_obtained                    151 non-null    object\n",
      " 13  weapon_type                       151 non-null    object\n",
      " 14  weapon_details                    150 non-null    object\n",
      " 15  race                              151 non-null    object\n",
      " 16  gender                            151 non-null    object\n",
      " 17  sources                           151 non-null    object\n",
      " 18  mental_health_sources             151 non-null    object\n",
      " 19  sources_additional_age            151 non-null    object\n",
      " 20  latitude                          151 non-null    object\n",
      " 21  longitude                         151 non-null    object\n",
      " 22  type                              151 non-null    object\n",
      "dtypes: int64(3), object(20)\n",
      "memory usage: 27.3+ KB\n"
     ]
    }
   ],
   "source": [
    "mjms_df.info()"
   ]
  },
  {
   "cell_type": "code",
   "execution_count": null,
   "id": "6efc4177-606c-46cc-8302-e5bef6f92ba1",
   "metadata": {},
   "outputs": [],
   "source": [
    " 4   fatalities                        151 non-null    int64 \n",
    " 5   injured                           151 non-null    int64 \n",
    " 6   total_victims                     151 non-null    int64\n",
    "     age_of_shooter                    151 non-null    object\n",
    " 9   prior_signs_mental_health_issues  151 non-null    object"
   ]
  },
  {
   "cell_type": "code",
   "execution_count": null,
   "id": "db819d09-2a50-4889-9f8c-bcec331e1ad7",
   "metadata": {},
   "outputs": [],
   "source": []
  }
 ],
 "metadata": {
  "kernelspec": {
   "display_name": "Python 3 (ipykernel)",
   "language": "python",
   "name": "python3"
  },
  "language_info": {
   "codemirror_mode": {
    "name": "ipython",
    "version": 3
   },
   "file_extension": ".py",
   "mimetype": "text/x-python",
   "name": "python",
   "nbconvert_exporter": "python",
   "pygments_lexer": "ipython3",
   "version": "3.11.9"
  }
 },
 "nbformat": 4,
 "nbformat_minor": 5
}
